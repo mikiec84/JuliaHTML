{
 "metadata": {
  "language": "Julia",
  "name": ""
 },
 "nbformat": 3,
 "nbformat_minor": 0,
 "worksheets": [
  {
   "cells": [
    {
     "cell_type": "code",
     "collapsed": false,
     "input": [
      "import RDatasets\n",
      "import DataFrames\n",
      "import Clustering\n",
      "import SVM\n",
      "import DecisionTree"
     ],
     "language": "python",
     "metadata": {},
     "outputs": [],
     "prompt_number": 2
    },
    {
     "cell_type": "code",
     "collapsed": false,
     "input": [
      "# read data\n",
      "iris = RDatasets.data(\"datasets\",\"iris\");\n",
      "features = matrix(iris[:,2:5]);\n",
      "labels = matrix(iris)[:,6];\n",
      "sz,ft = size(features);\n",
      "train = randbool(sz)\n",
      "test = !train;"
     ],
     "language": "python",
     "metadata": {},
     "outputs": [],
     "prompt_number": 2
    },
    {
     "cell_type": "heading",
     "level": 2,
     "metadata": {},
     "source": [
      "K-means Clustering"
     ]
    },
    {
     "cell_type": "code",
     "collapsed": false,
     "input": [
      "nc=3\n",
      "km=Clustering.kmeans(features',nc);\n",
      "centers=km.centers;"
     ],
     "language": "python",
     "metadata": {},
     "outputs": [
      {
       "output_type": "stream",
       "stream": "stdout",
       "text": [
        "  "
       ]
      },
      {
       "output_type": "stream",
       "stream": "stdout",
       "text": [
        "Iters               objv        objv-change | affected \n",
        "-------------------------------------------------------------\n",
        " "
       ]
      },
      {
       "output_type": "stream",
       "stream": "stdout",
       "text": [
        "     1       7.934436e+01      -4.673564e+01 |        2\n",
        "      2       7.892131e+01      -4.230544e-01 |        2\n",
        "      3       7.885567e+01      -6.564390e-02 |        0\n",
        "      4       7.885567e+01       0.000000e+00 |        0\n",
        "K-means converged with 4 iterations (objv = 78.85566582597681)\n"
       ]
      }
     ],
     "prompt_number": 2
    },
    {
     "cell_type": "code",
     "collapsed": false,
     "input": [
      "km.centers"
     ],
     "language": "python",
     "metadata": {},
     "outputs": [
      {
       "metadata": {},
       "output_type": "pyout",
       "prompt_number": 3,
       "text": [
        "4x3 Array{Float64,2}:\n",
        " 6.85385  5.88361  5.006\n",
        " 3.07692  2.74098  3.428\n",
        " 5.71538  4.38852  1.462\n",
        " 2.05385  1.43443  0.246"
       ]
      }
     ],
     "prompt_number": 3
    },
    {
     "cell_type": "heading",
     "level": 2,
     "metadata": {},
     "source": [
      "SVM"
     ]
    },
    {
     "cell_type": "code",
     "collapsed": false,
     "input": [
      "Y = [species == \"versicolor\" ? 1.0 : -1.0 for species in iris[:, \"Species\"]];\n",
      "X=features'\n",
      "model=SVM.svm(X[:,train],Y[train])\n",
      "prediction=SVM.predict(model, X[:,test])\n",
      "DecisionTree.confusion_matrix(prediction,Y[test])"
     ],
     "language": "python",
     "metadata": {},
     "outputs": [
      {
       "metadata": {},
       "output_type": "pyout",
       "prompt_number": 10,
       "text": [
        "Classes:  [-1.0,1.0]\n",
        "Matrix:   2x2 Array{Int64,2}:\n",
        " 53  25\n",
        "  0   0\n",
        "Accuracy: 0.6794871794871795\n",
        "Kappa:    0.0"
       ]
      }
     ],
     "prompt_number": 10
    },
    {
     "cell_type": "heading",
     "level": 2,
     "metadata": {},
     "source": [
      "Random Forest"
     ]
    },
    {
     "cell_type": "code",
     "collapsed": false,
     "input": [
      "modelrf=DecisionTree.build_forest(labels[train],features[train,:],4,30);\n",
      "predrf=DecisionTree.apply_forest(modelrf,features[test,:]);\n",
      "println(DecisionTree.confusion_matrix(labels[test],predrf));"
     ],
     "language": "python",
     "metadata": {},
     "outputs": [
      {
       "output_type": "stream",
       "stream": "stdout",
       "text": [
        "Classes:  {"
       ]
      },
      {
       "output_type": "stream",
       "stream": "stdout",
       "text": [
        "\"setosa\",\"versicolor\",\"virginica\"}\n",
        "Matrix:   3x3 Array{Int64,2}:\n",
        " 27   0   0\n",
        "  0  24   1\n",
        "  0   3  23\n",
        "Accuracy: 0.9487179487179487\n",
        "Kappa:    0.923076923076923\n"
       ]
      }
     ],
     "prompt_number": 10
    },
    {
     "cell_type": "code",
     "collapsed": false,
     "input": [
      "accuracyrf = DecisionTree.nfoldCV_forest(labels, features, 4, 30, 50);"
     ],
     "language": "python",
     "metadata": {},
     "outputs": [
      {
       "output_type": "stream",
       "stream": "stdout",
       "text": [
        "21\n",
        "Classes:  {\"versicolor\"}\n",
        "Matrix:   1x1 Array{Int64,2}:\n",
        " 1\n",
        "Accuracy: 1.0\n",
        "Kappa:    NaN\n",
        "\n",
        "Fold "
       ]
      },
      {
       "output_type": "stream",
       "stream": "stdout",
       "text": [
        "22\n",
        "Classes:  {\"virginica\"}\n",
        "Matrix:   1x1 Array{Int64,2}:\n",
        " 1\n",
        "Accuracy: 1.0\n",
        "Kappa:    NaN\n",
        "\n",
        "Fold "
       ]
      },
      {
       "output_type": "stream",
       "stream": "stdout",
       "text": [
        "23\n",
        "Classes:  {\"virginica\"}\n",
        "Matrix:   1x1 Array{Int64,2}:\n",
        " 1\n",
        "Accuracy: 1.0\n",
        "Kappa:    NaN\n",
        "\n",
        "Fold "
       ]
      },
      {
       "output_type": "stream",
       "stream": "stdout",
       "text": [
        "24\n",
        "Classes:  {\"versicolor\",\"virginica\"}\n",
        "Matrix:   2x2 Array{Int64,2}:\n",
        " 0  1\n",
        " 0  0\n",
        "Accuracy: 0.0\n",
        "Kappa:    0.0\n",
        "\n",
        "Fold "
       ]
      },
      {
       "output_type": "stream",
       "stream": "stdout",
       "text": [
        "25\n",
        "Classes:  {\"versicolor\"}\n",
        "Matrix:   1x1 Array{Int64,2}:\n",
        " 1\n",
        "Accuracy: 1.0\n",
        "Kappa:    NaN\n",
        "\n",
        "Fold "
       ]
      },
      {
       "output_type": "stream",
       "stream": "stdout",
       "text": [
        "26\n",
        "Classes:  {\"versicolor\",\"virginica\"}\n",
        "Matrix:   2x2 Array{Int64,2}:\n",
        " 0  1\n",
        " 0  0\n",
        "Accuracy: 0.0\n",
        "Kappa:    0.0\n",
        "\n",
        "Fold "
       ]
      },
      {
       "output_type": "stream",
       "stream": "stdout",
       "text": [
        "27\n",
        "Classes:  {\"versicolor\"}\n",
        "Matrix:   1x1 Array{Int64,2}:\n",
        " 1\n",
        "Accuracy: 1.0\n",
        "Kappa:    NaN\n",
        "\n",
        "Fold "
       ]
      },
      {
       "output_type": "stream",
       "stream": "stdout",
       "text": [
        "28\n",
        "Classes:  {\"setosa\"}\n",
        "Matrix:   1x1 Array{Int64,2}:\n",
        " 1\n",
        "Accuracy: 1.0\n",
        "Kappa:    NaN\n",
        "\n",
        "Fold "
       ]
      },
      {
       "output_type": "stream",
       "stream": "stdout",
       "text": [
        "29\n",
        "Classes:  {\"versicolor\"}\n",
        "Matrix:   1x1 Array{Int64,2}:\n",
        " 1\n",
        "Accuracy: 1.0\n",
        "Kappa:    NaN\n",
        "\n",
        "Fold "
       ]
      },
      {
       "output_type": "stream",
       "stream": "stdout",
       "text": [
        "30\n",
        "Classes:  {\"setosa\"}\n",
        "Matrix:   1x1 Array{Int64,2}:\n",
        " 1\n",
        "Accuracy: 1.0\n",
        "Kappa:    NaN\n",
        "\n",
        "Fold "
       ]
      },
      {
       "output_type": "stream",
       "stream": "stdout",
       "text": [
        "31\n",
        "Classes:  {\"versicolor\"}\n",
        "Matrix:   1x1 Array{Int64,2}:\n",
        " 1\n",
        "Accuracy: 1.0\n",
        "Kappa:    NaN\n",
        "\n",
        "Fold "
       ]
      },
      {
       "output_type": "stream",
       "stream": "stdout",
       "text": [
        "32\n",
        "Classes:  {\"versicolor\"}\n",
        "Matrix:   1x1 Array{Int64,2}:\n",
        " 1\n",
        "Accuracy: 1.0\n",
        "Kappa:    NaN\n",
        "\n",
        "Fold "
       ]
      },
      {
       "output_type": "stream",
       "stream": "stdout",
       "text": [
        "33\n",
        "Classes:  {\"virginica\"}\n",
        "Matrix:   1x1 Array{Int64,2}:\n",
        " 1\n",
        "Accuracy: 1.0\n",
        "Kappa:    NaN\n",
        "\n",
        "Fold "
       ]
      },
      {
       "output_type": "stream",
       "stream": "stdout",
       "text": [
        "34\n",
        "Classes:  {\"virginica\"}\n",
        "Matrix:   1x1 Array{Int64,2}:\n",
        " 1\n",
        "Accuracy: 1.0\n",
        "Kappa:    NaN\n",
        "\n",
        "Fold "
       ]
      },
      {
       "output_type": "stream",
       "stream": "stdout",
       "text": [
        "35\n",
        "Classes:  {\"virginica\"}\n",
        "Matrix:   1x1 Array{Int64,2}:\n",
        " 1\n",
        "Accuracy: 1.0\n",
        "Kappa:    NaN\n",
        "\n",
        "Fold "
       ]
      },
      {
       "output_type": "stream",
       "stream": "stdout",
       "text": [
        "36\n",
        "Classes:  {\"virginica\"}\n",
        "Matrix:   1x1 Array{Int64,2}:\n",
        " 1\n",
        "Accuracy: 1.0\n",
        "Kappa:    NaN\n",
        "\n",
        "Fold "
       ]
      },
      {
       "output_type": "stream",
       "stream": "stdout",
       "text": [
        "37\n",
        "Classes:  {\"setosa\"}\n",
        "Matrix:   1x1 Array{Int64,2}:\n",
        " 1\n",
        "Accuracy: 1.0\n",
        "Kappa:    NaN\n",
        "\n",
        "Fold "
       ]
      },
      {
       "output_type": "stream",
       "stream": "stdout",
       "text": [
        "38\n",
        "Classes:  {\"virginica\"}\n",
        "Matrix:   1x1 Array{Int64,2}:\n",
        " 1\n",
        "Accuracy: 1.0\n",
        "Kappa:    NaN\n",
        "\n",
        "Fold "
       ]
      },
      {
       "output_type": "stream",
       "stream": "stdout",
       "text": [
        "39\n",
        "Classes:  {\"setosa\"}\n",
        "Matrix:   1x1 Array{Int64,2}:\n",
        " 1\n",
        "Accuracy: 1.0\n",
        "Kappa:    NaN\n",
        "\n",
        "Fold "
       ]
      },
      {
       "output_type": "stream",
       "stream": "stdout",
       "text": [
        "40\n",
        "Classes:  {\"virginica\"}\n",
        "Matrix:   1x1 Array{Int64,2}:\n",
        " 1\n",
        "Accuracy: 1.0\n",
        "Kappa:    NaN\n",
        "\n",
        "Fold "
       ]
      },
      {
       "output_type": "stream",
       "stream": "stdout",
       "text": [
        "41\n",
        "Classes:  {\"versicolor\"}\n",
        "Matrix:   1x1 Array{Int64,2}:\n",
        " 1\n",
        "Accuracy: 1.0\n",
        "Kappa:    NaN\n",
        "\n",
        "Fold "
       ]
      },
      {
       "output_type": "stream",
       "stream": "stdout",
       "text": [
        "42\n",
        "Classes:  {\"setosa\"}\n",
        "Matrix:   1x1 Array{Int64,2}:\n",
        " 1\n",
        "Accuracy: 1.0\n",
        "Kappa:    NaN\n",
        "\n",
        "Fold "
       ]
      },
      {
       "output_type": "stream",
       "stream": "stdout",
       "text": [
        "43\n",
        "Classes:  {\"versicolor\"}\n",
        "Matrix:   1x1 Array{Int64,2}:\n",
        " 1\n",
        "Accuracy: 1.0\n",
        "Kappa:    NaN\n",
        "\n",
        "Fold "
       ]
      },
      {
       "output_type": "stream",
       "stream": "stdout",
       "text": [
        "44\n",
        "Classes:  {\"setosa\"}\n",
        "Matrix:   1x1 Array{Int64,2}:\n",
        " 1\n",
        "Accuracy: 1.0\n",
        "Kappa:    NaN\n",
        "\n",
        "Fold "
       ]
      },
      {
       "output_type": "stream",
       "stream": "stdout",
       "text": [
        "45\n",
        "Classes:  {\"versicolor\"}\n",
        "Matrix:   1x1 Array{Int64,2}:\n",
        " 1\n",
        "Accuracy: 1.0\n",
        "Kappa:    NaN\n",
        "\n",
        "Fold "
       ]
      },
      {
       "output_type": "stream",
       "stream": "stdout",
       "text": [
        "46\n",
        "Classes:  {\"virginica\"}\n",
        "Matrix:   1x1 Array{Int64,2}:\n",
        " 1\n",
        "Accuracy: 1.0\n",
        "Kappa:    NaN\n",
        "\n",
        "Fold "
       ]
      },
      {
       "output_type": "stream",
       "stream": "stdout",
       "text": [
        "47\n",
        "Classes:  {\"virginica\"}\n",
        "Matrix:   1x1 Array{Int64,2}:\n",
        " 1\n",
        "Accuracy: 1.0\n",
        "Kappa:    NaN\n",
        "\n",
        "Fold "
       ]
      },
      {
       "output_type": "stream",
       "stream": "stdout",
       "text": [
        "48\n",
        "Classes:  {\"virginica\"}\n",
        "Matrix:   1x1 Array{Int64,2}:\n",
        " 1\n",
        "Accuracy: 1.0\n",
        "Kappa:    NaN\n",
        "\n",
        "Fold "
       ]
      },
      {
       "output_type": "stream",
       "stream": "stdout",
       "text": [
        "49\n",
        "Classes:  {\"setosa\"}\n",
        "Matrix:   1x1 Array{Int64,2}:\n",
        " 1\n",
        "Accuracy: 1.0\n",
        "Kappa:    NaN\n",
        "\n",
        "Fold "
       ]
      },
      {
       "output_type": "stream",
       "stream": "stdout",
       "text": [
        "50\n",
        "Classes:  {\"virginica\"}\n",
        "Matrix:   1x1 Array{Int64,2}:\n",
        " 1\n",
        "Accuracy: 1.0\n",
        "Kappa:    NaN\n",
        "\n",
        "Fold "
       ]
      },
      {
       "output_type": "stream",
       "stream": "stdout",
       "text": [
        "51\n",
        "Classes:  {\"setosa\"}\n",
        "Matrix:   1x1 Array{Int64,2}:\n",
        " 1\n",
        "Accuracy: 1.0\n",
        "Kappa:    NaN\n",
        "\n",
        "Fold "
       ]
      },
      {
       "output_type": "stream",
       "stream": "stdout",
       "text": [
        "52\n",
        "Classes:  {\"setosa\"}\n",
        "Matrix:   1x1 Array{Int64,2}:\n",
        " 1\n",
        "Accuracy: 1.0\n",
        "Kappa:    NaN\n",
        "\n",
        "Fold "
       ]
      },
      {
       "output_type": "stream",
       "stream": "stdout",
       "text": [
        "53\n",
        "Classes:  {\"versicolor\"}\n",
        "Matrix:   1x1 Array{Int64,2}:\n",
        " 1\n",
        "Accuracy: 1.0\n",
        "Kappa:    NaN\n",
        "\n",
        "Fold "
       ]
      },
      {
       "output_type": "stream",
       "stream": "stdout",
       "text": [
        "54\n",
        "Classes:  {\"setosa\"}\n",
        "Matrix:   1x1 Array{Int64,2}:\n",
        " 1\n",
        "Accuracy: 1.0\n",
        "Kappa:    NaN\n",
        "\n",
        "Fold "
       ]
      },
      {
       "output_type": "stream",
       "stream": "stdout",
       "text": [
        "55\n",
        "Classes:  {\"versicolor\"}\n",
        "Matrix:   1x1 Array{Int64,2}:\n",
        " 1\n",
        "Accuracy: 1.0\n",
        "Kappa:    NaN\n",
        "\n",
        "Fold "
       ]
      },
      {
       "output_type": "stream",
       "stream": "stdout",
       "text": [
        "56\n",
        "Classes:  {\"virginica\"}\n",
        "Matrix:   1x1 Array{Int64,2}:\n",
        " 1\n",
        "Accuracy: 1.0\n",
        "Kappa:    NaN\n",
        "\n",
        "Fold "
       ]
      },
      {
       "output_type": "stream",
       "stream": "stdout",
       "text": [
        "57\n",
        "Classes:  {\"virginica\"}\n",
        "Matrix:   1x1 Array{Int64,2}:\n",
        " 1\n",
        "Accuracy: 1.0\n",
        "Kappa:    NaN\n",
        "\n",
        "Fold "
       ]
      },
      {
       "output_type": "stream",
       "stream": "stdout",
       "text": [
        "58\n",
        "Classes:  {\"setosa\"}\n",
        "Matrix:   1x1 Array{Int64,2}:\n",
        " 1\n",
        "Accuracy: 1.0\n",
        "Kappa:    NaN\n",
        "\n",
        "Fold "
       ]
      },
      {
       "output_type": "stream",
       "stream": "stdout",
       "text": [
        "59\n",
        "Classes:  {\"versicolor\"}\n",
        "Matrix:   1x1 Array{Int64,2}:\n",
        " 1\n",
        "Accuracy: 1.0\n",
        "Kappa:    NaN\n",
        "\n",
        "Fold "
       ]
      },
      {
       "output_type": "stream",
       "stream": "stdout",
       "text": [
        "60\n",
        "Classes:  {\"setosa\"}\n",
        "Matrix:   1x1 Array{Int64,2}:\n",
        " 1\n",
        "Accuracy: 1.0\n",
        "Kappa:    NaN\n",
        "\n",
        "Fold "
       ]
      },
      {
       "output_type": "stream",
       "stream": "stdout",
       "text": [
        "61\n",
        "Classes:  {\"versicolor\"}\n",
        "Matrix:   1x1 Array{Int64,2}:\n",
        " 1\n",
        "Accuracy: 1.0\n",
        "Kappa:    NaN\n",
        "\n",
        "Fold "
       ]
      },
      {
       "output_type": "stream",
       "stream": "stdout",
       "text": [
        "62\n",
        "Classes:  {\"setosa\"}\n",
        "Matrix:   1x1 Array{Int64,2}:\n",
        " 1\n",
        "Accuracy: 1.0\n",
        "Kappa:    NaN\n",
        "\n",
        "Fold "
       ]
      },
      {
       "output_type": "stream",
       "stream": "stdout",
       "text": [
        "63\n",
        "Classes:  {\"setosa\"}\n",
        "Matrix:   1x1 Array{Int64,2}:\n",
        " 1\n",
        "Accuracy: 1.0\n",
        "Kappa:    NaN\n",
        "\n",
        "Fold "
       ]
      },
      {
       "output_type": "stream",
       "stream": "stdout",
       "text": [
        "64\n",
        "Classes:  {\"versicolor\"}\n",
        "Matrix:   1x1 Array{Int64,2}:\n",
        " 1\n",
        "Accuracy: 1.0\n",
        "Kappa:    NaN\n",
        "\n",
        "Fold "
       ]
      },
      {
       "output_type": "stream",
       "stream": "stdout",
       "text": [
        "65\n",
        "Classes:  {\"versicolor\"}\n",
        "Matrix:   1x1 Array{Int64,2}:\n",
        " 1\n",
        "Accuracy: 1.0\n",
        "Kappa:    NaN\n",
        "\n",
        "Fold "
       ]
      },
      {
       "output_type": "stream",
       "stream": "stdout",
       "text": [
        "66\n",
        "Classes:  {\"virginica\"}\n",
        "Matrix:   1x1 Array{Int64,2}:\n",
        " 1\n",
        "Accuracy: 1.0\n",
        "Kappa:    NaN\n",
        "\n",
        "Fold "
       ]
      },
      {
       "output_type": "stream",
       "stream": "stdout",
       "text": [
        "67\n",
        "Classes:  {\"versicolor\"}\n",
        "Matrix:   1x1 Array{Int64,2}:\n",
        " 1\n",
        "Accuracy: 1.0\n",
        "Kappa:    NaN\n",
        "\n",
        "Fold "
       ]
      },
      {
       "output_type": "stream",
       "stream": "stdout",
       "text": [
        "68\n",
        "Classes:  {\"virginica\"}\n",
        "Matrix:   1x1 Array{Int64,2}:\n",
        " 1\n",
        "Accuracy: 1.0\n",
        "Kappa:    NaN\n",
        "\n",
        "Fold "
       ]
      },
      {
       "output_type": "stream",
       "stream": "stdout",
       "text": [
        "69\n",
        "Classes:  {\"virginica\"}\n",
        "Matrix:   1x1 Array{Int64,2}:\n",
        " 1\n",
        "Accuracy: 1.0\n",
        "Kappa:    NaN\n",
        "\n",
        "Fold "
       ]
      },
      {
       "output_type": "stream",
       "stream": "stdout",
       "text": [
        "70\n",
        "Classes:  {\"setosa\"}\n",
        "Matrix:   1x1 Array{Int64,2}:\n",
        " 1\n",
        "Accuracy: 1.0\n",
        "Kappa:    NaN\n",
        "\n",
        "Fold "
       ]
      },
      {
       "output_type": "stream",
       "stream": "stdout",
       "text": [
        "71\n",
        "Classes:  {\"virginica\"}\n",
        "Matrix:   1x1 Array{Int64,2}:\n",
        " 1\n",
        "Accuracy: 1.0\n",
        "Kappa:    NaN\n",
        "\n",
        "Fold "
       ]
      },
      {
       "output_type": "stream",
       "stream": "stdout",
       "text": [
        "72\n",
        "Classes:  {\"versicolor\"}\n",
        "Matrix:   1x1 Array{Int64,2}:\n",
        " 1\n",
        "Accuracy: 1.0\n",
        "Kappa:    NaN\n",
        "\n",
        "Fold "
       ]
      },
      {
       "output_type": "stream",
       "stream": "stdout",
       "text": [
        "73\n",
        "Classes:  {\"setosa\"}\n",
        "Matrix:   1x1 Array{Int64,2}:\n",
        " 1\n",
        "Accuracy: 1.0\n",
        "Kappa:    NaN\n",
        "\n",
        "Fold "
       ]
      },
      {
       "output_type": "stream",
       "stream": "stdout",
       "text": [
        "74\n",
        "Classes:  {\"versicolor\"}\n",
        "Matrix:   1x1 Array{Int64,2}:\n",
        " 1\n",
        "Accuracy: 1.0\n",
        "Kappa:    NaN\n",
        "\n",
        "Fold "
       ]
      },
      {
       "output_type": "stream",
       "stream": "stdout",
       "text": [
        "75\n",
        "Classes:  {\"virginica\"}\n",
        "Matrix:   1x1 Array{Int64,2}:\n",
        " 1\n",
        "Accuracy: 1.0\n",
        "Kappa:    NaN\n",
        "\n",
        "Fold "
       ]
      },
      {
       "output_type": "stream",
       "stream": "stdout",
       "text": [
        "76\n",
        "Classes:  {\"virginica\"}\n",
        "Matrix:   1x1 Array{Int64,2}:\n",
        " 1\n",
        "Accuracy: 1.0\n",
        "Kappa:    NaN\n",
        "\n",
        "Fold "
       ]
      },
      {
       "output_type": "stream",
       "stream": "stdout",
       "text": [
        "77\n",
        "Classes:  {\"versicolor\"}\n",
        "Matrix:   1x1 Array{Int64,2}:\n",
        " 1\n",
        "Accuracy: 1.0\n",
        "Kappa:    NaN\n",
        "\n",
        "Fold "
       ]
      },
      {
       "output_type": "stream",
       "stream": "stdout",
       "text": [
        "78\n",
        "Classes:  {\"virginica\"}\n",
        "Matrix:   1x1 Array{Int64,2}:\n",
        " 1\n",
        "Accuracy: 1.0\n",
        "Kappa:    NaN\n",
        "\n",
        "Fold "
       ]
      },
      {
       "output_type": "stream",
       "stream": "stdout",
       "text": [
        "79\n",
        "Classes:  {\"versicolor\"}\n",
        "Matrix:   1x1 Array{Int64,2}:\n",
        " 1\n",
        "Accuracy: 1.0\n",
        "Kappa:    NaN\n",
        "\n",
        "Fold "
       ]
      },
      {
       "output_type": "stream",
       "stream": "stdout",
       "text": [
        "80\n",
        "Classes:  {\"setosa\"}\n",
        "Matrix:   1x1 Array{Int64,2}:\n",
        " 1\n",
        "Accuracy: 1.0\n",
        "Kappa:    NaN\n",
        "\n",
        "Fold "
       ]
      },
      {
       "output_type": "stream",
       "stream": "stdout",
       "text": [
        "81\n",
        "Classes:  {\"virginica\"}\n",
        "Matrix:   1x1 Array{Int64,2}:\n",
        " 1\n",
        "Accuracy: 1.0\n",
        "Kappa:    NaN\n",
        "\n",
        "Fold "
       ]
      },
      {
       "output_type": "stream",
       "stream": "stdout",
       "text": [
        "82\n",
        "Classes:  {\"versicolor\"}\n",
        "Matrix:   1x1 Array{Int64,2}:\n",
        " 1\n",
        "Accuracy: 1.0\n",
        "Kappa:    NaN\n",
        "\n",
        "Fold "
       ]
      },
      {
       "output_type": "stream",
       "stream": "stdout",
       "text": [
        "83\n",
        "Classes:  {\"versicolor\"}\n",
        "Matrix:   1x1 Array{Int64,2}:\n",
        " 1\n",
        "Accuracy: 1.0\n",
        "Kappa:    NaN\n",
        "\n",
        "Fold "
       ]
      },
      {
       "output_type": "stream",
       "stream": "stdout",
       "text": [
        "84\n",
        "Classes:  {\"setosa\"}\n",
        "Matrix:   1x1 Array{Int64,2}:\n",
        " 1\n",
        "Accuracy: 1.0\n",
        "Kappa:    NaN\n",
        "\n",
        "Fold "
       ]
      },
      {
       "output_type": "stream",
       "stream": "stdout",
       "text": [
        "85\n",
        "Classes:  {\"virginica\"}\n",
        "Matrix:   1x1 Array{Int64,2}:\n",
        " 1\n",
        "Accuracy: 1.0\n",
        "Kappa:    NaN\n",
        "\n",
        "Fold "
       ]
      },
      {
       "output_type": "stream",
       "stream": "stdout",
       "text": [
        "86\n",
        "Classes:  {\"virginica\"}\n",
        "Matrix:   1x1 Array{Int64,2}:\n",
        " 1\n",
        "Accuracy: 1.0\n",
        "Kappa:    NaN\n",
        "\n",
        "Fold "
       ]
      },
      {
       "output_type": "stream",
       "stream": "stdout",
       "text": [
        "87\n",
        "Classes:  {\"versicolor\"}\n",
        "Matrix:   1x1 Array{Int64,2}:\n",
        " 1\n",
        "Accuracy: 1.0\n",
        "Kappa:    NaN\n",
        "\n",
        "Fold "
       ]
      },
      {
       "output_type": "stream",
       "stream": "stdout",
       "text": [
        "88\n",
        "Classes:  {\"setosa\"}\n",
        "Matrix:   1x1 Array{Int64,2}:\n",
        " 1\n",
        "Accuracy: 1.0\n",
        "Kappa:    NaN\n",
        "\n",
        "Fold "
       ]
      },
      {
       "output_type": "stream",
       "stream": "stdout",
       "text": [
        "89\n",
        "Classes:  {\"virginica\"}\n",
        "Matrix:   1x1 Array{Int64,2}:\n",
        " 1\n",
        "Accuracy: 1.0\n",
        "Kappa:    NaN\n",
        "\n",
        "Fold "
       ]
      },
      {
       "output_type": "stream",
       "stream": "stdout",
       "text": [
        "90\n",
        "Classes:  {\"versicolor\",\"virginica\"}\n",
        "Matrix:   2x2 Array{Int64,2}:\n",
        " 0  0\n",
        " 1  0\n",
        "Accuracy: 0.0\n",
        "Kappa:    0.0\n",
        "\n",
        "Fold "
       ]
      },
      {
       "output_type": "stream",
       "stream": "stdout",
       "text": [
        "91\n",
        "Classes:  {\"virginica\"}\n",
        "Matrix:   1x1 Array{Int64,2}:\n",
        " 1\n",
        "Accuracy: 1.0\n",
        "Kappa:    NaN\n",
        "\n",
        "Fold "
       ]
      },
      {
       "output_type": "stream",
       "stream": "stdout",
       "text": [
        "92\n",
        "Classes:  {\"virginica\"}\n",
        "Matrix:   1x1 Array{Int64,2}:\n",
        " 1\n",
        "Accuracy: 1.0\n",
        "Kappa:    NaN\n",
        "\n",
        "Fold "
       ]
      },
      {
       "output_type": "stream",
       "stream": "stdout",
       "text": [
        "93\n",
        "Classes:  {\"setosa\"}\n",
        "Matrix:   1x1 Array{Int64,2}:\n",
        " 1\n",
        "Accuracy: 1.0\n",
        "Kappa:    NaN\n",
        "\n",
        "Fold "
       ]
      },
      {
       "output_type": "stream",
       "stream": "stdout",
       "text": [
        "94\n",
        "Classes:  {\"virginica\"}\n",
        "Matrix:   1x1 Array{Int64,2}:\n",
        " 1\n",
        "Accuracy: 1.0\n",
        "Kappa:    NaN\n",
        "\n",
        "Fold "
       ]
      },
      {
       "output_type": "stream",
       "stream": "stdout",
       "text": [
        "95\n",
        "Classes:  {\"versicolor\",\"virginica\"}\n",
        "Matrix:   2x2 Array{Int64,2}:\n",
        " 0  0\n",
        " 1  0\n",
        "Accuracy: 0.0\n",
        "Kappa:    0.0\n",
        "\n",
        "Fold "
       ]
      },
      {
       "output_type": "stream",
       "stream": "stdout",
       "text": [
        "96\n",
        "Classes:  {\"virginica\"}\n",
        "Matrix:   1x1 Array{Int64,2}:\n",
        " 1\n",
        "Accuracy: 1.0\n",
        "Kappa:    NaN\n",
        "\n",
        "Fold "
       ]
      },
      {
       "output_type": "stream",
       "stream": "stdout",
       "text": [
        "97\n",
        "Classes:  {\"setosa\"}\n",
        "Matrix:   1x1 Array{Int64,2}:\n",
        " 1\n",
        "Accuracy: 1.0\n",
        "Kappa:    NaN\n",
        "\n",
        "Fold "
       ]
      },
      {
       "output_type": "stream",
       "stream": "stdout",
       "text": [
        "98\n",
        "Classes:  {\"versicolor\"}\n",
        "Matrix:   1x1 Array{Int64,2}:\n",
        " 1\n",
        "Accuracy: 1.0\n",
        "Kappa:    NaN\n",
        "\n",
        "Fold "
       ]
      },
      {
       "output_type": "stream",
       "stream": "stdout",
       "text": [
        "99\n",
        "Classes:  {\"versicolor\",\"virginica\"}\n",
        "Matrix:   2x2 Array{Int64,2}:\n",
        " 0  0\n",
        " 1  0\n",
        "Accuracy: 0.0\n",
        "Kappa:    0.0\n",
        "\n",
        "Fold "
       ]
      },
      {
       "output_type": "stream",
       "stream": "stdout",
       "text": [
        "100\n",
        "Classes:  {\"versicolor\"}\n",
        "Matrix:   1x1 Array{Int64,2}:\n",
        " 1\n",
        "Accuracy: 1.0\n",
        "Kappa:    NaN\n",
        "\n",
        "Fold "
       ]
      },
      {
       "output_type": "stream",
       "stream": "stdout",
       "text": [
        "101\n",
        "Classes:  {\"setosa\"}\n",
        "Matrix:   1x1 Array{Int64,2}:\n",
        " 1\n",
        "Accuracy: 1.0\n",
        "Kappa:    NaN\n",
        "\n",
        "Fold "
       ]
      },
      {
       "output_type": "stream",
       "stream": "stdout",
       "text": [
        "102\n",
        "Classes:  {\"versicolor\"}\n",
        "Matrix:   1x1 Array{Int64,2}:\n",
        " 1\n",
        "Accuracy: 1.0\n",
        "Kappa:    NaN\n",
        "\n",
        "Fold "
       ]
      },
      {
       "output_type": "stream",
       "stream": "stdout",
       "text": [
        "103\n",
        "Classes:  {\"versicolor\",\"virginica\"}\n",
        "Matrix:   2x2 Array{Int64,2}:\n",
        " 0  1\n",
        " 0  0\n",
        "Accuracy: 0.0\n",
        "Kappa:    0.0\n",
        "\n",
        "Fold "
       ]
      },
      {
       "output_type": "stream",
       "stream": "stdout",
       "text": [
        "104\n",
        "Classes:  {\"versicolor\"}\n",
        "Matrix:   1x1 Array{Int64,2}:\n",
        " 1\n",
        "Accuracy: 1.0\n",
        "Kappa:    NaN\n",
        "\n",
        "Fold "
       ]
      },
      {
       "output_type": "stream",
       "stream": "stdout",
       "text": [
        "105\n",
        "Classes:  {\"virginica\"}\n",
        "Matrix:   1x1 Array{Int64,2}:\n",
        " 1\n",
        "Accuracy: 1.0\n",
        "Kappa:    NaN\n",
        "\n",
        "Fold "
       ]
      },
      {
       "output_type": "stream",
       "stream": "stdout",
       "text": [
        "106\n",
        "Classes:  {\"virginica\"}\n",
        "Matrix:   1x1 Array{Int64,2}:\n",
        " 1\n",
        "Accuracy: 1.0\n",
        "Kappa:    NaN\n",
        "\n",
        "Fold "
       ]
      },
      {
       "output_type": "stream",
       "stream": "stdout",
       "text": [
        "107\n",
        "Classes:  {\"setosa\"}\n",
        "Matrix:   1x1 Array{Int64,2}:\n",
        " 1\n",
        "Accuracy: 1.0\n",
        "Kappa:    NaN\n",
        "\n",
        "Fold "
       ]
      },
      {
       "output_type": "stream",
       "stream": "stdout",
       "text": [
        "108\n",
        "Classes:  {\"virginica\"}\n",
        "Matrix:   1x1 Array{Int64,2}:\n",
        " 1\n",
        "Accuracy: 1.0\n",
        "Kappa:    NaN\n"
       ]
      },
      {
       "output_type": "stream",
       "stream": "stderr",
       "text": [
        "exception on 1"
       ]
      },
      {
       "output_type": "stream",
       "stream": "stderr",
       "text": [
        ": ERROR: interrupt\n",
        " in getindex_bool_1d at array.jl:389\n",
        " in getindex at array.jl:396\n",
        " in _split at /Users/ppalmes/.julia/DecisionTree/src/DecisionTree.jl:63\n",
        " in build_tree at /Users/ppalmes/.julia/DecisionTree/src/DecisionTree.jl:89\n",
        " in anonymous at no file:174\n",
        " in anonymous at multi.jl:1278\n",
        " in run_work_thunk at multi.jl:575\n",
        " in run_work_thunk at multi.jl:584\n",
        " in anonymous at task.jl:88\n"
       ]
      },
      {
       "ename": "LoadError",
       "evalue": "no method apply_forest(Array{InterruptException,1},Array{Float64,2})\nat In[10]:1",
       "output_type": "pyerr",
       "traceback": [
        "no method apply_forest(Array{InterruptException,1},Array{Float64,2})\nat In[10]:1",
        " in _nfoldCV at /Users/ppalmes/.julia/DecisionTree/src/measures.jl:127",
        " in nfoldCV_forest at /Users/ppalmes/.julia/DecisionTree/src/measures.jl:145"
       ]
      },
      {
       "output_type": "stream",
       "stream": "stdout",
       "text": [
        "\n",
        "Fold "
       ]
      },
      {
       "output_type": "stream",
       "stream": "stdout",
       "text": [
        "1\n",
        "Classes:  {\"setosa\",\"versicolor\",\"virginica\"}\n",
        "Matrix:   3x3 Array{Int64,2}:\n",
        " 1  0  0\n",
        " 0  0  0\n",
        " 0  1  1\n",
        "Accuracy: 0.6666666666666666\n",
        "Kappa:    0.49999999999999994\n",
        "\n",
        "Fold "
       ]
      },
      {
       "output_type": "stream",
       "stream": "stdout",
       "text": [
        "2\n",
        "Classes:  {\"setosa\",\"versicolor\"}\n",
        "Matrix:   2x2 Array{Int64,2}:\n",
        " 2  0\n",
        " 0  1\n",
        "Accuracy: 1.0\n",
        "Kappa:    1.0\n",
        "\n",
        "Fold "
       ]
      },
      {
       "output_type": "stream",
       "stream": "stdout",
       "text": [
        "3\n",
        "Classes:  {\"setosa\",\"versicolor\"}\n",
        "Matrix:   2x2 Array{Int64,2}:\n",
        " 2  0\n",
        " 0  1\n",
        "Accuracy: 1.0\n",
        "Kappa:    1.0\n",
        "\n",
        "Fold "
       ]
      },
      {
       "output_type": "stream",
       "stream": "stdout",
       "text": [
        "4\n",
        "Classes:  {\"setosa\",\"versicolor\",\"virginica\"}\n",
        "Matrix:   3x3 Array{Int64,2}:\n",
        " 1  0  0\n",
        " 0  1  0\n",
        " 0  0  1\n",
        "Accuracy: 1.0\n",
        "Kappa:    1.0\n",
        "\n",
        "Fold "
       ]
      },
      {
       "output_type": "stream",
       "stream": "stdout",
       "text": [
        "5\n",
        "Classes:  {\"setosa\"}\n",
        "Matrix:   1x1 Array{Int64,2}:\n",
        " 3\n",
        "Accuracy: 1.0\n",
        "Kappa:    NaN\n",
        "\n",
        "Fold "
       ]
      },
      {
       "output_type": "stream",
       "stream": "stdout",
       "text": [
        "6\n",
        "Classes:  {\"versicolor\",\"virginica\"}\n",
        "Matrix:   2x2 Array{Int64,2}:\n",
        " 2  0\n",
        " 0  1\n",
        "Accuracy: 1.0\n",
        "Kappa:    1.0\n",
        "\n",
        "Fold "
       ]
      },
      {
       "output_type": "stream",
       "stream": "stdout",
       "text": [
        "7\n",
        "Classes:  {\"setosa\",\"versicolor\"}\n",
        "Matrix:   2x2 Array{Int64,2}:\n",
        " 1  0\n",
        " 0  2\n",
        "Accuracy: 1.0\n",
        "Kappa:    1.0\n",
        "\n",
        "Fold "
       ]
      },
      {
       "output_type": "stream",
       "stream": "stdout",
       "text": [
        "8\n",
        "Classes:  {\"setosa\",\"virginica\"}\n",
        "Matrix:   2x2 Array{Int64,2}:\n",
        " 2  0\n",
        " 0  1\n",
        "Accuracy: 1.0\n",
        "Kappa:    1.0\n",
        "\n",
        "Fold "
       ]
      },
      {
       "output_type": "stream",
       "stream": "stdout",
       "text": [
        "9\n",
        "Classes:  {\"setosa\",\"versicolor\",\"virginica\"}\n",
        "Matrix:   3x3 Array{Int64,2}:\n",
        " 1  0  0\n",
        " 0  1  0\n",
        " 0  0  1\n",
        "Accuracy: 1.0\n",
        "Kappa:    1.0\n",
        "\n",
        "Fold "
       ]
      },
      {
       "output_type": "stream",
       "stream": "stdout",
       "text": [
        "10\n",
        "Classes:  {\"virginica\"}\n",
        "Matrix:   1x1 Array{Int64,2}:\n",
        " 3\n",
        "Accuracy: 1.0\n",
        "Kappa:    NaN\n",
        "\n",
        "Fold "
       ]
      },
      {
       "output_type": "stream",
       "stream": "stdout",
       "text": [
        "11\n",
        "Classes:  {\"versicolor\",\"virginica\"}\n",
        "Matrix:   2x2 Array{Int64,2}:\n",
        " 1  0\n",
        " 0  2\n",
        "Accuracy: 1.0\n",
        "Kappa:    1.0\n",
        "\n",
        "Fold "
       ]
      },
      {
       "output_type": "stream",
       "stream": "stdout",
       "text": [
        "12\n",
        "Classes:  {\"setosa\",\"versicolor\"}\n",
        "Matrix:   2x2 Array{Int64,2}:\n",
        " 2  0\n",
        " 0  1\n",
        "Accuracy: 1.0\n",
        "Kappa:    1.0\n",
        "\n",
        "Fold "
       ]
      },
      {
       "output_type": "stream",
       "stream": "stdout",
       "text": [
        "13\n",
        "Classes:  {\"setosa\",\"versicolor\",\"virginica\"}\n",
        "Matrix:   3x3 Array{Int64,2}:\n",
        " 1  0  0\n",
        " 0  1  0\n",
        " 0  0  1\n",
        "Accuracy: 1.0\n",
        "Kappa:    1.0\n",
        "\n",
        "Fold "
       ]
      },
      {
       "output_type": "stream",
       "stream": "stdout",
       "text": [
        "14\n",
        "Classes:  {\"setosa\",\"virginica\"}\n",
        "Matrix:   2x2 Array{Int64,2}:\n",
        " 1  0\n",
        " 0  2\n",
        "Accuracy: 1.0\n",
        "Kappa:    1.0\n",
        "\n",
        "Fold "
       ]
      },
      {
       "output_type": "stream",
       "stream": "stdout",
       "text": [
        "15\n",
        "Classes:  {\"versicolor\",\"virginica\"}\n",
        "Matrix:   2x2 Array{Int64,2}:\n",
        " 2  0\n",
        " 0  1\n",
        "Accuracy: 1.0\n",
        "Kappa:    1.0\n",
        "\n",
        "Fold "
       ]
      },
      {
       "output_type": "stream",
       "stream": "stdout",
       "text": [
        "16\n",
        "Classes:  {\"setosa\",\"virginica\"}\n",
        "Matrix:   2x2 Array{Int64,2}:\n",
        " 1  0\n",
        " 0  2\n",
        "Accuracy: 1.0\n",
        "Kappa:    1.0\n",
        "\n",
        "Fold "
       ]
      },
      {
       "output_type": "stream",
       "stream": "stdout",
       "text": [
        "17\n",
        "Classes:  {\"virginica\"}\n",
        "Matrix:   1x1 Array{Int64,2}:\n",
        " 3\n",
        "Accuracy: 1.0\n",
        "Kappa:    NaN\n",
        "\n",
        "Fold "
       ]
      },
      {
       "output_type": "stream",
       "stream": "stdout",
       "text": [
        "18\n",
        "Classes:  {\"versicolor\",\"virginica\"}\n",
        "Matrix:   2x2 Array{Int64,2}:\n",
        " 1  0\n",
        " 1  1\n",
        "Accuracy: 0.6666666666666666\n",
        "Kappa:    0.39999999999999997\n"
       ]
      },
      {
       "output_type": "stream",
       "stream": "stderr",
       "text": [
        "exception on 1"
       ]
      },
      {
       "output_type": "stream",
       "stream": "stderr",
       "text": [
        ": ERROR: interrupt\n",
        " in ht_keyindex at dict.jl:488\n",
        " in get at dict.jl:508\n",
        " in _hist at /Users/ppalmes/.julia/DecisionTree/src/measures.jl:22\n",
        " in _set_entropy at /Users/ppalmes/.julia/DecisionTree/src/measures.jl:29\n",
        " in _info_gain at /Users/ppalmes/.julia/DecisionTree/src/measures.jl:46\n",
        " in _split at /Users/ppalmes/.julia/DecisionTree/src/DecisionTree.jl:63\n",
        " in build_tree at /Users/ppalmes/.julia/DecisionTree/src/DecisionTree.jl:89\n",
        " in build_tree at /Users/ppalmes/.julia/DecisionTree/src/DecisionTree.jl:104\n",
        " in anonymous at no file:174\n",
        " in anonymous at multi.jl:1278\n",
        " in run_work_thunk at multi.jl:575\n",
        " in run_work_thunk at multi.jl:584\n",
        " in anonymous at task.jl:88\n"
       ]
      },
      {
       "ename": "LoadError",
       "evalue": "no method apply_forest(Array{InterruptException,1},Array{Float64,2})\nat In[10]:1",
       "output_type": "pyerr",
       "traceback": [
        "no method apply_forest(Array{InterruptException,1},Array{Float64,2})\nat In[10]:1",
        " in _nfoldCV at /Users/ppalmes/.julia/DecisionTree/src/measures.jl:127",
        " in nfoldCV_forest at /Users/ppalmes/.julia/DecisionTree/src/measures.jl:145"
       ]
      }
     ],
     "prompt_number": 10
    },
    {
     "cell_type": "heading",
     "level": 2,
     "metadata": {},
     "source": [
      "Adaptive-Boosted Tree (Adaboost)"
     ]
    },
    {
     "cell_type": "code",
     "collapsed": false,
     "input": [
      "modelad,coeffs=DecisionTree.build_adaboost_stumps(labels[train],features[train,:],50);\n",
      "predad=DecisionTree.apply_forest(modelad,features[test,:]);\n",
      "println(DecisionTree.confusion_matrix(labels[test],predad));"
     ],
     "language": "python",
     "metadata": {},
     "outputs": [
      {
       "output_type": "stream",
       "stream": "stdout",
       "text": [
        "Classes:  {"
       ]
      },
      {
       "output_type": "stream",
       "stream": "stdout",
       "text": [
        "\"setosa\",\"versicolor\",\"virginica\"}\n",
        "Matrix:   3x3 Array{Int64,2}:\n",
        " 27   0   0\n",
        "  1  23   1\n",
        "  0   2  24\n",
        "Accuracy: 0.9487179487179487\n",
        "Kappa:    0.9230199851961509\n"
       ]
      }
     ],
     "prompt_number": 10
    },
    {
     "cell_type": "code",
     "collapsed": false,
     "input": [
      "accuracyad = DecisionTree.nfoldCV_stumps(labels, features, 50, 3);"
     ],
     "language": "python",
     "metadata": {},
     "outputs": [
      {
       "output_type": "stream",
       "stream": "stdout",
       "text": [
        "\n",
        "Fold 1"
       ]
      },
      {
       "output_type": "stream",
       "stream": "stdout",
       "text": [
        "\n",
        "Classes:  {\"setosa\",\"versicolor\",\"virginica\"}\n",
        "Matrix:   3x3 Array{Int64,2}:\n",
        " 12   4  0\n",
        "  1  14  3\n",
        "  0  13  3\n",
        "Accuracy: 0.58\n",
        "Kappa:    0.3589743589743589\n",
        "\n",
        "Fold "
       ]
      },
      {
       "output_type": "stream",
       "stream": "stdout",
       "text": [
        "2\n",
        "Classes:  {\"setosa\",\"versicolor\",\"virginica\"}\n",
        "Matrix:   3x3 Array{Int64,2}:\n",
        " 13   0   0\n",
        "  3  13   1\n",
        "  0   4  16\n",
        "Accuracy: 0.84\n",
        "Kappa:    0.7594708358388454\n",
        "\n",
        "Fold "
       ]
      },
      {
       "output_type": "stream",
       "stream": "stdout",
       "text": [
        "3\n",
        "Classes:  {\"setosa\",\"versicolor\",\"virginica\"}\n",
        "Matrix:   3x3 Array{Int64,2}:\n",
        " 21   0   0\n",
        "  0  14   1\n",
        "  0   0  14\n",
        "Accuracy: 0.98\n",
        "Kappa:    0.9694935936546675\n",
        "\n",
        "Mean Accuracy: 0.7999999999999999\n"
       ]
      }
     ],
     "prompt_number": 10
    },
    {
     "cell_type": "heading",
     "level": 2,
     "metadata": {},
     "source": [
      "Pruned Tree"
     ]
    },
    {
     "cell_type": "code",
     "collapsed": false,
     "input": [
      "modelpt=DecisionTree.build_tree(labels[train],features[train,:])\n",
      "predpt=DecisionTree.apply_tree(modelpt,features[test,:]);\n",
      "println(DecisionTree.confusion_matrix(labels[test],predpt));"
     ],
     "language": "python",
     "metadata": {},
     "outputs": [
      {
       "output_type": "stream",
       "stream": "stdout",
       "text": [
        "Classes:  {"
       ]
      },
      {
       "output_type": "stream",
       "stream": "stdout",
       "text": [
        "\"setosa\",\"versicolor\",\"virginica\"}\n",
        "Matrix:   3x3 Array{Int64,2}:\n",
        " 27   0   0\n",
        "  1  23   1\n",
        "  0   3  23\n",
        "Accuracy: 0.9358974358974359\n",
        "Kappa:    0.9037987173162308\n"
       ]
      }
     ],
     "prompt_number": 10
    },
    {
     "cell_type": "code",
     "collapsed": false,
     "input": [
      "accuracypt = DecisionTree.nfoldCV_tree(labels, features, 0.9, 3);"
     ],
     "language": "python",
     "metadata": {},
     "outputs": []
    },
    {
     "cell_type": "code",
     "collapsed": false,
     "input": [
      "modelpt"
     ],
     "language": "python",
     "metadata": {},
     "outputs": [
      {
       "metadata": {},
       "output_type": "pyout",
       "prompt_number": 12,
       "text": [
        "Node(3,3.3,Leaf(\"setosa\",{\"setosa\",\"setosa\",\"setosa\",\"setosa\",\"setosa\",\"setosa\",\"setosa\",\"setosa\",\"setosa\",\"setosa\"  \u2026  \"setosa\",\"setosa\",\"setosa\",\"setosa\",\"setosa\",\"setosa\",\"setosa\",\"setosa\",\"setosa\",\"setosa\"}),Node(3,4.9,Node(1,5.0,Node(2,2.5,Leaf(\"versicolor\",{\"versicolor\"}),Leaf(\"virginica\",{\"virginica\"})),Leaf(\"versicolor\",{\"versicolor\",\"versicolor\",\"versicolor\",\"versicolor\",\"versicolor\",\"versicolor\",\"versicolor\",\"versicolor\",\"versicolor\",\"versicolor\"  \u2026  \"versicolor\",\"versicolor\",\"versicolor\",\"versicolor\",\"versicolor\",\"versicolor\",\"versicolor\",\"versicolor\",\"versicolor\",\"versicolor\"})),Node(4,1.8,Node(1,6.9,Node(4,1.6,Leaf(\"virginica\",{\"virginica\",\"virginica\"}),Leaf(\"versicolor\",{\"versicolor\"})),Leaf(\"versicolor\",{\"versicolor\"})),Leaf(\"virginica\",{\"virginica\",\"virginica\",\"virginica\",\"virginica\",\"virginica\",\"virginica\",\"virginica\",\"virginica\",\"virginica\",\"virginica\"  \u2026  \"virginica\",\"virginica\",\"virginica\",\"virginica\",\"virginica\",\"virginica\",\"virginica\",\"virginica\",\"virginica\",\"virginica\"}))))"
       ]
      }
     ],
     "prompt_number": 12
    },
    {
     "cell_type": "heading",
     "level": 2,
     "metadata": {},
     "source": [
      "Neural Network"
     ]
    },
    {
     "cell_type": "code",
     "collapsed": false,
     "input": [
      "# https://github.com/nwenzel/Julia_Neural_Network\n",
      "# Code by Nathan Wenzel\n",
      "\n",
      "function sigmoid(z)\n",
      "  # sigmoid is a basic sigmoid function returning values from 0-1\n",
      "  1. / ( 1. + 1e.^(-z) )\n",
      "end\n",
      "\n",
      "function sigmoidGradient(z)\n",
      "  sigmoid(z) .* ( 1 - sigmoid(z) )\n",
      "end\n",
      "\n",
      "function initialize_theta(input_unit_count, output_class_count, hidden_unit_length_list)\n",
      "  #\n",
      "  #initialize_theta creates architecture of neural network\n",
      "  #    \n",
      "  #Parameters:\n",
      "  #  hidden_unit_length_list - Array of hidden layer units\n",
      "  #  input_unit_count - integer, number of input units (features)\n",
      "  #  output_class_count - integer, number of output classes\n",
      "  #\n",
      "  #Returns:\n",
      "  #  \n",
      "  #Array of theta arrays randomly initialized to from -.5 to .5\n",
      "  #\n",
      "  \n",
      "  if length( hidden_unit_length_list ) == 0\n",
      "    hidden_unit_length_list = [2]\n",
      "  end\n",
      "  \n",
      "  unit_count_list = [input_unit_count]\n",
      "  unit_count_list = [unit_count_list, hidden_unit_length_list]\n",
      "  unit_count_list = [unit_count_list, output_class_count]\n",
      "  layers = length(unit_count_list)\n",
      "  \n",
      "  Theta_L = [ rand( unit_count_list[i], unit_count_list[i-1]+1 ) - .5 for i = 2:layers]\n",
      "\n",
      "end\n",
      "\n",
      "function print_theta(Theta_L)\n",
      "  # print_theta() is a helper function that prints Theta_L and architecture info\n",
      "  # It does not actually \"do\" anything except print to stdout\n",
      "\n",
      "  T = length(Theta_L)\n",
      "\n",
      "  println()\n",
      "  println( \"NN ARCHITECTURE\" )\n",
      "  println( \"$(T+1) Layers ($(T-1) Hidden)\" )\n",
      "  println( \"$T Thetas\" )\n",
      "  println( \"$(size(Theta_L[1],2)-1) Input Features\" )\n",
      "  println( \"$(size(Theta_L[end], 1)) Output Classes\" )\n",
      "  println()\n",
      "    \n",
      "  println( \"Units per layer (excl. bias unit)\" )\n",
      "  for t = 1:T\n",
      "    if t == 1\n",
      "      println( \" - Input: $(size(Theta_L[t],2)-1) Units\" )\n",
      "    end\n",
      "    if t < T\n",
      "      println( \" - Hidden $t: $(size(Theta_L[t],1)) Units\" )\n",
      "    else\n",
      "      println( \" - Output: $(size(Theta_L[t],1)) Units\" )\n",
      "    end\n",
      "  end\n",
      "  println()\n",
      "\n",
      "  println( \"Theta Shapes\" )\n",
      "  for l = 1:T\n",
      "    println( \"Theta $l: $(size(Theta_L[l]))\" )\n",
      "  end\n",
      "  println()\n",
      "  \n",
      "  println( \"Theta Values\" )\n",
      "  for t= 1:T\n",
      "    println( \"Theta $t:\"  )\n",
      "    println ( Theta_L[t])\n",
      "  end\n",
      "  println()\n",
      "\n",
      "end\n",
      "\n",
      "function nn_cost(Y, Y_pred)\n",
      "  #\n",
      "  # nn_cost implements cost function for array inputs Y and Y_pred\n",
      "  #  \n",
      "  # y is array of n_observations by n_classes\n",
      "  # Y_pred is array with same dimensions as Y of predicted y values\n",
      "  #\n",
      "  if size(Y) != size(Y_pred)\n",
      "    if size(Y,1) != size(Y_pred,1)\n",
      "      error(\"Wrong number of predictions\", \"$(size(Y,1)) Actual Values. $(size(Y_pred,1)) Predicted Values. \")\n",
      "    else\n",
      "      error(\"Wrong number of prediction classes\", \"$(size(Y,2)) Actual Classes. $(size(Y_pred,2)) Predicted Classes. \")\n",
      "    end\n",
      "  end\n",
      "    \n",
      "  n_observations = size(Y,1)\n",
      "  \n",
      "  # Cost Function\n",
      "  J = (-1.0 / n_observations ) * sum((Y .* log(Y_pred)) + ((1-Y) .* log(1-Y_pred)))\n",
      "  \n",
      "  J\n",
      "\n",
      "end\n",
      "\n",
      "\n",
      "\n",
      "function nn_predict(X, Theta_L)\n",
      "  #\n",
      "  # nn_predict calculates activations for all layers given X and thetas in Theta_L\n",
      "  # return all inputs and activations for all layers for use in backprop\n",
      "  #\n",
      "  # Parameters\n",
      "  #  X is matrix of input features dimensions n_observations by n_features\n",
      "  #  Theta_L is a 3D array where first element corresponds to the layer number, second is unit at layer+1, third is unit in layer\n",
      "  #\n",
      "  # Returns\n",
      "  #  a_N - 1D Array of activation 2D arrays for each layer: Input (1), Hidden (2 to T), and Output (T+1)\n",
      "  #  a_Z - 1D Array of input 2D arrays to compute activations for all non-bias units\n",
      "  #  a_N[end] - 2D Array of predicted Y values with dimensions n_observations by n_classes\n",
      "  #\n",
      "\n",
      "  a_N = {}\n",
      "  z_N = {}\n",
      "\n",
      "  m = size(X,1)\n",
      "  T = length(Theta_L)\n",
      "    \n",
      "  # Input Layer inputs\n",
      "  push!(a_N, X) \t\t\t# List of activations including bias unit for non-output layers\n",
      "  push!(z_N, zeros(1,1)) \t# add filler Z layer to align keys/indexes for a, z, and Theta\n",
      "\n",
      "  # Loop through each Theta_List theta\n",
      "  # t is index of Theta for calculating layer t+1 from layer t\n",
      "  for t=1:T\n",
      "    # Reshape 1D Array into 2D Array\n",
      "    if ndims(a_N[t]) == 1\n",
      "      a_N[t] = reshape(a_N[t], 1, size(a_N[t],1))\n",
      "    end\n",
      "\n",
      "    # Add bias unit\n",
      "    a_N[t] = [ ones(size(a_N[t],1), 1)  a_N[t] ]\n",
      "      \n",
      "    # Calculate and Append new z and a arrays to z_N and a_N lists\n",
      "    push!(z_N, a_N[t] * Theta_L[t]') #'\n",
      "    push!(a_N, sigmoid(z_N[t+1]))\n",
      "  end\n",
      "  \n",
      "  z_N, a_N, a_N[end]\n",
      "\n",
      "end\n",
      "\n",
      "\n",
      "function back_prop(X_train, Y_train, Theta_L, lmda)\n",
      "  #\n",
      "  # Parameters\n",
      "  #  X_train - Array of feature inputs with dimensions n_observations by n_features\n",
      "  #  Y_train - Array of class outputs with dimensions n_observations by n_classes\n",
      "  #  Theta_L is a 1D array of Theta values where 1D element is the layer number, the 2D elements are unit in layer+1 and unit in layer\n",
      "  #  lmda - Float64 - lambda term for regularization\n",
      "  #  \n",
      "  # Returns\n",
      "  #  Y_pred as array of predicted Y values from nn_predict()\n",
      "  #  Theta_Gradient_L as 1D array of 2D Theta Gradient arrays\n",
      "  #\n",
      "\n",
      "  n_observations = size(X_train,1)\n",
      "  \n",
      "  T = length(Theta_L)\n",
      "\n",
      "  # Create Modified copy of the Theta_L for Regularization with Coefficient for bias unit set to 0 so that bias unit is not regularized\n",
      "  # Create variable to accumulate error caused by each Theta_L term in layer a_N[n+1]\n",
      "  Theta_Gradient_L = {}\n",
      "  regTheta = {}\n",
      "  for i=1:T\n",
      "    push!(regTheta, [zeros(size(Theta_L[i],1),1) Theta_L[i][:,2:]])\n",
      "    push!(Theta_Gradient_L, zeros(size(Theta_L[i])))\n",
      "  end\n",
      "\n",
      "\n",
      "  # Forward Pass\n",
      "  z_N, a_N, Y_pred = nn_predict(X_train, Theta_L)\n",
      "\n",
      "  # Backprop Error Accumulator\n",
      "  delta_N = {}\n",
      "  for t=1:T\n",
      "    push!(delta_N, {})\n",
      "  end\n",
      "    \n",
      "  # Error for Output layer is predicted value - Y training value\n",
      "  delta = Y_pred - Y_train\n",
      "  if ndims(delta) == 1\n",
      "    delta = reshape(delta, 1, length(delta) )\n",
      "  end\n",
      "\n",
      "  # Loop backwards through Thetas to apply Error to prior Layer (except input layer)\n",
      "  # Finish at T-2 because start at 0, output layer is done outside, the loop and input has no error\n",
      "\n",
      "  # Output Error\n",
      "  delta_N[T] = delta\n",
      "\n",
      "  # Hidden Layers Error    \n",
      "  for t=0:T-2\n",
      "    delta = (delta * Theta_L[T-t][:,2:]) .* sigmoidGradient(z_N[T-t])\n",
      "    delta_N[T-t-1] = delta\n",
      "  end\n",
      "    \n",
      "  # Calculate error gradients (no error in input layer)\n",
      "  # t is the Theta from layer t to layer t+1\n",
      "  for t=1:T\n",
      "    Theta_Gradient_L[t] = Theta_Gradient_L[t] + delta_N[t]' * a_N[t] #'\n",
      "  end\n",
      "\n",
      "  # Average Error + regularization penalty  \n",
      "  for t=1:T\n",
      "    Theta_Gradient_L[t] = Theta_Gradient_L[t] * (1.0/n_observations) + (lmda * regTheta[t])\n",
      "  end\n",
      "  \n",
      "  Y_pred, Theta_Gradient_L\n",
      "\n",
      "end\n",
      "\n",
      "\n",
      "\n",
      "function fit(X_train, Y_train, Theta_L, lmda, epochs)\n",
      "  #\n",
      "  #fit() calls the training back_prop function for the given number of cycles\n",
      "  #tracks error and error improvement rates\n",
      "  #  \n",
      "  #Parameters:\n",
      "  #  X_train - Array of training data with dimension n_observations by n_features\n",
      "  #  Y_train - Array of training classes with dimension n_observations by n_classes\n",
      "  #  Theta_L - 1D array of theta 2d arrays where each theta has dimensions n_units[layer+1] by n_units[layer]+1\n",
      "  #  epochs -  integer of number of times to update Theta_L\n",
      "  #  \n",
      "  #Returns\n",
      "  #  Theta_L - 1D array of Theta arrays\n",
      "  #  J_List - Array (length = epochs) of result of cost function for each iteration\n",
      "\n",
      "  J_list = zeros( epochs )\n",
      "\n",
      "  for i=1:epochs\n",
      "    # Back prop to get Y_pred and Theta gradient\n",
      "    Y_pred, Theta_grad = back_prop(X_train, Y_train, Theta_L, lmda)\n",
      "    # Record cost\n",
      "    J_list[i] = nn_cost(Y_train, Y_pred)\n",
      "    # Update Theta using Learning Rate * Theta Gradient\n",
      "    for t=1:length(Theta_L)\n",
      "      # Start with a large learning rate; need to update this to be more intelligent than simply looking at iteration count\n",
      "      # Need to update to change learning rate based on progress of cost function\n",
      "      if i < 100\n",
      "        learning_rate = 5.0        \n",
      "      else\n",
      "        learning_rate = 1.0\n",
      "      end\n",
      "      Theta_L[t] = Theta_L[t] - ( learning_rate * Theta_grad[t] )\n",
      "    end\n",
      "    #println(\"Cost $i: $(J_list[i])\")\n",
      "  end\n",
      "\n",
      "  Theta_L, J_list\n",
      "\n",
      "end\n",
      "\n",
      "\n",
      "function XOR_test(hidden_unit_length_list, epochs)\n",
      "  #\n",
      "  #XOR_test is a simple test of the nn printing the predicted value to std out\n",
      "  #Trains on a sample XOR data set\n",
      "  #Predicts a single value\n",
      "  #Accepts an option parameter to set architecture of hidden layers\n",
      "  #\n",
      "  \n",
      "  \n",
      "  println( \"Training Data: X & Y\")\n",
      "\n",
      "  # Training Data\n",
      "  X_train = [1 1; 1 0; 0 1; 0 0]\t# Training Input Data\n",
      "  Y_train = [0 1; 1 0; 1 0; 0 1] \t\t\t# Training Classes\n",
      "  println( X_train )\n",
      "  println( Y_train )\n",
      "  \n",
      "  # Hidden layer architecture\n",
      "  hidden_layer_architecture = hidden_unit_length_list\n",
      "\n",
      "  # Regularization Term\n",
      "  lmda = 1e-5\n",
      "\n",
      "  # Initialize Theta based on selected architecture\n",
      "  Theta_L = initialize_theta(size(X_train,2), size(Y_train,2), hidden_layer_architecture)\n",
      "\n",
      "  \n",
      "  # Fit\n",
      "  Theta_L, J_list = fit(X_train, Y_train, Theta_L, lmda, epochs)\n",
      "  \n",
      "  # Print Architecture\n",
      "  print_theta(Theta_L)\n",
      "  \n",
      "  # Print Cost\n",
      "  println(\"Cost Function Applied to Training Data: $(J_list[end])\")\n",
      "\n",
      "  # Predict\n",
      "  X_new = [1 0;0 1;1 1;0 0]\n",
      "  println( \"Given X:\")\n",
      "  println(\"$X_new\")\n",
      "  z_N, a_N, Y_pred = nn_predict(X_new, Theta_L)\n",
      "  println( \"Predicted Y:\") \n",
      "  println(\"$(round(Y_pred,3))\")\n",
      "\n",
      "  Y_pred\n",
      "\n",
      "end\n"
     ],
     "language": "python",
     "metadata": {},
     "outputs": []
    },
    {
     "cell_type": "code",
     "collapsed": false,
     "input": [
      "Y_pred = XOR_test([2], 5000)"
     ],
     "language": "python",
     "metadata": {},
     "outputs": []
    }
   ],
   "metadata": {}
  }
 ]
}