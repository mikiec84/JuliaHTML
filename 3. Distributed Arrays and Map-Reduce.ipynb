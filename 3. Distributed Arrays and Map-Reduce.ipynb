{
 "cells": [
  {
   "cell_type": "code",
   "execution_count": 2,
   "metadata": {
    "collapsed": false
   },
   "outputs": [
    {
     "data": {
      "text/plain": [
       "7-element Array{Int64,1}:\n",
       " 2\n",
       " 3\n",
       " 4\n",
       " 5\n",
       " 6\n",
       " 7\n",
       " 8"
      ]
     },
     "execution_count": 2,
     "metadata": {},
     "output_type": "execute_result"
    }
   ],
   "source": [
    "addprocs(7)"
   ]
  },
  {
   "cell_type": "code",
   "execution_count": 1,
   "metadata": {
    "collapsed": false
   },
   "outputs": [
    {
     "data": {
      "text/plain": [
       "1-element Array{Int64,1}:\n",
       " 1"
      ]
     },
     "execution_count": 1,
     "metadata": {},
     "output_type": "execute_result"
    }
   ],
   "source": [
    "procs()"
   ]
  },
  {
   "cell_type": "code",
   "execution_count": 2,
   "metadata": {
    "collapsed": false
   },
   "outputs": [
    {
     "data": {
      "text/plain": [
       "8"
      ]
     },
     "execution_count": 2,
     "metadata": {},
     "output_type": "execute_result"
    }
   ],
   "source": [
    "nprocs()"
   ]
  },
  {
   "cell_type": "code",
   "execution_count": 3,
   "metadata": {
    "collapsed": false
   },
   "outputs": [
    {
     "data": {
      "text/plain": [
       "10000x10000 Array{Int64,2}:\n",
       " 10   8   6   0   1  4  4   5  1  1   2  …   6   5   4   4  5   0   3  8   6\n",
       "  2   9   0   7   7  5  0   1  3  3   7      7   1   4   1  2   9   9  9   8\n",
       " 10   6   5   0   9  5  2   8  2  1   3      9   4   3   5  9  10   7  9   3\n",
       "  5   9   2   6   3  5  6   1  9  4   1      5   1   0   4  6   3   3  7   9\n",
       "  8   7   4   2   5  1  3   3  7  2   8      2   8   3   4  2   8   5  0   5\n",
       "  9   3   7   7   2  1  8   1  2  8   5  …   0   2   4   7  3   4   5  4   7\n",
       " 10   6   8   3   3  0  4   4  5  4   6      6  10   2   0  3   9   3  6  10\n",
       "  1   9   7   9   1  6  6   8  6  8   0      1   8  10   7  5   5   9  5   8\n",
       "  4  10   4   8   6  7  7   8  5  5   1      9   9   1   6  7   3  10  1   4\n",
       "  7   7   2   5   8  5  2   7  4  6   2      9   6   1   6  5   9   1  4   5\n",
       "  7  10   7   1   6  2  8   8  6  3   7  …   2   0   1   6  8   4  10  8   3\n",
       "  6   4   8   2   3  0  7   9  5  5   4      6   7   4   5  7   3   2  7   6\n",
       "  2   1   2   3   0  8  5   7  3  3   4     10   7   8   5  5   7   2  2   8\n",
       "  ⋮                  ⋮                ⋮  ⋱                  ⋮               \n",
       "  4   1   7   6  10  3  7   0  7  8  10      1   1   3   2  2   5   8  4   8\n",
       "  4   2   4   8   4  9  9   0  9  0   7      2   9   5   0  4   4   3  6   1\n",
       " 10   1  10   0   5  2  5   3  9  9   8  …   2   0   4   9  9   5  10  3   3\n",
       " 10   2   3   3   0  8  1   0  0  6   2      3   9   4   6  6   0   4  1   3\n",
       "  3   1   4  10   0  9  2   5  7  3   1     10   0   2   2  6   3   6  4   7\n",
       "  2   8  10   2   4  5  2   9  4  4   0      2   7   1   4  3   8   1  7   5\n",
       "  8   7   9   3   6  7  4   7  6  4   2      3   3   3  10  3   2   3  4   4\n",
       "  2   4   3   6   2  4  6   3  4  1   2  …   6   4   1   2  2   5   9  0   0\n",
       "  0   9   1   3   3  7  3  10  9  6   8      3   8   6   7  3   2   5  8   4\n",
       "  7   6   2   5   1  0  6   1  5  5   2     10   3   0   0  6   8   7  8   4\n",
       "  2   4   6   1   5  9  4   3  7  6   8      9   8   1   8  9   9   4  7   8\n",
       "  9   5   8   7   6  1  5   8  5  1   4      2   2   9   8  9   3   2  3   7"
      ]
     },
     "execution_count": 3,
     "metadata": {},
     "output_type": "execute_result"
    }
   ],
   "source": [
    "dat=map(x->round(Int,x*10),rand(10000,10000))"
   ]
  },
  {
   "cell_type": "code",
   "execution_count": 4,
   "metadata": {
    "collapsed": false
   },
   "outputs": [
    {
     "data": {
      "text/plain": [
       "10000x10000 Array{Int64,2}:\n",
       " 1  1  1  1  1  1  1  1  1  1  1  1  1  …  1  1  1  1  1  1  1  1  1  1  1  1\n",
       " 1  1  1  1  1  1  1  1  1  1  1  1  1     1  1  1  1  1  1  1  1  1  1  1  1\n",
       " 1  1  1  1  1  1  1  1  1  1  1  1  1     1  1  1  1  1  1  1  1  1  1  1  1\n",
       " 1  1  1  1  1  1  1  1  1  1  1  1  1     1  1  1  1  1  1  1  1  1  1  1  1\n",
       " 1  1  1  1  1  1  1  1  1  1  1  1  1     1  1  1  1  1  1  1  1  1  1  1  1\n",
       " 1  1  1  1  1  1  1  1  1  1  1  1  1  …  1  1  1  1  1  1  1  1  1  1  1  1\n",
       " 1  1  1  1  1  1  1  1  1  1  1  1  1     1  1  1  1  1  1  1  1  1  1  1  1\n",
       " 1  1  1  1  1  1  1  1  1  1  1  1  1     1  1  1  1  1  1  1  1  1  1  1  1\n",
       " 1  1  1  1  1  1  1  1  1  1  1  1  1     1  1  1  1  1  1  1  1  1  1  1  1\n",
       " 1  1  1  1  1  1  1  1  1  1  1  1  1     1  1  1  1  1  1  1  1  1  1  1  1\n",
       " 1  1  1  1  1  1  1  1  1  1  1  1  1  …  1  1  1  1  1  1  1  1  1  1  1  1\n",
       " 1  1  1  1  1  1  1  1  1  1  1  1  1     1  1  1  1  1  1  1  1  1  1  1  1\n",
       " 1  1  1  1  1  1  1  1  1  1  1  1  1     1  1  1  1  1  1  1  1  1  1  1  1\n",
       " ⋮              ⋮              ⋮        ⋱        ⋮              ⋮            \n",
       " 1  1  1  1  1  1  1  1  1  1  1  1  1     1  1  1  1  1  1  1  1  1  1  1  1\n",
       " 1  1  1  1  1  1  1  1  1  1  1  1  1     1  1  1  1  1  1  1  1  1  1  1  1\n",
       " 1  1  1  1  1  1  1  1  1  1  1  1  1  …  1  1  1  1  1  1  1  1  1  1  1  1\n",
       " 1  1  1  1  1  1  1  1  1  1  1  1  1     1  1  1  1  1  1  1  1  1  1  1  1\n",
       " 1  1  1  1  1  1  1  1  1  1  1  1  1     1  1  1  1  1  1  1  1  1  1  1  1\n",
       " 1  1  1  1  1  1  1  1  1  1  1  1  1     1  1  1  1  1  1  1  1  1  1  1  1\n",
       " 1  1  1  1  1  1  1  1  1  1  1  1  1     1  1  1  1  1  1  1  1  1  1  1  1\n",
       " 1  1  1  1  1  1  1  1  1  1  1  1  1  …  1  1  1  1  1  1  1  1  1  1  1  1\n",
       " 1  1  1  1  1  1  1  1  1  1  1  1  1     1  1  1  1  1  1  1  1  1  1  1  1\n",
       " 1  1  1  1  1  1  1  1  1  1  1  1  1     1  1  1  1  1  1  1  1  1  1  1  1\n",
       " 1  1  1  1  1  1  1  1  1  1  1  1  1     1  1  1  1  1  1  1  1  1  1  1  1\n",
       " 1  1  1  1  1  1  1  1  1  1  1  1  1     1  1  1  1  1  1  1  1  1  1  1  1"
      ]
     },
     "execution_count": 4,
     "metadata": {},
     "output_type": "execute_result"
    }
   ],
   "source": [
    "map(x->myid(),dat)"
   ]
  },
  {
   "cell_type": "code",
   "execution_count": 5,
   "metadata": {
    "collapsed": false
   },
   "outputs": [
    {
     "data": {
      "text/plain": [
       "10000x10000 DistributedArrays.DArray{Int64,2,Array{Int64,2}}:\n",
       " 10   8   6   0   1  4  4   5  1  1   2  …   6   5   4   4  5   0   3  8   6\n",
       "  2   9   0   7   7  5  0   1  3  3   7      7   1   4   1  2   9   9  9   8\n",
       " 10   6   5   0   9  5  2   8  2  1   3      9   4   3   5  9  10   7  9   3\n",
       "  5   9   2   6   3  5  6   1  9  4   1      5   1   0   4  6   3   3  7   9\n",
       "  8   7   4   2   5  1  3   3  7  2   8      2   8   3   4  2   8   5  0   5\n",
       "  9   3   7   7   2  1  8   1  2  8   5  …   0   2   4   7  3   4   5  4   7\n",
       " 10   6   8   3   3  0  4   4  5  4   6      6  10   2   0  3   9   3  6  10\n",
       "  1   9   7   9   1  6  6   8  6  8   0      1   8  10   7  5   5   9  5   8\n",
       "  4  10   4   8   6  7  7   8  5  5   1      9   9   1   6  7   3  10  1   4\n",
       "  7   7   2   5   8  5  2   7  4  6   2      9   6   1   6  5   9   1  4   5\n",
       "  7  10   7   1   6  2  8   8  6  3   7  …   2   0   1   6  8   4  10  8   3\n",
       "  6   4   8   2   3  0  7   9  5  5   4      6   7   4   5  7   3   2  7   6\n",
       "  2   1   2   3   0  8  5   7  3  3   4     10   7   8   5  5   7   2  2   8\n",
       "  ⋮                  ⋮                ⋮  ⋱                  ⋮               \n",
       "  4   1   7   6  10  3  7   0  7  8  10      1   1   3   2  2   5   8  4   8\n",
       "  4   2   4   8   4  9  9   0  9  0   7      2   9   5   0  4   4   3  6   1\n",
       " 10   1  10   0   5  2  5   3  9  9   8  …   2   0   4   9  9   5  10  3   3\n",
       " 10   2   3   3   0  8  1   0  0  6   2      3   9   4   6  6   0   4  1   3\n",
       "  3   1   4  10   0  9  2   5  7  3   1     10   0   2   2  6   3   6  4   7\n",
       "  2   8  10   2   4  5  2   9  4  4   0      2   7   1   4  3   8   1  7   5\n",
       "  8   7   9   3   6  7  4   7  6  4   2      3   3   3  10  3   2   3  4   4\n",
       "  2   4   3   6   2  4  6   3  4  1   2  …   6   4   1   2  2   5   9  0   0\n",
       "  0   9   1   3   3  7  3  10  9  6   8      3   8   6   7  3   2   5  8   4\n",
       "  7   6   2   5   1  0  6   1  5  5   2     10   3   0   0  6   8   7  8   4\n",
       "  2   4   6   1   5  9  4   3  7  6   8      9   8   1   8  9   9   4  7   8\n",
       "  9   5   8   7   6  1  5   8  5  1   4      2   2   9   8  9   3   2  3   7"
      ]
     },
     "execution_count": 5,
     "metadata": {},
     "output_type": "execute_result"
    }
   ],
   "source": [
    "using DistributedArrays\n",
    "\n",
    "ddat=distribute(dat)"
   ]
  },
  {
   "cell_type": "code",
   "execution_count": 6,
   "metadata": {
    "collapsed": false
   },
   "outputs": [
    {
     "data": {
      "text/plain": [
       "10000x10000 DistributedArrays.DArray{Int64,2,Array{Int64,2}}:\n",
       " 2  2  2  2  2  2  2  2  2  2  2  2  2  …  8  8  8  8  8  8  8  8  8  8  8  8\n",
       " 2  2  2  2  2  2  2  2  2  2  2  2  2     8  8  8  8  8  8  8  8  8  8  8  8\n",
       " 2  2  2  2  2  2  2  2  2  2  2  2  2     8  8  8  8  8  8  8  8  8  8  8  8\n",
       " 2  2  2  2  2  2  2  2  2  2  2  2  2     8  8  8  8  8  8  8  8  8  8  8  8\n",
       " 2  2  2  2  2  2  2  2  2  2  2  2  2     8  8  8  8  8  8  8  8  8  8  8  8\n",
       " 2  2  2  2  2  2  2  2  2  2  2  2  2  …  8  8  8  8  8  8  8  8  8  8  8  8\n",
       " 2  2  2  2  2  2  2  2  2  2  2  2  2     8  8  8  8  8  8  8  8  8  8  8  8\n",
       " 2  2  2  2  2  2  2  2  2  2  2  2  2     8  8  8  8  8  8  8  8  8  8  8  8\n",
       " 2  2  2  2  2  2  2  2  2  2  2  2  2     8  8  8  8  8  8  8  8  8  8  8  8\n",
       " 2  2  2  2  2  2  2  2  2  2  2  2  2     8  8  8  8  8  8  8  8  8  8  8  8\n",
       " 2  2  2  2  2  2  2  2  2  2  2  2  2  …  8  8  8  8  8  8  8  8  8  8  8  8\n",
       " 2  2  2  2  2  2  2  2  2  2  2  2  2     8  8  8  8  8  8  8  8  8  8  8  8\n",
       " 2  2  2  2  2  2  2  2  2  2  2  2  2     8  8  8  8  8  8  8  8  8  8  8  8\n",
       " ⋮              ⋮              ⋮        ⋱        ⋮              ⋮            \n",
       " 2  2  2  2  2  2  2  2  2  2  2  2  2     8  8  8  8  8  8  8  8  8  8  8  8\n",
       " 2  2  2  2  2  2  2  2  2  2  2  2  2     8  8  8  8  8  8  8  8  8  8  8  8\n",
       " 2  2  2  2  2  2  2  2  2  2  2  2  2  …  8  8  8  8  8  8  8  8  8  8  8  8\n",
       " 2  2  2  2  2  2  2  2  2  2  2  2  2     8  8  8  8  8  8  8  8  8  8  8  8\n",
       " 2  2  2  2  2  2  2  2  2  2  2  2  2     8  8  8  8  8  8  8  8  8  8  8  8\n",
       " 2  2  2  2  2  2  2  2  2  2  2  2  2     8  8  8  8  8  8  8  8  8  8  8  8\n",
       " 2  2  2  2  2  2  2  2  2  2  2  2  2     8  8  8  8  8  8  8  8  8  8  8  8\n",
       " 2  2  2  2  2  2  2  2  2  2  2  2  2  …  8  8  8  8  8  8  8  8  8  8  8  8\n",
       " 2  2  2  2  2  2  2  2  2  2  2  2  2     8  8  8  8  8  8  8  8  8  8  8  8\n",
       " 2  2  2  2  2  2  2  2  2  2  2  2  2     8  8  8  8  8  8  8  8  8  8  8  8\n",
       " 2  2  2  2  2  2  2  2  2  2  2  2  2     8  8  8  8  8  8  8  8  8  8  8  8\n",
       " 2  2  2  2  2  2  2  2  2  2  2  2  2     8  8  8  8  8  8  8  8  8  8  8  8"
      ]
     },
     "execution_count": 6,
     "metadata": {},
     "output_type": "execute_result"
    }
   ],
   "source": [
    "map(x->myid(),ddat)"
   ]
  },
  {
   "cell_type": "code",
   "execution_count": 7,
   "metadata": {
    "collapsed": false
   },
   "outputs": [
    {
     "data": {
      "text/plain": [
       "10000x10000 DistributedArrays.DArray{Int64,2,Array{Int64,2}}:\n",
       " 2  2  2  2  2  2  2  2  2  2  2  2  2  …  8  8  8  8  8  8  8  8  8  8  8  8\n",
       " 2  2  2  2  2  2  2  2  2  2  2  2  2     8  8  8  8  8  8  8  8  8  8  8  8\n",
       " 2  2  2  2  2  2  2  2  2  2  2  2  2     8  8  8  8  8  8  8  8  8  8  8  8\n",
       " 2  2  2  2  2  2  2  2  2  2  2  2  2     8  8  8  8  8  8  8  8  8  8  8  8\n",
       " 2  2  2  2  2  2  2  2  2  2  2  2  2     8  8  8  8  8  8  8  8  8  8  8  8\n",
       " 2  2  2  2  2  2  2  2  2  2  2  2  2  …  8  8  8  8  8  8  8  8  8  8  8  8\n",
       " 2  2  2  2  2  2  2  2  2  2  2  2  2     8  8  8  8  8  8  8  8  8  8  8  8\n",
       " 2  2  2  2  2  2  2  2  2  2  2  2  2     8  8  8  8  8  8  8  8  8  8  8  8\n",
       " 2  2  2  2  2  2  2  2  2  2  2  2  2     8  8  8  8  8  8  8  8  8  8  8  8\n",
       " 2  2  2  2  2  2  2  2  2  2  2  2  2     8  8  8  8  8  8  8  8  8  8  8  8\n",
       " 2  2  2  2  2  2  2  2  2  2  2  2  2  …  8  8  8  8  8  8  8  8  8  8  8  8\n",
       " 2  2  2  2  2  2  2  2  2  2  2  2  2     8  8  8  8  8  8  8  8  8  8  8  8\n",
       " 2  2  2  2  2  2  2  2  2  2  2  2  2     8  8  8  8  8  8  8  8  8  8  8  8\n",
       " ⋮              ⋮              ⋮        ⋱        ⋮              ⋮            \n",
       " 2  2  2  2  2  2  2  2  2  2  2  2  2     8  8  8  8  8  8  8  8  8  8  8  8\n",
       " 2  2  2  2  2  2  2  2  2  2  2  2  2     8  8  8  8  8  8  8  8  8  8  8  8\n",
       " 2  2  2  2  2  2  2  2  2  2  2  2  2  …  8  8  8  8  8  8  8  8  8  8  8  8\n",
       " 2  2  2  2  2  2  2  2  2  2  2  2  2     8  8  8  8  8  8  8  8  8  8  8  8\n",
       " 2  2  2  2  2  2  2  2  2  2  2  2  2     8  8  8  8  8  8  8  8  8  8  8  8\n",
       " 2  2  2  2  2  2  2  2  2  2  2  2  2     8  8  8  8  8  8  8  8  8  8  8  8\n",
       " 2  2  2  2  2  2  2  2  2  2  2  2  2     8  8  8  8  8  8  8  8  8  8  8  8\n",
       " 2  2  2  2  2  2  2  2  2  2  2  2  2  …  8  8  8  8  8  8  8  8  8  8  8  8\n",
       " 2  2  2  2  2  2  2  2  2  2  2  2  2     8  8  8  8  8  8  8  8  8  8  8  8\n",
       " 2  2  2  2  2  2  2  2  2  2  2  2  2     8  8  8  8  8  8  8  8  8  8  8  8\n",
       " 2  2  2  2  2  2  2  2  2  2  2  2  2     8  8  8  8  8  8  8  8  8  8  8  8\n",
       " 2  2  2  2  2  2  2  2  2  2  2  2  2     8  8  8  8  8  8  8  8  8  8  8  8"
      ]
     },
     "execution_count": 7,
     "metadata": {},
     "output_type": "execute_result"
    }
   ],
   "source": [
    "map(x->myid(),ddat)"
   ]
  },
  {
   "cell_type": "code",
   "execution_count": 8,
   "metadata": {
    "collapsed": false
   },
   "outputs": [
    {
     "name": "stdout",
     "output_type": "stream",
     "text": [
      "  6.289228 seconds (100.00 M allocations: 2.235 GB, 2.32% gc time)\n"
     ]
    }
   ],
   "source": [
    "@time map(sin,dat);"
   ]
  },
  {
   "cell_type": "code",
   "execution_count": 10,
   "metadata": {
    "collapsed": false
   },
   "outputs": [
    {
     "name": "stdout",
     "output_type": "stream",
     "text": [
      "  2.205441 seconds (7.29 k allocations: 588.406 KB)\n"
     ]
    }
   ],
   "source": [
    "@time map(sin,ddat);"
   ]
  },
  {
   "cell_type": "code",
   "execution_count": 11,
   "metadata": {
    "collapsed": false
   },
   "outputs": [
    {
     "data": {
      "text/plain": [
       "intsum (generic function with 1 method)"
      ]
     },
     "execution_count": 11,
     "metadata": {},
     "output_type": "execute_result"
    }
   ],
   "source": [
    "function intsum(x)\n",
    "  if x==0 \n",
    "    0\n",
    "  else\n",
    "    x+intsum(x-1)\n",
    "  end\n",
    "end"
   ]
  },
  {
   "cell_type": "code",
   "execution_count": 12,
   "metadata": {
    "collapsed": false
   },
   "outputs": [
    {
     "name": "stdout",
     "output_type": "stream",
     "text": [
      "  "
     ]
    },
    {
     "data": {
      "text/plain": [
       "1924866723"
      ]
     },
     "execution_count": 12,
     "metadata": {},
     "output_type": "execute_result"
    },
    {
     "name": "stdout",
     "output_type": "stream",
     "text": [
      "5.953302 seconds (93.31 k allocations: 766.850 MB, 0.04% gc time)\n"
     ]
    }
   ],
   "source": [
    "@time reduce(+,map(intsum,dat))"
   ]
  },
  {
   "cell_type": "code",
   "execution_count": 13,
   "metadata": {
    "collapsed": false
   },
   "outputs": [],
   "source": [
    "@everywhere function intsum(x)\n",
    "  if x==0 \n",
    "    0\n",
    "  else\n",
    "    x+intsum(x-1)\n",
    "  end\n",
    "end"
   ]
  },
  {
   "cell_type": "code",
   "execution_count": 14,
   "metadata": {
    "collapsed": false
   },
   "outputs": [
    {
     "name": "stdout",
     "output_type": "stream",
     "text": [
      "  "
     ]
    },
    {
     "data": {
      "text/plain": [
       "1924866723"
      ]
     },
     "execution_count": 14,
     "metadata": {},
     "output_type": "execute_result"
    },
    {
     "name": "stdout",
     "output_type": "stream",
     "text": [
      "1.974677 seconds (33.86 k allocations: 2.082 MB)\n"
     ]
    }
   ],
   "source": [
    "@time reduce(+,map(intsum,ddat))"
   ]
  },
  {
   "cell_type": "code",
   "execution_count": 15,
   "metadata": {
    "collapsed": false
   },
   "outputs": [],
   "source": [
    "@everywhere function rsumtail(x,n)\n",
    "  if x==0\n",
    "    n\n",
    "  else\n",
    "    rsumtail(x-1,n+x)\n",
    "  end\n",
    "end\n",
    "\n",
    "@everywhere function rsumtail(x)\n",
    "  rsumtail(x,0)\n",
    "end\n",
    "\n",
    "@everywhere function rsum(x)\n",
    "  if x==0\n",
    "    0\n",
    "  else\n",
    "    x+rsum(x-1)\n",
    "  end\n",
    "end\n"
   ]
  },
  {
   "cell_type": "code",
   "execution_count": 16,
   "metadata": {
    "collapsed": false
   },
   "outputs": [
    {
     "name": "stdout",
     "output_type": "stream",
     "text": [
      "  "
     ]
    },
    {
     "data": {
      "text/plain": [
       "5000050000"
      ]
     },
     "execution_count": 16,
     "metadata": {},
     "output_type": "execute_result"
    },
    {
     "name": "stdout",
     "output_type": "stream",
     "text": [
      "0.003264 seconds (1.05 k allocations: 57.521 KB)\n"
     ]
    }
   ],
   "source": [
    "@time rsumtail(100000)"
   ]
  },
  {
   "cell_type": "code",
   "execution_count": 17,
   "metadata": {
    "collapsed": false
   },
   "outputs": [
    {
     "name": "stdout",
     "output_type": "stream",
     "text": [
      "  "
     ]
    },
    {
     "data": {
      "text/plain": [
       "5000050000"
      ]
     },
     "execution_count": 17,
     "metadata": {},
     "output_type": "execute_result"
    },
    {
     "name": "stdout",
     "output_type": "stream",
     "text": [
      "0.002758 seconds (633 allocations: 33.311 KB)\n"
     ]
    }
   ],
   "source": [
    "@time rsum(100000)"
   ]
  },
  {
   "cell_type": "code",
   "execution_count": 18,
   "metadata": {
    "collapsed": false
   },
   "outputs": [
    {
     "name": "stdout",
     "output_type": "stream",
     "text": [
      " 26"
     ]
    },
    {
     "data": {
      "text/plain": [
       "1924866723"
      ]
     },
     "execution_count": 18,
     "metadata": {},
     "output_type": "execute_result"
    },
    {
     "name": "stdout",
     "output_type": "stream",
     "text": [
      ".790606 seconds (300.00 M allocations: 5.960 GB, 3.16% gc time)\n"
     ]
    }
   ],
   "source": [
    "@time (s=0;\n",
    "for i in dat\n",
    "  s+=intsum(i)\n",
    "end;\n",
    "s)"
   ]
  },
  {
   "cell_type": "code",
   "execution_count": 19,
   "metadata": {
    "collapsed": false
   },
   "outputs": [
    {
     "name": "stdout",
     "output_type": "stream",
     "text": [
      " 16"
     ]
    },
    {
     "data": {
      "text/plain": [
       "1924866723"
      ]
     },
     "execution_count": 19,
     "metadata": {},
     "output_type": "execute_result"
    },
    {
     "name": "stdout",
     "output_type": "stream",
     "text": [
      ".463637 seconds (143.18 k allocations: 6.283 MB)\n"
     ]
    }
   ],
   "source": [
    "@time @parallel (+) for i in dat\n",
    "  intsum(i)\n",
    "end"
   ]
  },
  {
   "cell_type": "code",
   "execution_count": 20,
   "metadata": {
    "collapsed": false
   },
   "outputs": [
    {
     "name": "stdout",
     "output_type": "stream",
     "text": [
      "  "
     ]
    },
    {
     "data": {
      "text/plain": [
       "1924866723"
      ]
     },
     "execution_count": 20,
     "metadata": {},
     "output_type": "execute_result"
    },
    {
     "name": "stdout",
     "output_type": "stream",
     "text": [
      "1.673824 seconds (15.08 k allocations: 1.180 MB)\n"
     ]
    }
   ],
   "source": [
    "@time reduce(+,map(intsum,ddat))"
   ]
  },
  {
   "cell_type": "code",
   "execution_count": 21,
   "metadata": {
    "collapsed": false
   },
   "outputs": [
    {
     "data": {
      "text/plain": [
       "1x7 Array{Tuple{UnitRange{Int64},UnitRange{Int64}},2}:\n",
       " (1:10000,1:1429)  (1:10000,1430:2857)  …  (1:10000,8572:10000)"
      ]
     },
     "execution_count": 21,
     "metadata": {},
     "output_type": "execute_result"
    }
   ],
   "source": [
    "ddat.indexes"
   ]
  },
  {
   "cell_type": "code",
   "execution_count": 22,
   "metadata": {
    "collapsed": false
   },
   "outputs": [
    {
     "data": {
      "text/plain": [
       "1x7 Array{RemoteRef{RemoteStore},2}:\n",
       " RemoteRef{Channel{Any}}(2,1,23)  …  RemoteRef{Channel{Any}}(8,1,29)"
      ]
     },
     "execution_count": 22,
     "metadata": {},
     "output_type": "execute_result"
    }
   ],
   "source": [
    "ddat.chunks"
   ]
  },
  {
   "cell_type": "code",
   "execution_count": 24,
   "metadata": {
    "collapsed": false
   },
   "outputs": [
    {
     "data": {
      "text/plain": [
       "1x7 Array{Int64,2}:\n",
       " 2  3  4  5  6  7  8"
      ]
     },
     "execution_count": 24,
     "metadata": {},
     "output_type": "execute_result"
    }
   ],
   "source": [
    "ddat.pids"
   ]
  },
  {
   "cell_type": "code",
   "execution_count": 30,
   "metadata": {
    "collapsed": false
   },
   "outputs": [
    {
     "data": {
      "text/plain": [
       "10000x1428 Array{Int64,2}:\n",
       "  5   5   4  3   3   9  3   3  9   2  …   1   8   6   9   4   6   5  10  3\n",
       "  6   9   8  4   7  10  5   1  3   2      7   5   3  10   9   7   9   8  5\n",
       "  3   8   3  7   9   8  4   1  4   5      3   8   3   7   7   5   3   7  5\n",
       "  3   2   7  8   8   4  7   3  3   1      5   1   2   7   4   4   8   4  7\n",
       "  3   5   7  5   8   6  8   7  6   7      6   1   8   7  10   5   6   4  9\n",
       "  1   8   2  4   0  10  7   6  4   8  …  10   6   4   9   4   4   0   3  3\n",
       "  8   6   1  6   7   9  3   2  7   3      4   1   4   2   2   4   7  10  3\n",
       "  8   6   5  6   7   8  8   6  2   6      5   2   1   4   2  10   9   2  4\n",
       "  4   9   2  3   8   0  8   7  2   9      8   1   3  10   7   8  10   0  1\n",
       "  6   8   9  2   2   2  8   7  4   5      7  10   4   3   1   7   6   6  3\n",
       "  5   5   3  5   3   7  9   8  5   6  …   8   7   5   1   2   7   5   5  9\n",
       "  3   2   7  3   1   6  6   4  6   9      5   9  10   9   8   6   1   2  6\n",
       "  3   0   1  6   1   8  7   8  9   8      7   2   7   2   8   9   3   4  0\n",
       "  ⋮                  ⋮                ⋱       ⋮                   ⋮       \n",
       "  8   7   0  2   4   3  3  10  6   6      4   7   7   9   3   5   9   3  5\n",
       "  0   8   2  5   5   3  1   7  6   9      3   5   9   8   2   8   3   2  8\n",
       "  5   5   4  2   4   7  8   4  7   8  …   5   9  10   1   1   8   4   4  2\n",
       "  4  10   3  5   2   5  1   8  4   3      2   5   7   6   6   4   5   8  6\n",
       " 10   1   8  4   2   3  1   9  5   9      8   1   1   1   6   8   1   9  6\n",
       "  4  10   6  2   6   6  6   7  7   8      7   7   2   8   7   5   3   2  7\n",
       "  7   4   2  3  10   3  7   5  6   3      2   5   6   5   1   9   6   7  5\n",
       "  9   3   9  8   2   2  8   9  1   2  …   7   0   4   7   3   7   5   0  6\n",
       "  8   6  10  3   5   5  9   7  3   9      7   5   2   4   2   7   4   1  6\n",
       " 10   8   5  3   9   6  2   6  5  10      3   3   7   7   3   4   8  10  4\n",
       "  5   0   4  1   2   4  1   1  8   2      3   3   3   5   1   8   2   1  7\n",
       "  3   2   9  4   2   5  8   7  5   9      3   1   6   9   1   8   5   5  2"
      ]
     },
     "execution_count": 30,
     "metadata": {},
     "output_type": "execute_result"
    }
   ],
   "source": [
    "fetch(@spawnat 3 map(x->x,localpart(ddat)))"
   ]
  },
  {
   "cell_type": "code",
   "execution_count": 25,
   "metadata": {
    "collapsed": false
   },
   "outputs": [
    {
     "data": {
      "text/plain": [
       "478500436"
      ]
     },
     "execution_count": 25,
     "metadata": {},
     "output_type": "execute_result"
    }
   ],
   "source": [
    "fetch(@spawnat 3 sum(x->x*x,localpart(ddat)))"
   ]
  },
  {
   "cell_type": "code",
   "execution_count": 34,
   "metadata": {
    "collapsed": false
   },
   "outputs": [
    {
     "data": {
      "text/plain": [
       "7-element Array{Any,1}:\n",
       " 478642323\n",
       " 478500436\n",
       " 478775883\n",
       " 478334657\n",
       " 478622426\n",
       " 478253274\n",
       " 478641183"
      ]
     },
     "execution_count": 34,
     "metadata": {},
     "output_type": "execute_result"
    }
   ],
   "source": [
    "map(fetch,[@spawnat p sum(map(x->x*x,localpart(ddat))) for p in ddat.pids])"
   ]
  },
  {
   "cell_type": "code",
   "execution_count": 15,
   "metadata": {
    "collapsed": false
   },
   "outputs": [
    {
     "data": {
      "text/plain": [
       "1x7 Array{Int64,2}:\n",
       " 2  3  4  5  6  7  8"
      ]
     },
     "execution_count": 15,
     "metadata": {},
     "output_type": "execute_result"
    }
   ],
   "source": [
    "ddat.pids"
   ]
  },
  {
   "cell_type": "code",
   "execution_count": 17,
   "metadata": {
    "collapsed": false
   },
   "outputs": [
    {
     "name": "stdout",
     "output_type": "stream",
     "text": [
      "  "
     ]
    },
    {
     "data": {
      "text/plain": [
       "3350316290"
      ]
     },
     "execution_count": 17,
     "metadata": {},
     "output_type": "execute_result"
    },
    {
     "name": "stdout",
     "output_type": "stream",
     "text": [
      "2.016789 seconds (7.29 k allocations: 571.484 KB)\n"
     ]
    }
   ],
   "source": [
    "@time reduce(+,map(fetch,[@spawnat p sum(map(x->x*x,localpart(ddat))) for p in procs(ddat)]))"
   ]
  },
  {
   "cell_type": "code",
   "execution_count": 19,
   "metadata": {
    "collapsed": false
   },
   "outputs": [
    {
     "name": "stdout",
     "output_type": "stream",
     "text": [
      "  "
     ]
    },
    {
     "data": {
      "text/plain": [
       "3350316290"
      ]
     },
     "execution_count": 19,
     "metadata": {},
     "output_type": "execute_result"
    },
    {
     "name": "stdout",
     "output_type": "stream",
     "text": [
      "1.098422 seconds (16.61 k allocations: 1.290 MB, 0.94% gc time)\n"
     ]
    }
   ],
   "source": [
    "@time reduce(+,map(x->x*x,ddat))"
   ]
  },
  {
   "cell_type": "code",
   "execution_count": 43,
   "metadata": {
    "collapsed": false
   },
   "outputs": [
    {
     "name": "stdout",
     "output_type": "stream",
     "text": [
      "  "
     ]
    },
    {
     "data": {
      "text/plain": [
       "3349770182"
      ]
     },
     "execution_count": 43,
     "metadata": {},
     "output_type": "execute_result"
    },
    {
     "name": "stdout",
     "output_type": "stream",
     "text": [
      "6.649570 seconds (98.16 M allocations: 1.463 GB, 5.26% gc time)\n"
     ]
    }
   ],
   "source": [
    "@time sum(x->x*x,dat)"
   ]
  },
  {
   "cell_type": "code",
   "execution_count": 20,
   "metadata": {
    "collapsed": false
   },
   "outputs": [
    {
     "name": "stderr",
     "output_type": "stream",
     "text": [
      "INFO: Nothing to be done\n",
      "INFO: METADATA might be out-of-date — you may not have the latest version of DistributedArrays\n",
      "INFO: Use `Pkg.update()` to get the latest versions of your packages\n"
     ]
    }
   ],
   "source": [
    "Pkg.add(\"DistributedArrays\")"
   ]
  },
  {
   "cell_type": "code",
   "execution_count": 21,
   "metadata": {
    "collapsed": false
   },
   "outputs": [
    {
     "data": {
      "text/plain": [
       "Dict{ASCIIString,VersionNumber} with 73 entries:\n",
       "  \"Graphs\"            => v\"0.6.0\"\n",
       "  \"ImmutableArrays\"   => v\"0.0.11\"\n",
       "  \"Tk\"                => v\"0.3.6\"\n",
       "  \"ZMQ\"               => v\"0.3.0\"\n",
       "  \"ArrayViews\"        => v\"0.6.4\"\n",
       "  \"DataStructures\"    => v\"0.3.13\"\n",
       "  \"ColorVectorSpace\"  => v\"0.1.0\"\n",
       "  \"Compat\"            => v\"0.7.7\"\n",
       "  \"Calculus\"          => v\"0.1.14\"\n",
       "  \"GZip\"              => v\"0.2.18\"\n",
       "  \"Clustering\"        => v\"0.5.0\"\n",
       "  \"StatsFuns\"         => v\"0.2.0\"\n",
       "  \"Geodesy\"           => v\"0.0.1\"\n",
       "  \"OpenStreetMap\"     => v\"0.8.1\"\n",
       "  \"Cairo\"             => v\"0.2.31\"\n",
       "  \"DataFrames\"        => v\"0.6.10\"\n",
       "  \"Blosc\"             => v\"0.1.4\"\n",
       "  \"Showoff\"           => v\"0.0.6\"\n",
       "  \"Distributions\"     => v\"0.8.7\"\n",
       "  \"ICU\"               => v\"0.4.4\"\n",
       "  \"LibExpat\"          => v\"0.1.0\"\n",
       "  \"FixedPointNumbers\" => v\"0.1.1\"\n",
       "  \"SHA\"               => v\"0.1.2\"\n",
       "  \"DualNumbers\"       => v\"0.1.5\"\n",
       "  \"TexExtensions\"     => v\"0.0.3\"\n",
       "  ⋮                   => ⋮"
      ]
     },
     "execution_count": 21,
     "metadata": {},
     "output_type": "execute_result"
    }
   ],
   "source": [
    "Pkg.installed()"
   ]
  },
  {
   "cell_type": "code",
   "execution_count": null,
   "metadata": {
    "collapsed": true
   },
   "outputs": [],
   "source": []
  }
 ],
 "metadata": {
  "kernelspec": {
   "display_name": "Julia 0.4.0",
   "language": "julia",
   "name": "julia-0.4"
  },
  "language_info": {
   "file_extension": ".jl",
   "mimetype": "application/julia",
   "name": "julia",
   "version": "0.4.0"
  }
 },
 "nbformat": 4,
 "nbformat_minor": 0
}
