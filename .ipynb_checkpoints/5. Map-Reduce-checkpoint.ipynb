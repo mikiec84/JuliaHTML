{
 "metadata": {
  "language": "Julia",
  "name": ""
 },
 "nbformat": 3,
 "nbformat_minor": 0,
 "worksheets": [
  {
   "cells": [
    {
     "cell_type": "code",
     "collapsed": false,
     "input": [
      "addprocs(5);"
     ],
     "language": "python",
     "metadata": {},
     "outputs": [],
     "prompt_number": 1
    },
    {
     "cell_type": "code",
     "collapsed": false,
     "input": [
      "nprocs()"
     ],
     "language": "python",
     "metadata": {},
     "outputs": [
      {
       "metadata": {},
       "output_type": "pyout",
       "prompt_number": 2,
       "text": [
        "6"
       ]
      }
     ],
     "prompt_number": 2
    },
    {
     "cell_type": "code",
     "collapsed": false,
     "input": [
      "@everywhere function par(I)\n",
      "  d=(length(I[1]),length(I[2]))\n",
      "  m=fill(myid(),d)\n",
      "  println(I)\n",
      "  println(d)\n",
      "  return m\n",
      "end"
     ],
     "language": "python",
     "metadata": {},
     "outputs": [],
     "prompt_number": 3
    },
    {
     "cell_type": "code",
     "collapsed": false,
     "input": [
      "m=DArray(par,(8,8),[2:5])"
     ],
     "language": "python",
     "metadata": {},
     "outputs": [
      {
       "output_type": "stream",
       "stream": "stdout",
       "text": [
        "\tFrom worker 2:\t(1:4,1:4)\n",
        "\tFrom worker 2:\t(4,4)\n",
        "\tFrom worker 3:\t(5:8,1:4)\n",
        "\tFrom worker 3:\t(4,4)\n",
        "\tFrom worker 4:\t(1:4,5:8)\n",
        "\tFrom worker 4:\t(4,4)\n",
        "\tFrom worker 5:\t(5:8,5:8)\n",
        "\tFrom worker 5:\t(4,4)\n"
       ]
      },
      {
       "metadata": {},
       "output_type": "pyout",
       "prompt_number": 4,
       "text": [
        "8x8 DArray{Int64,2,Array{Int64,2}}:\n",
        " 2  2  2  2  4  4  4  4\n",
        " 2  2  2  2  4  4  4  4\n",
        " 2  2  2  2  4  4  4  4\n",
        " 2  2  2  2  4  4  4  4\n",
        " 3  3  3  3  5  5  5  5\n",
        " 3  3  3  3  5  5  5  5\n",
        " 3  3  3  3  5  5  5  5\n",
        " 3  3  3  3  5  5  5  5"
       ]
      }
     ],
     "prompt_number": 4
    },
    {
     "cell_type": "code",
     "collapsed": false,
     "input": [
      "m.indexes"
     ],
     "language": "python",
     "metadata": {},
     "outputs": [
      {
       "metadata": {},
       "output_type": "pyout",
       "prompt_number": 5,
       "text": [
        "2x2 Array{(Range1{Int64},Range1{Int64}),2}:\n",
        " (1:4,1:4)  (1:4,5:8)\n",
        " (5:8,1:4)  (5:8,5:8)"
       ]
      }
     ],
     "prompt_number": 5
    },
    {
     "cell_type": "code",
     "collapsed": false,
     "input": [
      "m.chunks"
     ],
     "language": "python",
     "metadata": {},
     "outputs": [
      {
       "metadata": {},
       "output_type": "pyout",
       "prompt_number": 6,
       "text": [
        "2x2 Array{RemoteRef,2}:\n",
        " RemoteRef(2,1,15)  RemoteRef(4,1,17)\n",
        " RemoteRef(3,1,16)  RemoteRef(5,1,18)"
       ]
      }
     ],
     "prompt_number": 6
    },
    {
     "cell_type": "code",
     "collapsed": false,
     "input": [
      "fetch(@spawnat 2 localpart(m))"
     ],
     "language": "python",
     "metadata": {},
     "outputs": [
      {
       "metadata": {},
       "output_type": "pyout",
       "prompt_number": 7,
       "text": [
        "4x4 Array{Int64,2}:\n",
        " 2  2  2  2\n",
        " 2  2  2  2\n",
        " 2  2  2  2\n",
        " 2  2  2  2"
       ]
      }
     ],
     "prompt_number": 7
    },
    {
     "cell_type": "code",
     "collapsed": false,
     "input": [
      "procs(m)"
     ],
     "language": "python",
     "metadata": {},
     "outputs": [
      {
       "metadata": {},
       "output_type": "pyout",
       "prompt_number": 8,
       "text": [
        "4-element Array{Int64,1}:\n",
        " 2\n",
        " 3\n",
        " 4\n",
        " 5"
       ]
      }
     ],
     "prompt_number": 8
    },
    {
     "cell_type": "code",
     "collapsed": false,
     "input": [
      "map(fetch,{@spawnat p sum(localpart(m)) for p in procs(m)})"
     ],
     "language": "python",
     "metadata": {},
     "outputs": [
      {
       "metadata": {},
       "output_type": "pyout",
       "prompt_number": 9,
       "text": [
        "4-element Array{Any,1}:\n",
        " 32\n",
        " 48\n",
        " 64\n",
        " 80"
       ]
      }
     ],
     "prompt_number": 9
    },
    {
     "cell_type": "code",
     "collapsed": false,
     "input": [
      "reduce(+,map(fetch,{@spawnat p sum(localpart(m)) for p in procs(m)}))"
     ],
     "language": "python",
     "metadata": {},
     "outputs": [
      {
       "metadata": {},
       "output_type": "pyout",
       "prompt_number": 10,
       "text": [
        "224"
       ]
      }
     ],
     "prompt_number": 10
    },
    {
     "cell_type": "code",
     "collapsed": false,
     "input": [
      "# \"Map\" function.\n",
      "# Takes a string. Returns a HashTable with the number of times each word \n",
      "# appears in that string.\n",
      "@everywhere function wordcount(text)\n",
      "    words=split(text,r\"\\s+|'\\n'|'\\t'|:|;|,|!|\\\"|\\.|,\",false)\n",
      "    counts=Dict()\n",
      "    for w in words\n",
      "        counts[w]=get(counts,w,0)+1\n",
      "    end\n",
      "    return counts\n",
      "end"
     ],
     "language": "python",
     "metadata": {},
     "outputs": [],
     "prompt_number": 11
    },
    {
     "cell_type": "code",
     "collapsed": false,
     "input": [
      "# \"Reduce\" function.\n",
      "# Takes a collection of HashTables in the format returned by wordcount()\n",
      "# Returns a HashTable in which words that appear in multiple inputs\n",
      "# have their totals added together.\n",
      "@everywhere function wcreduce(wcs)\n",
      "  counts=Dict()\n",
      "  for words_dict in wcs\n",
      "    for (k,v) in words_dict\n",
      "            counts[k] = get(counts,k,0)+v\n",
      "        end\n",
      "    end\n",
      "    return counts\n",
      "end\n"
     ],
     "language": "python",
     "metadata": {},
     "outputs": [],
     "prompt_number": 12
    },
    {
     "cell_type": "code",
     "collapsed": false,
     "input": [
      "## Splits input string into nprocs() equal-sized chunks (last one rounds up), \n",
      "## and @spawns wordcount() for each chunk to run in parallel. Then fetch()s\n",
      "## results and performs wcreduce().\n",
      "## Limitations: splitting the string and reduction step are single-threaded.\n",
      "#@everywhere function parallel_wordcount(text)\n",
      "#    lines=split(text,r\"'\\n'|-|/|@|<|>\",false)\n",
      "#    np=nprocs()\n",
      "#    unitsize=ceil(length(lines)/np)\n",
      "#    wcounts={}\n",
      "#    rrefs={}\n",
      "#    # spawn procs\n",
      "#    for i=1:np\n",
      "#        first=unitsize*(i-1)+1\n",
      "#        last=unitsize*i\n",
      "#        if last>length(lines)\n",
      "#            last=length(lines)\n",
      "#        end\n",
      "#        subtext=join(lines[int(first):int(last)],\"\\n\")\n",
      "#        push!(rrefs, @spawn wordcount( subtext ) )\n",
      "#    end\n",
      "#    # fetch results\n",
      "#    while length(rrefs)>0\n",
      "#        push!(wcounts,fetch(pop!(rrefs)))\n",
      "#    end\n",
      "#    # reduce\n",
      "#    count=wcreduce(wcounts)\n",
      "#    return count\n",
      "#end"
     ],
     "language": "python",
     "metadata": {},
     "outputs": []
    },
    {
     "cell_type": "code",
     "collapsed": false,
     "input": [
      "# Splits input string into nprocs() equal-sized chunks (last one rounds up), \n",
      "# and @spawns wordcount() for each chunk to run in parallel. Then fetch()s\n",
      "# results and performs wcreduce().\n",
      "# Limitations: splitting the string and reduction step are single-threaded.\n",
      "@everywhere function parallel_wordcount(text)\n",
      "    lines=split(text,r\"'\\n'|-|/|@|<|>\",false)\n",
      "    np=nprocs()\n",
      "    unitsize=ceil(length(lines)/np)\n",
      "    wcounts={}\n",
      "    rrefs={}\n",
      "    # spawn procs\n",
      "    wcounts=@parallel (hcat) for i=1:np\n",
      "        first=unitsize*(i-1)+1\n",
      "        last=unitsize*i\n",
      "        if last>length(lines)\n",
      "            last=length(lines)\n",
      "        end\n",
      "        subtext=join(lines[int(first):int(last)],\"\\n\")\n",
      "        wordcount( subtext )\n",
      "    end\n",
      "    # reduce\n",
      "    count=wcreduce([wcounts])\n",
      "    return count\n",
      "end"
     ],
     "language": "python",
     "metadata": {},
     "outputs": [],
     "prompt_number": 13
    },
    {
     "cell_type": "code",
     "collapsed": false,
     "input": [
      "## Takes the name of a result file, and a list of input file names.\n",
      "## Combines the contents of all files, then performs a parallel_wordcount\n",
      "## on the resulting string. Writes the results to result_file.\n",
      "## Limitation: Performs all file IO single-threaded.\n",
      "#function wordcount_files(input_file_names)\n",
      "#    text=\"\"\n",
      "#    for f = input_file_names\n",
      "#        fh=open(f)\n",
      "#        text=join( {text,readall(fh)}, \"\\n\" )\n",
      "#        close(fh)\n",
      "#    end\n",
      "#    wc=parallel_wordcount(text)\n",
      "#    for (k,v) = wc\n",
      "#        println(k,\"=\",v)\n",
      "#    end\n",
      "#end"
     ],
     "language": "python",
     "metadata": {},
     "outputs": []
    },
    {
     "cell_type": "code",
     "collapsed": false,
     "input": [
      "# Takes the name of a result file, and a list of input file names.\n",
      "# Combines the contents of all files, then performs a parallel_wordcount\n",
      "# on the resulting string. Writes the results to result_file.\n",
      "# Limitation: Performs all file IO single-threaded.\n",
      "@everywhere function wordcount_files(input_file_names)\n",
      "  alltext=@parallel (hcat) for f in input_file_names\n",
      "        fh=open(f)\n",
      "        text=readall(fh)\n",
      "        close(fh)\n",
      "        text\n",
      "    end\n",
      "    if length(input_file_names)>1 \n",
      "        alltext=join(alltext,\" \") #to string\n",
      "    end\n",
      "    wc=parallel_wordcount(alltext)\n",
      "    for (k,v) = wc\n",
      "        println(k,\"=\",v)\n",
      "    end\n",
      "end"
     ],
     "language": "python",
     "metadata": {},
     "outputs": [],
     "prompt_number": 14
    },
    {
     "cell_type": "code",
     "collapsed": false,
     "input": [
      "args=[\"input1.txt\",\"input2.txt\",\"input2.txt\"]#\"input3.txt\"]\n",
      "wordcount_files(args)"
     ],
     "language": "python",
     "metadata": {},
     "outputs": [
      {
       "output_type": "stream",
       "stream": "stdout",
       "text": [
        "hello="
       ]
      },
      {
       "output_type": "stream",
       "stream": "stdout",
       "text": [
        "9\n",
        "worlds=1\n",
        "world=8\n"
       ]
      }
     ],
     "prompt_number": 15
    },
    {
     "cell_type": "code",
     "collapsed": false,
     "input": [
      "a=rand(1000,1000)"
     ],
     "language": "python",
     "metadata": {},
     "outputs": [
      {
       "metadata": {},
       "output_type": "pyout",
       "prompt_number": 16,
       "text": [
        "1000x1000 Array{Float64,2}:\n",
        " 0.0517374  0.0152483   0.80411    \u2026  0.479001    0.653943   0.0367196\n",
        " 0.146748   0.848664    0.409353      0.31859     0.521018   0.734305 \n",
        " 0.715162   0.259179    0.397266      0.491788    0.613991   0.180984 \n",
        " 0.958573   0.494933    0.661546      0.136645    0.396342   0.580141 \n",
        " 0.565306   0.121129    0.696058      0.970205    0.29401    0.469865 \n",
        " 0.214514   0.669887    0.515675   \u2026  0.417429    0.65146    0.330153 \n",
        " 0.15334    0.719821    0.992338      0.444458    0.10136    0.387632 \n",
        " 0.883156   0.115288    0.810726      0.381167    0.929734   0.765495 \n",
        " 0.300044   0.991191    0.160662      0.855636    0.414701   0.235031 \n",
        " 0.901976   0.87941     0.77229       0.00710375  0.169607   0.978175 \n",
        " 0.799794   0.376283    0.118597   \u2026  0.297163    0.699328   0.707928 \n",
        " 0.295569   0.891411    0.914866      0.713082    0.428782   0.362351 \n",
        " 0.470957   0.511056    0.697885      0.418426    0.936151   0.440171 \n",
        " \u22ee                                 \u22f1                                  \n",
        " 0.280302   0.00580387  0.288502      0.0155195   0.0120698  0.829593 \n",
        " 0.171318   0.102613    0.149078      0.313723    0.768054   0.0986667\n",
        " 0.116159   0.813688    0.229467   \u2026  0.422101    0.546511   0.159127 \n",
        " 0.178151   0.525928    0.815876      0.351391    0.992611   0.794671 \n",
        " 0.285969   0.0739864   0.553199      0.79889     0.567411   0.827591 \n",
        " 0.425504   0.668291    0.862984      0.667938    0.359662   0.929267 \n",
        " 0.947711   0.279987    0.741968      0.55772     0.443613   0.11408  \n",
        " 0.941318   0.0612145   0.893251   \u2026  0.0408433   0.454859   0.0619818\n",
        " 0.934473   0.822634    0.951973      0.811734    0.386578   0.480984 \n",
        " 0.89429    0.63726     0.171954      0.498869    0.510155   0.454814 \n",
        " 0.614473   0.912342    0.911658      0.210643    0.31863    0.605135 \n",
        " 0.378741   0.341306    0.0657988     0.623196    0.164191   0.78803  "
       ]
      }
     ],
     "prompt_number": 16
    },
    {
     "cell_type": "code",
     "collapsed": false,
     "input": [
      "d=distribute(a)"
     ],
     "language": "python",
     "metadata": {},
     "outputs": [
      {
       "metadata": {},
       "output_type": "pyout",
       "prompt_number": 17,
       "text": [
        "1000x1000 DArray{Float64,2,Array{Float64,2}}:\n",
        " 0.0517374  0.0152483   0.80411    \u2026  0.479001    0.653943   0.0367196\n",
        " 0.146748   0.848664    0.409353      0.31859     0.521018   0.734305 \n",
        " 0.715162   0.259179    0.397266      0.491788    0.613991   0.180984 \n",
        " 0.958573   0.494933    0.661546      0.136645    0.396342   0.580141 \n",
        " 0.565306   0.121129    0.696058      0.970205    0.29401    0.469865 \n",
        " 0.214514   0.669887    0.515675   \u2026  0.417429    0.65146    0.330153 \n",
        " 0.15334    0.719821    0.992338      0.444458    0.10136    0.387632 \n",
        " 0.883156   0.115288    0.810726      0.381167    0.929734   0.765495 \n",
        " 0.300044   0.991191    0.160662      0.855636    0.414701   0.235031 \n",
        " 0.901976   0.87941     0.77229       0.00710375  0.169607   0.978175 \n",
        " 0.799794   0.376283    0.118597   \u2026  0.297163    0.699328   0.707928 \n",
        " 0.295569   0.891411    0.914866      0.713082    0.428782   0.362351 \n",
        " 0.470957   0.511056    0.697885      0.418426    0.936151   0.440171 \n",
        " \u22ee                                 \u22f1                                  \n",
        " 0.280302   0.00580387  0.288502      0.0155195   0.0120698  0.829593 \n",
        " 0.171318   0.102613    0.149078      0.313723    0.768054   0.0986667\n",
        " 0.116159   0.813688    0.229467   \u2026  0.422101    0.546511   0.159127 \n",
        " 0.178151   0.525928    0.815876      0.351391    0.992611   0.794671 \n",
        " 0.285969   0.0739864   0.553199      0.79889     0.567411   0.827591 \n",
        " 0.425504   0.668291    0.862984      0.667938    0.359662   0.929267 \n",
        " 0.947711   0.279987    0.741968      0.55772     0.443613   0.11408  \n",
        " 0.941318   0.0612145   0.893251   \u2026  0.0408433   0.454859   0.0619818\n",
        " 0.934473   0.822634    0.951973      0.811734    0.386578   0.480984 \n",
        " 0.89429    0.63726     0.171954      0.498869    0.510155   0.454814 \n",
        " 0.614473   0.912342    0.911658      0.210643    0.31863    0.605135 \n",
        " 0.378741   0.341306    0.0657988     0.623196    0.164191   0.78803  "
       ]
      }
     ],
     "prompt_number": 17
    },
    {
     "cell_type": "code",
     "collapsed": false,
     "input": [
      "@time reduce(+,map(fetch,[@spawnat p sum(localpart(d)) for p in procs(d)]))"
     ],
     "language": "python",
     "metadata": {},
     "outputs": [
      {
       "output_type": "stream",
       "stream": "stdout",
       "text": [
        "elapsed time: 0."
       ]
      },
      {
       "output_type": "stream",
       "stream": "stdout",
       "text": [
        "006800079 seconds (295516 bytes allocated)\n"
       ]
      },
      {
       "metadata": {},
       "output_type": "pyout",
       "prompt_number": 19,
       "text": [
        "500086.18435936"
       ]
      }
     ],
     "prompt_number": 19
    },
    {
     "cell_type": "code",
     "collapsed": false,
     "input": [
      "@time reduce(+,d)"
     ],
     "language": "python",
     "metadata": {},
     "outputs": [
      {
       "output_type": "stream",
       "stream": "stdout",
       "text": [
        "elapsed time: 0."
       ]
      },
      {
       "output_type": "stream",
       "stream": "stdout",
       "text": [
        "043511909 seconds (309876 bytes allocated)\n"
       ]
      },
      {
       "metadata": {},
       "output_type": "pyout",
       "prompt_number": 21,
       "text": [
        "500086.18435936"
       ]
      }
     ],
     "prompt_number": 21
    }
   ],
   "metadata": {}
  }
 ]
}