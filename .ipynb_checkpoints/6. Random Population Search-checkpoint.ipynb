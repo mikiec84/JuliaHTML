{
 "metadata": {
  "language": "Julia",
  "name": ""
 },
 "nbformat": 3,
 "nbformat_minor": 0,
 "worksheets": [
  {
   "cells": [
    {
     "cell_type": "code",
     "collapsed": false,
     "input": [
      "using Winston"
     ],
     "language": "python",
     "metadata": {},
     "outputs": [],
     "prompt_number": 2
    },
    {
     "cell_type": "code",
     "collapsed": false,
     "input": [
      "addprocs(2)"
     ],
     "language": "python",
     "metadata": {},
     "outputs": [
      {
       "metadata": {},
       "output_type": "pyout",
       "prompt_number": 3,
       "text": [
        "2-element Array{Any,1}:\n",
        " 2\n",
        " 3"
       ]
      }
     ],
     "prompt_number": 3
    },
    {
     "cell_type": "code",
     "collapsed": false,
     "input": [
      "using Distributions"
     ],
     "language": "python",
     "metadata": {},
     "outputs": [],
     "prompt_number": 5
    },
    {
     "cell_type": "code",
     "collapsed": false,
     "input": [
      "x=[-100:0.1:100]\n",
      "@everywhere f(x)=cos(x)./(1+0.01*x.^2)\n",
      "plot(x,f(x))"
     ],
     "language": "python",
     "metadata": {},
     "outputs": [
      {
       "metadata": {},
       "output_type": "pyout",
       "png": "[encoded data removed]",
       "prompt_number": 6,
       "text": [
        "FramedPlot(...)"
       ]
      }
     ],
     "prompt_number": 6
    },
    {
     "cell_type": "code",
     "collapsed": false,
     "input": [
      "@time begin\n",
      "psize=10000\n",
      "population=rand(Distributions.Uniform(-100,100),psize)\n",
      "fitness=f(population)\n",
      "order=sortperm(fitness)\n",
      "for i=1:1000\n",
      "    [population[order[j]]+=rand(Distributions.Normal(0,(psize+1-j))) for j=1:(psize-1)]\n",
      "    fitness=f(population)\n",
      "    order=sortperm(fitness)\n",
      "end\n",
      "fitness[order[psize]]\n",
      "end"
     ],
     "language": "python",
     "metadata": {},
     "outputs": [
      {
       "output_type": "stream",
       "stream": "stdout",
       "text": [
        "elapsed time: 13"
       ]
      },
      {
       "output_type": "stream",
       "stream": "stdout",
       "text": [
        ".953904861 seconds (3152793424 bytes allocated)\n"
       ]
      },
      {
       "metadata": {},
       "output_type": "pyout",
       "prompt_number": 12,
       "text": [
        "0.9999896089908947"
       ]
      }
     ],
     "prompt_number": 12
    },
    {
     "cell_type": "code",
     "collapsed": false,
     "input": [
      "@time begin\n",
      "@everywhere psize=10000\n",
      "@everywhere population=rand(Distributions.Uniform(-100,100),psize)\n",
      "@everywhere fitness=f(population)\n",
      "@everywhere order=sortperm(fitness)\n",
      "for i=1:1000\n",
      "    @parallel [population[order[j]]+=rand(Distributions.Normal(0,(psize+1-j))) for j=1:(psize-1)]\n",
      "    fitness=f(population)\n",
      "    order=sortperm(fitness)\n",
      "end\n",
      "fitness[order[psize]]\n",
      "end"
     ],
     "language": "python",
     "metadata": {},
     "outputs": [
      {
       "output_type": "stream",
       "stream": "stdout",
       "text": [
        "elapsed time: 9"
       ]
      },
      {
       "output_type": "stream",
       "stream": "stdout",
       "text": [
        ".981343555 seconds (770650916 bytes allocated)\n"
       ]
      },
      {
       "metadata": {},
       "output_type": "pyout",
       "prompt_number": 14,
       "text": [
        "0.9998463776259436"
       ]
      }
     ],
     "prompt_number": 14
    }
   ],
   "metadata": {}
  }
 ]
}