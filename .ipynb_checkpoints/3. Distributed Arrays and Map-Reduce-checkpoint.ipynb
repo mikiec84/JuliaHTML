{
 "cells": [
  {
   "cell_type": "code",
   "execution_count": 1,
   "metadata": {
    "collapsed": false
   },
   "outputs": [
    {
     "data": {
      "text/plain": [
       "7-element Array{Int64,1}:\n",
       " 2\n",
       " 3\n",
       " 4\n",
       " 5\n",
       " 6\n",
       " 7\n",
       " 8"
      ]
     },
     "execution_count": 1,
     "metadata": {},
     "output_type": "execute_result"
    }
   ],
   "source": [
    "addprocs(7)"
   ]
  },
  {
   "cell_type": "code",
   "execution_count": 2,
   "metadata": {
    "collapsed": false
   },
   "outputs": [
    {
     "data": {
      "text/plain": [
       "8"
      ]
     },
     "execution_count": 2,
     "metadata": {},
     "output_type": "execute_result"
    }
   ],
   "source": [
    "nprocs()"
   ]
  },
  {
   "cell_type": "code",
   "execution_count": 3,
   "metadata": {
    "collapsed": false
   },
   "outputs": [
    {
     "data": {
      "text/plain": [
       "10000x10000 Array{Int64,2}:\n",
       "  8  6   1   5   2   2  4   4  2  2  …   1  8   7  0   4   9   3   5  9   5\n",
       "  4  7   7   3   1   7  1   5  4  9     10  6   5  2   3   7   6   7  4   2\n",
       "  6  4   8   2   9   9  5   8  3  7      2  2   7  4   4   1   5   7  9   4\n",
       "  2  1   8   8   6   4  2   0  1  7      1  4   5  1  10   8   5   1  6   1\n",
       "  1  3   0   8   9   0  2   3  0  0      5  9   8  2   9   6   8   7  3   8\n",
       " 10  0   6   1   8   7  8  10  1  7  …   2  1   0  1   6   5   2   2  1   7\n",
       " 10  8   6   6   9   3  6   2  5  8      4  2   1  3   2   9   7   4  5   3\n",
       "  8  4   9   2   2   6  3   9  9  4      0  9  10  0   5   8   0   8  7   4\n",
       "  5  7   5   9   7   9  5   0  0  5      2  2   6  9   5   6   5   9  2   2\n",
       "  2  4   6  10   3   2  7   2  8  2      7  9   8  8   0   3   0   0  7   2\n",
       "  8  0   9   7   2   8  6   6  3  3  …   6  9   4  4  10   2   8   1  6   4\n",
       "  3  8   8   3   9   0  0   5  5  6     10  4  10  2   3   3   3   6  3   8\n",
       " 10  1   7   6   5   3  5   1  5  4      4  1   8  2   7   4   1  10  5   0\n",
       "  ⋮                  ⋮               ⋱   ⋮                 ⋮               \n",
       "  9  9   5   0   7   0  7   9  6  2     10  4   8  4   5   5   9   5  2   8\n",
       "  4  9  10   6   3   7  6   5  0  5      3  5   9  1   4   7   4   8  5   8\n",
       "  8  0   3   9  10   1  4   2  4  8  …   3  3   1  8   1  10   2   7  7  10\n",
       "  5  3   3  10   1  10  4   4  1  8      9  8   8  7   7   5   7   8  4   9\n",
       "  4  3   8   2   1   0  5   4  4  2      0  7   5  1   6   2   7   2  9   0\n",
       "  4  5   9   6   5   2  1   1  9  1      5  7   9  9   5   5   2   4  8   8\n",
       "  1  2   9   6   6   7  3  10  2  8      4  7   8  2   8   3   1   7  2   5\n",
       "  9  0   3   3  10   3  9   4  1  7  …   7  2   7  1   1   7   8  10  1   8\n",
       "  9  9   3   6   0   6  6   9  1  7      6  8   1  9   8   2  10   9  4   0\n",
       "  2  9   6   1   6   6  7  10  7  2      5  8   8  1   7   7  10  10  7   3\n",
       "  9  3   7   3   9   1  5   7  1  5      2  1   4  9   1   7   6   8  1   1\n",
       "  2  3   1   9   4   9  8   3  7  3      2  3   4  1   1   2   5   7  5   7"
      ]
     },
     "execution_count": 3,
     "metadata": {},
     "output_type": "execute_result"
    }
   ],
   "source": [
    "dat=map(x->round(Int,x*10),rand(10000,10000))"
   ]
  },
  {
   "cell_type": "code",
   "execution_count": 5,
   "metadata": {
    "collapsed": false
   },
   "outputs": [
    {
     "data": {
      "text/plain": [
       "10000x10000 DistributedArrays.DArray{Int64,2,Array{Int64,2}}:\n",
       "  8  6   1   5   2   2  4   4  2  2  …   1  8   7  0   4   9   3   5  9   5\n",
       "  4  7   7   3   1   7  1   5  4  9     10  6   5  2   3   7   6   7  4   2\n",
       "  6  4   8   2   9   9  5   8  3  7      2  2   7  4   4   1   5   7  9   4\n",
       "  2  1   8   8   6   4  2   0  1  7      1  4   5  1  10   8   5   1  6   1\n",
       "  1  3   0   8   9   0  2   3  0  0      5  9   8  2   9   6   8   7  3   8\n",
       " 10  0   6   1   8   7  8  10  1  7  …   2  1   0  1   6   5   2   2  1   7\n",
       " 10  8   6   6   9   3  6   2  5  8      4  2   1  3   2   9   7   4  5   3\n",
       "  8  4   9   2   2   6  3   9  9  4      0  9  10  0   5   8   0   8  7   4\n",
       "  5  7   5   9   7   9  5   0  0  5      2  2   6  9   5   6   5   9  2   2\n",
       "  2  4   6  10   3   2  7   2  8  2      7  9   8  8   0   3   0   0  7   2\n",
       "  8  0   9   7   2   8  6   6  3  3  …   6  9   4  4  10   2   8   1  6   4\n",
       "  3  8   8   3   9   0  0   5  5  6     10  4  10  2   3   3   3   6  3   8\n",
       " 10  1   7   6   5   3  5   1  5  4      4  1   8  2   7   4   1  10  5   0\n",
       "  ⋮                  ⋮               ⋱   ⋮                 ⋮               \n",
       "  9  9   5   0   7   0  7   9  6  2     10  4   8  4   5   5   9   5  2   8\n",
       "  4  9  10   6   3   7  6   5  0  5      3  5   9  1   4   7   4   8  5   8\n",
       "  8  0   3   9  10   1  4   2  4  8  …   3  3   1  8   1  10   2   7  7  10\n",
       "  5  3   3  10   1  10  4   4  1  8      9  8   8  7   7   5   7   8  4   9\n",
       "  4  3   8   2   1   0  5   4  4  2      0  7   5  1   6   2   7   2  9   0\n",
       "  4  5   9   6   5   2  1   1  9  1      5  7   9  9   5   5   2   4  8   8\n",
       "  1  2   9   6   6   7  3  10  2  8      4  7   8  2   8   3   1   7  2   5\n",
       "  9  0   3   3  10   3  9   4  1  7  …   7  2   7  1   1   7   8  10  1   8\n",
       "  9  9   3   6   0   6  6   9  1  7      6  8   1  9   8   2  10   9  4   0\n",
       "  2  9   6   1   6   6  7  10  7  2      5  8   8  1   7   7  10  10  7   3\n",
       "  9  3   7   3   9   1  5   7  1  5      2  1   4  9   1   7   6   8  1   1\n",
       "  2  3   1   9   4   9  8   3  7  3      2  3   4  1   1   2   5   7  5   7"
      ]
     },
     "execution_count": 5,
     "metadata": {},
     "output_type": "execute_result"
    }
   ],
   "source": [
    "using DistributedArrays\n",
    "\n",
    "ddat=distribute(dat)"
   ]
  },
  {
   "cell_type": "code",
   "execution_count": 6,
   "metadata": {
    "collapsed": false
   },
   "outputs": [
    {
     "data": {
      "text/plain": [
       "10000x10000 Array{Int64,2}:\n",
       " 1  1  1  1  1  1  1  1  1  1  1  1  1  …  1  1  1  1  1  1  1  1  1  1  1  1\n",
       " 1  1  1  1  1  1  1  1  1  1  1  1  1     1  1  1  1  1  1  1  1  1  1  1  1\n",
       " 1  1  1  1  1  1  1  1  1  1  1  1  1     1  1  1  1  1  1  1  1  1  1  1  1\n",
       " 1  1  1  1  1  1  1  1  1  1  1  1  1     1  1  1  1  1  1  1  1  1  1  1  1\n",
       " 1  1  1  1  1  1  1  1  1  1  1  1  1     1  1  1  1  1  1  1  1  1  1  1  1\n",
       " 1  1  1  1  1  1  1  1  1  1  1  1  1  …  1  1  1  1  1  1  1  1  1  1  1  1\n",
       " 1  1  1  1  1  1  1  1  1  1  1  1  1     1  1  1  1  1  1  1  1  1  1  1  1\n",
       " 1  1  1  1  1  1  1  1  1  1  1  1  1     1  1  1  1  1  1  1  1  1  1  1  1\n",
       " 1  1  1  1  1  1  1  1  1  1  1  1  1     1  1  1  1  1  1  1  1  1  1  1  1\n",
       " 1  1  1  1  1  1  1  1  1  1  1  1  1     1  1  1  1  1  1  1  1  1  1  1  1\n",
       " 1  1  1  1  1  1  1  1  1  1  1  1  1  …  1  1  1  1  1  1  1  1  1  1  1  1\n",
       " 1  1  1  1  1  1  1  1  1  1  1  1  1     1  1  1  1  1  1  1  1  1  1  1  1\n",
       " 1  1  1  1  1  1  1  1  1  1  1  1  1     1  1  1  1  1  1  1  1  1  1  1  1\n",
       " ⋮              ⋮              ⋮        ⋱        ⋮              ⋮            \n",
       " 1  1  1  1  1  1  1  1  1  1  1  1  1     1  1  1  1  1  1  1  1  1  1  1  1\n",
       " 1  1  1  1  1  1  1  1  1  1  1  1  1     1  1  1  1  1  1  1  1  1  1  1  1\n",
       " 1  1  1  1  1  1  1  1  1  1  1  1  1  …  1  1  1  1  1  1  1  1  1  1  1  1\n",
       " 1  1  1  1  1  1  1  1  1  1  1  1  1     1  1  1  1  1  1  1  1  1  1  1  1\n",
       " 1  1  1  1  1  1  1  1  1  1  1  1  1     1  1  1  1  1  1  1  1  1  1  1  1\n",
       " 1  1  1  1  1  1  1  1  1  1  1  1  1     1  1  1  1  1  1  1  1  1  1  1  1\n",
       " 1  1  1  1  1  1  1  1  1  1  1  1  1     1  1  1  1  1  1  1  1  1  1  1  1\n",
       " 1  1  1  1  1  1  1  1  1  1  1  1  1  …  1  1  1  1  1  1  1  1  1  1  1  1\n",
       " 1  1  1  1  1  1  1  1  1  1  1  1  1     1  1  1  1  1  1  1  1  1  1  1  1\n",
       " 1  1  1  1  1  1  1  1  1  1  1  1  1     1  1  1  1  1  1  1  1  1  1  1  1\n",
       " 1  1  1  1  1  1  1  1  1  1  1  1  1     1  1  1  1  1  1  1  1  1  1  1  1\n",
       " 1  1  1  1  1  1  1  1  1  1  1  1  1     1  1  1  1  1  1  1  1  1  1  1  1"
      ]
     },
     "execution_count": 6,
     "metadata": {},
     "output_type": "execute_result"
    }
   ],
   "source": [
    "map(x->myid(),dat)"
   ]
  },
  {
   "cell_type": "code",
   "execution_count": 7,
   "metadata": {
    "collapsed": false
   },
   "outputs": [
    {
     "data": {
      "text/plain": [
       "10000x10000 DistributedArrays.DArray{Int64,2,Array{Int64,2}}:\n",
       " 2  2  2  2  2  2  2  2  2  2  2  2  2  …  8  8  8  8  8  8  8  8  8  8  8  8\n",
       " 2  2  2  2  2  2  2  2  2  2  2  2  2     8  8  8  8  8  8  8  8  8  8  8  8\n",
       " 2  2  2  2  2  2  2  2  2  2  2  2  2     8  8  8  8  8  8  8  8  8  8  8  8\n",
       " 2  2  2  2  2  2  2  2  2  2  2  2  2     8  8  8  8  8  8  8  8  8  8  8  8\n",
       " 2  2  2  2  2  2  2  2  2  2  2  2  2     8  8  8  8  8  8  8  8  8  8  8  8\n",
       " 2  2  2  2  2  2  2  2  2  2  2  2  2  …  8  8  8  8  8  8  8  8  8  8  8  8\n",
       " 2  2  2  2  2  2  2  2  2  2  2  2  2     8  8  8  8  8  8  8  8  8  8  8  8\n",
       " 2  2  2  2  2  2  2  2  2  2  2  2  2     8  8  8  8  8  8  8  8  8  8  8  8\n",
       " 2  2  2  2  2  2  2  2  2  2  2  2  2     8  8  8  8  8  8  8  8  8  8  8  8\n",
       " 2  2  2  2  2  2  2  2  2  2  2  2  2     8  8  8  8  8  8  8  8  8  8  8  8\n",
       " 2  2  2  2  2  2  2  2  2  2  2  2  2  …  8  8  8  8  8  8  8  8  8  8  8  8\n",
       " 2  2  2  2  2  2  2  2  2  2  2  2  2     8  8  8  8  8  8  8  8  8  8  8  8\n",
       " 2  2  2  2  2  2  2  2  2  2  2  2  2     8  8  8  8  8  8  8  8  8  8  8  8\n",
       " ⋮              ⋮              ⋮        ⋱        ⋮              ⋮            \n",
       " 2  2  2  2  2  2  2  2  2  2  2  2  2     8  8  8  8  8  8  8  8  8  8  8  8\n",
       " 2  2  2  2  2  2  2  2  2  2  2  2  2     8  8  8  8  8  8  8  8  8  8  8  8\n",
       " 2  2  2  2  2  2  2  2  2  2  2  2  2  …  8  8  8  8  8  8  8  8  8  8  8  8\n",
       " 2  2  2  2  2  2  2  2  2  2  2  2  2     8  8  8  8  8  8  8  8  8  8  8  8\n",
       " 2  2  2  2  2  2  2  2  2  2  2  2  2     8  8  8  8  8  8  8  8  8  8  8  8\n",
       " 2  2  2  2  2  2  2  2  2  2  2  2  2     8  8  8  8  8  8  8  8  8  8  8  8\n",
       " 2  2  2  2  2  2  2  2  2  2  2  2  2     8  8  8  8  8  8  8  8  8  8  8  8\n",
       " 2  2  2  2  2  2  2  2  2  2  2  2  2  …  8  8  8  8  8  8  8  8  8  8  8  8\n",
       " 2  2  2  2  2  2  2  2  2  2  2  2  2     8  8  8  8  8  8  8  8  8  8  8  8\n",
       " 2  2  2  2  2  2  2  2  2  2  2  2  2     8  8  8  8  8  8  8  8  8  8  8  8\n",
       " 2  2  2  2  2  2  2  2  2  2  2  2  2     8  8  8  8  8  8  8  8  8  8  8  8\n",
       " 2  2  2  2  2  2  2  2  2  2  2  2  2     8  8  8  8  8  8  8  8  8  8  8  8"
      ]
     },
     "execution_count": 7,
     "metadata": {},
     "output_type": "execute_result"
    }
   ],
   "source": [
    "map(x->myid(),ddat)"
   ]
  },
  {
   "cell_type": "code",
   "execution_count": 9,
   "metadata": {
    "collapsed": false
   },
   "outputs": [
    {
     "name": "stdout",
     "output_type": "stream",
     "text": [
      "  6.590450 seconds (100.00 M allocations: 2.235 GB, 2.23% gc time)\n"
     ]
    }
   ],
   "source": [
    "@time map(sin,dat);"
   ]
  },
  {
   "cell_type": "code",
   "execution_count": 10,
   "metadata": {
    "collapsed": false
   },
   "outputs": [
    {
     "name": "stdout",
     "output_type": "stream",
     "text": [
      "  1.633484 seconds (16.63 k allocations: 995.344 KB)\n"
     ]
    }
   ],
   "source": [
    "@time map(sin,ddat);"
   ]
  },
  {
   "cell_type": "code",
   "execution_count": 11,
   "metadata": {
    "collapsed": false
   },
   "outputs": [
    {
     "data": {
      "text/plain": [
       "intsum (generic function with 1 method)"
      ]
     },
     "execution_count": 11,
     "metadata": {},
     "output_type": "execute_result"
    }
   ],
   "source": [
    "function intsum(x)\n",
    "  if x==0 \n",
    "    0\n",
    "  else\n",
    "    x+intsum(x-1)\n",
    "  end\n",
    "end"
   ]
  },
  {
   "cell_type": "code",
   "execution_count": 12,
   "metadata": {
    "collapsed": false
   },
   "outputs": [
    {
     "name": "stdout",
     "output_type": "stream",
     "text": [
      "  "
     ]
    },
    {
     "data": {
      "text/plain": [
       "1924866723"
      ]
     },
     "execution_count": 12,
     "metadata": {},
     "output_type": "execute_result"
    },
    {
     "name": "stdout",
     "output_type": "stream",
     "text": [
      "5.953302 seconds (93.31 k allocations: 766.850 MB, 0.04% gc time)\n"
     ]
    }
   ],
   "source": [
    "@time reduce(+,map(intsum,dat))"
   ]
  },
  {
   "cell_type": "code",
   "execution_count": 13,
   "metadata": {
    "collapsed": false
   },
   "outputs": [],
   "source": [
    "@everywhere function intsum(x)\n",
    "  if x==0 \n",
    "    0\n",
    "  else\n",
    "    x+intsum(x-1)\n",
    "  end\n",
    "end"
   ]
  },
  {
   "cell_type": "code",
   "execution_count": 14,
   "metadata": {
    "collapsed": false
   },
   "outputs": [
    {
     "name": "stdout",
     "output_type": "stream",
     "text": [
      "  "
     ]
    },
    {
     "data": {
      "text/plain": [
       "1924866723"
      ]
     },
     "execution_count": 14,
     "metadata": {},
     "output_type": "execute_result"
    },
    {
     "name": "stdout",
     "output_type": "stream",
     "text": [
      "1.974677 seconds (33.86 k allocations: 2.082 MB)\n"
     ]
    }
   ],
   "source": [
    "@time reduce(+,map(intsum,ddat))"
   ]
  },
  {
   "cell_type": "code",
   "execution_count": 15,
   "metadata": {
    "collapsed": false
   },
   "outputs": [],
   "source": [
    "@everywhere function rsumtail(x,n)\n",
    "  if x==0\n",
    "    n\n",
    "  else\n",
    "    rsumtail(x-1,n+x)\n",
    "  end\n",
    "end\n",
    "\n",
    "@everywhere function rsumtail(x)\n",
    "  rsumtail(x,0)\n",
    "end\n",
    "\n",
    "@everywhere function rsum(x)\n",
    "  if x==0\n",
    "    0\n",
    "  else\n",
    "    x+rsum(x-1)\n",
    "  end\n",
    "end\n"
   ]
  },
  {
   "cell_type": "code",
   "execution_count": 16,
   "metadata": {
    "collapsed": false
   },
   "outputs": [
    {
     "name": "stdout",
     "output_type": "stream",
     "text": [
      "  "
     ]
    },
    {
     "data": {
      "text/plain": [
       "5000050000"
      ]
     },
     "execution_count": 16,
     "metadata": {},
     "output_type": "execute_result"
    },
    {
     "name": "stdout",
     "output_type": "stream",
     "text": [
      "0.003264 seconds (1.05 k allocations: 57.521 KB)\n"
     ]
    }
   ],
   "source": [
    "@time rsumtail(100000)"
   ]
  },
  {
   "cell_type": "code",
   "execution_count": 17,
   "metadata": {
    "collapsed": false
   },
   "outputs": [
    {
     "name": "stdout",
     "output_type": "stream",
     "text": [
      "  "
     ]
    },
    {
     "data": {
      "text/plain": [
       "5000050000"
      ]
     },
     "execution_count": 17,
     "metadata": {},
     "output_type": "execute_result"
    },
    {
     "name": "stdout",
     "output_type": "stream",
     "text": [
      "0.002758 seconds (633 allocations: 33.311 KB)\n"
     ]
    }
   ],
   "source": [
    "@time rsum(100000)"
   ]
  },
  {
   "cell_type": "code",
   "execution_count": 18,
   "metadata": {
    "collapsed": false
   },
   "outputs": [
    {
     "name": "stdout",
     "output_type": "stream",
     "text": [
      " 26"
     ]
    },
    {
     "data": {
      "text/plain": [
       "1924866723"
      ]
     },
     "execution_count": 18,
     "metadata": {},
     "output_type": "execute_result"
    },
    {
     "name": "stdout",
     "output_type": "stream",
     "text": [
      ".790606 seconds (300.00 M allocations: 5.960 GB, 3.16% gc time)\n"
     ]
    }
   ],
   "source": [
    "@time (s=0;\n",
    "for i in dat\n",
    "  s+=intsum(i)\n",
    "end;\n",
    "s)"
   ]
  },
  {
   "cell_type": "code",
   "execution_count": 19,
   "metadata": {
    "collapsed": false
   },
   "outputs": [
    {
     "name": "stdout",
     "output_type": "stream",
     "text": [
      " 16"
     ]
    },
    {
     "data": {
      "text/plain": [
       "1924866723"
      ]
     },
     "execution_count": 19,
     "metadata": {},
     "output_type": "execute_result"
    },
    {
     "name": "stdout",
     "output_type": "stream",
     "text": [
      ".463637 seconds (143.18 k allocations: 6.283 MB)\n"
     ]
    }
   ],
   "source": [
    "@time @parallel (+) for i in dat\n",
    "  intsum(i)\n",
    "end"
   ]
  },
  {
   "cell_type": "code",
   "execution_count": 20,
   "metadata": {
    "collapsed": false
   },
   "outputs": [
    {
     "name": "stdout",
     "output_type": "stream",
     "text": [
      "  "
     ]
    },
    {
     "data": {
      "text/plain": [
       "1924866723"
      ]
     },
     "execution_count": 20,
     "metadata": {},
     "output_type": "execute_result"
    },
    {
     "name": "stdout",
     "output_type": "stream",
     "text": [
      "1.673824 seconds (15.08 k allocations: 1.180 MB)\n"
     ]
    }
   ],
   "source": [
    "@time reduce(+,map(intsum,ddat))"
   ]
  },
  {
   "cell_type": "code",
   "execution_count": 21,
   "metadata": {
    "collapsed": false
   },
   "outputs": [
    {
     "data": {
      "text/plain": [
       "1x7 Array{Tuple{UnitRange{Int64},UnitRange{Int64}},2}:\n",
       " (1:10000,1:1429)  (1:10000,1430:2857)  …  (1:10000,8572:10000)"
      ]
     },
     "execution_count": 21,
     "metadata": {},
     "output_type": "execute_result"
    }
   ],
   "source": [
    "ddat.indexes"
   ]
  },
  {
   "cell_type": "code",
   "execution_count": 22,
   "metadata": {
    "collapsed": false
   },
   "outputs": [
    {
     "data": {
      "text/plain": [
       "1x7 Array{RemoteRef{RemoteStore},2}:\n",
       " RemoteRef{Channel{Any}}(2,1,23)  …  RemoteRef{Channel{Any}}(8,1,29)"
      ]
     },
     "execution_count": 22,
     "metadata": {},
     "output_type": "execute_result"
    }
   ],
   "source": [
    "ddat.chunks"
   ]
  },
  {
   "cell_type": "code",
   "execution_count": 24,
   "metadata": {
    "collapsed": false
   },
   "outputs": [
    {
     "data": {
      "text/plain": [
       "1x7 Array{Int64,2}:\n",
       " 2  3  4  5  6  7  8"
      ]
     },
     "execution_count": 24,
     "metadata": {},
     "output_type": "execute_result"
    }
   ],
   "source": [
    "ddat.pids"
   ]
  },
  {
   "cell_type": "code",
   "execution_count": 30,
   "metadata": {
    "collapsed": false
   },
   "outputs": [
    {
     "data": {
      "text/plain": [
       "10000x1428 Array{Int64,2}:\n",
       "  5   5   4  3   3   9  3   3  9   2  …   1   8   6   9   4   6   5  10  3\n",
       "  6   9   8  4   7  10  5   1  3   2      7   5   3  10   9   7   9   8  5\n",
       "  3   8   3  7   9   8  4   1  4   5      3   8   3   7   7   5   3   7  5\n",
       "  3   2   7  8   8   4  7   3  3   1      5   1   2   7   4   4   8   4  7\n",
       "  3   5   7  5   8   6  8   7  6   7      6   1   8   7  10   5   6   4  9\n",
       "  1   8   2  4   0  10  7   6  4   8  …  10   6   4   9   4   4   0   3  3\n",
       "  8   6   1  6   7   9  3   2  7   3      4   1   4   2   2   4   7  10  3\n",
       "  8   6   5  6   7   8  8   6  2   6      5   2   1   4   2  10   9   2  4\n",
       "  4   9   2  3   8   0  8   7  2   9      8   1   3  10   7   8  10   0  1\n",
       "  6   8   9  2   2   2  8   7  4   5      7  10   4   3   1   7   6   6  3\n",
       "  5   5   3  5   3   7  9   8  5   6  …   8   7   5   1   2   7   5   5  9\n",
       "  3   2   7  3   1   6  6   4  6   9      5   9  10   9   8   6   1   2  6\n",
       "  3   0   1  6   1   8  7   8  9   8      7   2   7   2   8   9   3   4  0\n",
       "  ⋮                  ⋮                ⋱       ⋮                   ⋮       \n",
       "  8   7   0  2   4   3  3  10  6   6      4   7   7   9   3   5   9   3  5\n",
       "  0   8   2  5   5   3  1   7  6   9      3   5   9   8   2   8   3   2  8\n",
       "  5   5   4  2   4   7  8   4  7   8  …   5   9  10   1   1   8   4   4  2\n",
       "  4  10   3  5   2   5  1   8  4   3      2   5   7   6   6   4   5   8  6\n",
       " 10   1   8  4   2   3  1   9  5   9      8   1   1   1   6   8   1   9  6\n",
       "  4  10   6  2   6   6  6   7  7   8      7   7   2   8   7   5   3   2  7\n",
       "  7   4   2  3  10   3  7   5  6   3      2   5   6   5   1   9   6   7  5\n",
       "  9   3   9  8   2   2  8   9  1   2  …   7   0   4   7   3   7   5   0  6\n",
       "  8   6  10  3   5   5  9   7  3   9      7   5   2   4   2   7   4   1  6\n",
       " 10   8   5  3   9   6  2   6  5  10      3   3   7   7   3   4   8  10  4\n",
       "  5   0   4  1   2   4  1   1  8   2      3   3   3   5   1   8   2   1  7\n",
       "  3   2   9  4   2   5  8   7  5   9      3   1   6   9   1   8   5   5  2"
      ]
     },
     "execution_count": 30,
     "metadata": {},
     "output_type": "execute_result"
    }
   ],
   "source": [
    "fetch(@spawnat 3 map(x->x,localpart(ddat)))"
   ]
  },
  {
   "cell_type": "code",
   "execution_count": 25,
   "metadata": {
    "collapsed": false
   },
   "outputs": [
    {
     "data": {
      "text/plain": [
       "478500436"
      ]
     },
     "execution_count": 25,
     "metadata": {},
     "output_type": "execute_result"
    }
   ],
   "source": [
    "fetch(@spawnat 3 sum(x->x*x,localpart(ddat)))"
   ]
  },
  {
   "cell_type": "code",
   "execution_count": 34,
   "metadata": {
    "collapsed": false
   },
   "outputs": [
    {
     "data": {
      "text/plain": [
       "7-element Array{Any,1}:\n",
       " 478642323\n",
       " 478500436\n",
       " 478775883\n",
       " 478334657\n",
       " 478622426\n",
       " 478253274\n",
       " 478641183"
      ]
     },
     "execution_count": 34,
     "metadata": {},
     "output_type": "execute_result"
    }
   ],
   "source": [
    "map(fetch,[@spawnat p sum(map(x->x*x,localpart(ddat))) for p in ddat.pids])"
   ]
  },
  {
   "cell_type": "code",
   "execution_count": 40,
   "metadata": {
    "collapsed": false
   },
   "outputs": [
    {
     "name": "stdout",
     "output_type": "stream",
     "text": [
      "  "
     ]
    },
    {
     "data": {
      "text/plain": [
       "3349770182"
      ]
     },
     "execution_count": 40,
     "metadata": {},
     "output_type": "execute_result"
    },
    {
     "name": "stdout",
     "output_type": "stream",
     "text": [
      "1.084731 seconds (7.28 k allocations: 570.891 KB)\n"
     ]
    }
   ],
   "source": [
    "@time reduce(+,map(fetch,[@spawnat p sum(map(x->x*x,localpart(ddat))) for p in procs(ddat)]))"
   ]
  },
  {
   "cell_type": "code",
   "execution_count": 45,
   "metadata": {
    "collapsed": false
   },
   "outputs": [
    {
     "name": "stdout",
     "output_type": "stream",
     "text": [
      "  "
     ]
    },
    {
     "data": {
      "text/plain": [
       "3349770182"
      ]
     },
     "execution_count": 45,
     "metadata": {},
     "output_type": "execute_result"
    },
    {
     "name": "stdout",
     "output_type": "stream",
     "text": [
      "0.922875 seconds (15.80 k allocations: 1.233 MB)\n"
     ]
    }
   ],
   "source": [
    "@time reduce(+,map(x->x*x,ddat))"
   ]
  },
  {
   "cell_type": "code",
   "execution_count": 43,
   "metadata": {
    "collapsed": false
   },
   "outputs": [
    {
     "name": "stdout",
     "output_type": "stream",
     "text": [
      "  "
     ]
    },
    {
     "data": {
      "text/plain": [
       "3349770182"
      ]
     },
     "execution_count": 43,
     "metadata": {},
     "output_type": "execute_result"
    },
    {
     "name": "stdout",
     "output_type": "stream",
     "text": [
      "6.649570 seconds (98.16 M allocations: 1.463 GB, 5.26% gc time)\n"
     ]
    }
   ],
   "source": [
    "@time sum(x->x*x,dat)"
   ]
  },
  {
   "cell_type": "code",
   "execution_count": null,
   "metadata": {
    "collapsed": true
   },
   "outputs": [],
   "source": []
  }
 ],
 "metadata": {
  "kernelspec": {
   "display_name": "Julia 0.4.0",
   "language": "julia",
   "name": "julia-0.4"
  },
  "language_info": {
   "file_extension": ".jl",
   "mimetype": "application/julia",
   "name": "julia",
   "version": "0.4.0"
  }
 },
 "nbformat": 4,
 "nbformat_minor": 0
}
