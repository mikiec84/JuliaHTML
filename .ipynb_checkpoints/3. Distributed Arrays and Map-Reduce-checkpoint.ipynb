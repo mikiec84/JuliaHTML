{
 "metadata": {
  "language": "Julia",
  "name": ""
 },
 "nbformat": 3,
 "nbformat_minor": 0,
 "worksheets": [
  {
   "cells": [
    {
     "cell_type": "code",
     "collapsed": false,
     "input": [
      "addprocs(8)"
     ],
     "language": "python",
     "metadata": {},
     "outputs": [
      {
       "metadata": {},
       "output_type": "pyout",
       "prompt_number": 1,
       "text": [
        "8-element Array{Any,1}:\n",
        " 2\n",
        " 3\n",
        " 4\n",
        " 5\n",
        " 6\n",
        " 7\n",
        " 8\n",
        " 9"
       ]
      }
     ],
     "prompt_number": 1
    },
    {
     "cell_type": "code",
     "collapsed": false,
     "input": [
      "nprocs()"
     ],
     "language": "python",
     "metadata": {},
     "outputs": [
      {
       "metadata": {},
       "output_type": "pyout",
       "prompt_number": 2,
       "text": [
        "9"
       ]
      }
     ],
     "prompt_number": 2
    },
    {
     "cell_type": "code",
     "collapsed": false,
     "input": [
      "dat=map(x->integer(x*10),rand(10000,10000))"
     ],
     "language": "python",
     "metadata": {},
     "outputs": [
      {
       "metadata": {},
       "output_type": "pyout",
       "prompt_number": 3,
       "text": [
        "10000x10000 Array{Int64,2}:\n",
        "  5  10   5  8  7  9  1  8  10   7   1  \u2026  1  5   0   8   6  2  10  2   6  10\n",
        "  1   5   2  7  6  5  5  2   6   7   1     1  8   2  10   9  5   7  0   4   2\n",
        "  7   6  10  7  1  4  9  6   1   8   2     1  8   5   3   8  3   5  2   6   7\n",
        "  6   3   1  1  1  7  9  7   8   5   5     9  6   6   7   3  8   3  0   4   8\n",
        "  3   9   7  9  1  6  4  5   8   4  10     6  4   3   9   7  6   6  2   6   4\n",
        "  5   0  10  8  7  0  4  8   4   7  10  \u2026  9  5   2   1   8  1   9  0   1   7\n",
        "  3  10   2  1  4  7  7  9   6   7   2     4  5   8   1   6  1   4  3   6  10\n",
        "  1   4   2  4  8  3  6  7   6   3   9     2  9   8   7   5  1   1  0   9   4\n",
        "  1   9   5  2  5  6  5  9   0   7   2     8  4   3   5   4  3   3  2   2   0\n",
        "  1   8  10  9  7  5  6  4   1   4   1     2  4   8   4   5  2   0  0   3   2\n",
        "  3   6   3  1  9  8  9  6   8  10   5  \u2026  6  4   8   6   5  5   6  7   8   1\n",
        "  8   7   4  3  7  1  6  2   3   4   6     8  5   4   4   6  3   0  1   8   3\n",
        "  6   4   2  8  9  4  6  8   4   7   1     1  2   5   2   2  6   9  8  10   4\n",
        "  \u22ee                \u22ee                 \u22ee  \u22f1  \u22ee                 \u22ee               \n",
        "  0   2   3  3  9  4  1  7  10   8   4     1  3   9   3   1  8   3  5   6   8\n",
        "  4   7   4  2  7  0  6  8   7   5   9     5  9   4   2   2  9   1  7   7   8\n",
        " 10   7   1  6  2  5  3  1   3   9   1  \u2026  5  2   1   4   4  8   7  2   9   8\n",
        " 10   3   8  5  3  8  8  2   0   1   2     9  1   8   9   9  7   6  0   1   6\n",
        "  9   6   5  1  6  8  2  6   4   5   0     9  3   5   7   1  2   9  7   3   9\n",
        "  9   0   7  5  2  2  3  8   7   3   5     8  8   0   3  10  9   7  6   0   4\n",
        "  1   9   4  4  0  3  2  2   2  10   1     5  6  10   4   7  9   6  8   3   4\n",
        "  3   7   4  3  6  7  9  6  10   7  10  \u2026  9  3   2   8   0  8   7  7  10   2\n",
        "  2   7   6  2  1  5  6  7   0   0   4     5  6   3   2   9  5   8  0  10   4\n",
        "  5   4   4  6  1  9  1  3   8   4  10     5  5   4   1   4  9   5  3   3   7\n",
        "  9   6   4  6  4  5  4  1   0   0   5     6  2   1   5   9  9   6  7   1   6\n",
        "  9   8   2  8  1  7  6  1   8   9   2     0  3   7   6   5  6   1  8   8   4"
       ]
      }
     ],
     "prompt_number": 3
    },
    {
     "cell_type": "code",
     "collapsed": false,
     "input": [
      "ddat=distribute(dat)"
     ],
     "language": "python",
     "metadata": {},
     "outputs": [
      {
       "metadata": {},
       "output_type": "pyout",
       "prompt_number": 4,
       "text": [
        "10000x10000 DArray{Int64,2,Array{Int64,2}}:\n",
        "  5  10   5  8  7  9  1  8  10   7   1  \u2026  1  5   0   8   6  2  10  2   6  10\n",
        "  1   5   2  7  6  5  5  2   6   7   1     1  8   2  10   9  5   7  0   4   2\n",
        "  7   6  10  7  1  4  9  6   1   8   2     1  8   5   3   8  3   5  2   6   7\n",
        "  6   3   1  1  1  7  9  7   8   5   5     9  6   6   7   3  8   3  0   4   8\n",
        "  3   9   7  9  1  6  4  5   8   4  10     6  4   3   9   7  6   6  2   6   4\n",
        "  5   0  10  8  7  0  4  8   4   7  10  \u2026  9  5   2   1   8  1   9  0   1   7\n",
        "  3  10   2  1  4  7  7  9   6   7   2     4  5   8   1   6  1   4  3   6  10\n",
        "  1   4   2  4  8  3  6  7   6   3   9     2  9   8   7   5  1   1  0   9   4\n",
        "  1   9   5  2  5  6  5  9   0   7   2     8  4   3   5   4  3   3  2   2   0\n",
        "  1   8  10  9  7  5  6  4   1   4   1     2  4   8   4   5  2   0  0   3   2\n",
        "  3   6   3  1  9  8  9  6   8  10   5  \u2026  6  4   8   6   5  5   6  7   8   1\n",
        "  8   7   4  3  7  1  6  2   3   4   6     8  5   4   4   6  3   0  1   8   3\n",
        "  6   4   2  8  9  4  6  8   4   7   1     1  2   5   2   2  6   9  8  10   4\n",
        "  \u22ee                \u22ee                 \u22ee  \u22f1  \u22ee                 \u22ee               \n",
        "  0   2   3  3  9  4  1  7  10   8   4     1  3   9   3   1  8   3  5   6   8\n",
        "  4   7   4  2  7  0  6  8   7   5   9     5  9   4   2   2  9   1  7   7   8\n",
        " 10   7   1  6  2  5  3  1   3   9   1  \u2026  5  2   1   4   4  8   7  2   9   8\n",
        " 10   3   8  5  3  8  8  2   0   1   2     9  1   8   9   9  7   6  0   1   6\n",
        "  9   6   5  1  6  8  2  6   4   5   0     9  3   5   7   1  2   9  7   3   9\n",
        "  9   0   7  5  2  2  3  8   7   3   5     8  8   0   3  10  9   7  6   0   4\n",
        "  1   9   4  4  0  3  2  2   2  10   1     5  6  10   4   7  9   6  8   3   4\n",
        "  3   7   4  3  6  7  9  6  10   7  10  \u2026  9  3   2   8   0  8   7  7  10   2\n",
        "  2   7   6  2  1  5  6  7   0   0   4     5  6   3   2   9  5   8  0  10   4\n",
        "  5   4   4  6  1  9  1  3   8   4  10     5  5   4   1   4  9   5  3   3   7\n",
        "  9   6   4  6  4  5  4  1   0   0   5     6  2   1   5   9  9   6  7   1   6\n",
        "  9   8   2  8  1  7  6  1   8   9   2     0  3   7   6   5  6   1  8   8   4"
       ]
      }
     ],
     "prompt_number": 4
    },
    {
     "cell_type": "code",
     "collapsed": false,
     "input": [
      "map(x->myid(),dat)"
     ],
     "language": "python",
     "metadata": {},
     "outputs": [
      {
       "metadata": {},
       "output_type": "pyout",
       "prompt_number": 5,
       "text": [
        "10000x10000 Array{Int64,2}:\n",
        " 1  1  1  1  1  1  1  1  1  1  1  1  1  \u2026  1  1  1  1  1  1  1  1  1  1  1  1\n",
        " 1  1  1  1  1  1  1  1  1  1  1  1  1     1  1  1  1  1  1  1  1  1  1  1  1\n",
        " 1  1  1  1  1  1  1  1  1  1  1  1  1     1  1  1  1  1  1  1  1  1  1  1  1\n",
        " 1  1  1  1  1  1  1  1  1  1  1  1  1     1  1  1  1  1  1  1  1  1  1  1  1\n",
        " 1  1  1  1  1  1  1  1  1  1  1  1  1     1  1  1  1  1  1  1  1  1  1  1  1\n",
        " 1  1  1  1  1  1  1  1  1  1  1  1  1  \u2026  1  1  1  1  1  1  1  1  1  1  1  1\n",
        " 1  1  1  1  1  1  1  1  1  1  1  1  1     1  1  1  1  1  1  1  1  1  1  1  1\n",
        " 1  1  1  1  1  1  1  1  1  1  1  1  1     1  1  1  1  1  1  1  1  1  1  1  1\n",
        " 1  1  1  1  1  1  1  1  1  1  1  1  1     1  1  1  1  1  1  1  1  1  1  1  1\n",
        " 1  1  1  1  1  1  1  1  1  1  1  1  1     1  1  1  1  1  1  1  1  1  1  1  1\n",
        " 1  1  1  1  1  1  1  1  1  1  1  1  1  \u2026  1  1  1  1  1  1  1  1  1  1  1  1\n",
        " 1  1  1  1  1  1  1  1  1  1  1  1  1     1  1  1  1  1  1  1  1  1  1  1  1\n",
        " 1  1  1  1  1  1  1  1  1  1  1  1  1     1  1  1  1  1  1  1  1  1  1  1  1\n",
        " \u22ee              \u22ee              \u22ee        \u22f1        \u22ee              \u22ee            \n",
        " 1  1  1  1  1  1  1  1  1  1  1  1  1     1  1  1  1  1  1  1  1  1  1  1  1\n",
        " 1  1  1  1  1  1  1  1  1  1  1  1  1     1  1  1  1  1  1  1  1  1  1  1  1\n",
        " 1  1  1  1  1  1  1  1  1  1  1  1  1  \u2026  1  1  1  1  1  1  1  1  1  1  1  1\n",
        " 1  1  1  1  1  1  1  1  1  1  1  1  1     1  1  1  1  1  1  1  1  1  1  1  1\n",
        " 1  1  1  1  1  1  1  1  1  1  1  1  1     1  1  1  1  1  1  1  1  1  1  1  1\n",
        " 1  1  1  1  1  1  1  1  1  1  1  1  1     1  1  1  1  1  1  1  1  1  1  1  1\n",
        " 1  1  1  1  1  1  1  1  1  1  1  1  1     1  1  1  1  1  1  1  1  1  1  1  1\n",
        " 1  1  1  1  1  1  1  1  1  1  1  1  1  \u2026  1  1  1  1  1  1  1  1  1  1  1  1\n",
        " 1  1  1  1  1  1  1  1  1  1  1  1  1     1  1  1  1  1  1  1  1  1  1  1  1\n",
        " 1  1  1  1  1  1  1  1  1  1  1  1  1     1  1  1  1  1  1  1  1  1  1  1  1\n",
        " 1  1  1  1  1  1  1  1  1  1  1  1  1     1  1  1  1  1  1  1  1  1  1  1  1\n",
        " 1  1  1  1  1  1  1  1  1  1  1  1  1     1  1  1  1  1  1  1  1  1  1  1  1"
       ]
      }
     ],
     "prompt_number": 5
    },
    {
     "cell_type": "code",
     "collapsed": false,
     "input": [
      "map(x->myid(),ddat)"
     ],
     "language": "python",
     "metadata": {},
     "outputs": [
      {
       "metadata": {},
       "output_type": "pyout",
       "prompt_number": 6,
       "text": [
        "10000x10000 DArray{Int64,2,Array{Int64,2}}:\n",
        " 2  2  2  2  2  2  2  2  2  2  2  2  2  \u2026  8  8  8  8  8  8  8  8  8  8  8  8\n",
        " 2  2  2  2  2  2  2  2  2  2  2  2  2     8  8  8  8  8  8  8  8  8  8  8  8\n",
        " 2  2  2  2  2  2  2  2  2  2  2  2  2     8  8  8  8  8  8  8  8  8  8  8  8\n",
        " 2  2  2  2  2  2  2  2  2  2  2  2  2     8  8  8  8  8  8  8  8  8  8  8  8\n",
        " 2  2  2  2  2  2  2  2  2  2  2  2  2     8  8  8  8  8  8  8  8  8  8  8  8\n",
        " 2  2  2  2  2  2  2  2  2  2  2  2  2  \u2026  8  8  8  8  8  8  8  8  8  8  8  8\n",
        " 2  2  2  2  2  2  2  2  2  2  2  2  2     8  8  8  8  8  8  8  8  8  8  8  8\n",
        " 2  2  2  2  2  2  2  2  2  2  2  2  2     8  8  8  8  8  8  8  8  8  8  8  8\n",
        " 2  2  2  2  2  2  2  2  2  2  2  2  2     8  8  8  8  8  8  8  8  8  8  8  8\n",
        " 2  2  2  2  2  2  2  2  2  2  2  2  2     8  8  8  8  8  8  8  8  8  8  8  8\n",
        " 2  2  2  2  2  2  2  2  2  2  2  2  2  \u2026  8  8  8  8  8  8  8  8  8  8  8  8\n",
        " 2  2  2  2  2  2  2  2  2  2  2  2  2     8  8  8  8  8  8  8  8  8  8  8  8\n",
        " 2  2  2  2  2  2  2  2  2  2  2  2  2     8  8  8  8  8  8  8  8  8  8  8  8\n",
        " \u22ee              \u22ee              \u22ee        \u22f1        \u22ee              \u22ee            \n",
        " 3  3  3  3  3  3  3  3  3  3  3  3  3     9  9  9  9  9  9  9  9  9  9  9  9\n",
        " 3  3  3  3  3  3  3  3  3  3  3  3  3     9  9  9  9  9  9  9  9  9  9  9  9\n",
        " 3  3  3  3  3  3  3  3  3  3  3  3  3  \u2026  9  9  9  9  9  9  9  9  9  9  9  9\n",
        " 3  3  3  3  3  3  3  3  3  3  3  3  3     9  9  9  9  9  9  9  9  9  9  9  9\n",
        " 3  3  3  3  3  3  3  3  3  3  3  3  3     9  9  9  9  9  9  9  9  9  9  9  9\n",
        " 3  3  3  3  3  3  3  3  3  3  3  3  3     9  9  9  9  9  9  9  9  9  9  9  9\n",
        " 3  3  3  3  3  3  3  3  3  3  3  3  3     9  9  9  9  9  9  9  9  9  9  9  9\n",
        " 3  3  3  3  3  3  3  3  3  3  3  3  3  \u2026  9  9  9  9  9  9  9  9  9  9  9  9\n",
        " 3  3  3  3  3  3  3  3  3  3  3  3  3     9  9  9  9  9  9  9  9  9  9  9  9\n",
        " 3  3  3  3  3  3  3  3  3  3  3  3  3     9  9  9  9  9  9  9  9  9  9  9  9\n",
        " 3  3  3  3  3  3  3  3  3  3  3  3  3     9  9  9  9  9  9  9  9  9  9  9  9\n",
        " 3  3  3  3  3  3  3  3  3  3  3  3  3     9  9  9  9  9  9  9  9  9  9  9  9"
       ]
      }
     ],
     "prompt_number": 6
    },
    {
     "cell_type": "code",
     "collapsed": false,
     "input": [
      "@time map(sin,dat);"
     ],
     "language": "python",
     "metadata": {},
     "outputs": [
      {
       "output_type": "stream",
       "stream": "stdout",
       "text": [
        "elapsed time: 18"
       ]
      },
      {
       "output_type": "stream",
       "stream": "stdout",
       "text": [
        ".768323201 seconds (4000237720 bytes allocated)\n"
       ]
      }
     ],
     "prompt_number": 6
    },
    {
     "cell_type": "code",
     "collapsed": false,
     "input": [
      "@time map(sin,ddat);"
     ],
     "language": "python",
     "metadata": {},
     "outputs": [
      {
       "output_type": "stream",
       "stream": "stdout",
       "text": [
        "elapsed time: 6"
       ]
      },
      {
       "output_type": "stream",
       "stream": "stdout",
       "text": [
        ".503854264 seconds (1155884 bytes allocated)\n"
       ]
      }
     ],
     "prompt_number": 6
    },
    {
     "cell_type": "code",
     "collapsed": false,
     "input": [
      "function intsum(x)\n",
      "  if x==0 \n",
      "    0\n",
      "  else\n",
      "    x+intsum(x-1)\n",
      "  end\n",
      "end"
     ],
     "language": "python",
     "metadata": {},
     "outputs": [
      {
       "metadata": {},
       "output_type": "pyout",
       "prompt_number": 7,
       "text": [
        "intsum (generic function with 1 method)"
       ]
      }
     ],
     "prompt_number": 7
    },
    {
     "cell_type": "code",
     "collapsed": false,
     "input": [
      "@time reduce(+,map(intsum,dat))"
     ],
     "language": "python",
     "metadata": {},
     "outputs": [
      {
       "output_type": "stream",
       "stream": "stdout",
       "text": [
        "elapsed time: "
       ]
      },
      {
       "output_type": "stream",
       "stream": "stdout",
       "text": [
        "13.869886468 seconds (3573605212 bytes allocated)\n"
       ]
      },
      {
       "metadata": {},
       "output_type": "pyout",
       "prompt_number": 8,
       "text": [
        "1925220525"
       ]
      }
     ],
     "prompt_number": 8
    },
    {
     "cell_type": "code",
     "collapsed": false,
     "input": [
      "@everywhere function intsum(x)\n",
      "  if x==0 \n",
      "    0\n",
      "  else\n",
      "    x+intsum(x-1)\n",
      "  end\n",
      "end"
     ],
     "language": "python",
     "metadata": {},
     "outputs": [],
     "prompt_number": 9
    },
    {
     "cell_type": "code",
     "collapsed": false,
     "input": [
      "@time reduce(+,map(intsum,ddat))"
     ],
     "language": "python",
     "metadata": {},
     "outputs": [
      {
       "output_type": "stream",
       "stream": "stdout",
       "text": [
        "elapsed time: 7"
       ]
      },
      {
       "output_type": "stream",
       "stream": "stdout",
       "text": [
        ".755918331 seconds (1741936 bytes allocated)\n"
       ]
      },
      {
       "metadata": {},
       "output_type": "pyout",
       "prompt_number": 10,
       "text": [
        "1925220525"
       ]
      }
     ],
     "prompt_number": 10
    },
    {
     "cell_type": "code",
     "collapsed": false,
     "input": [
      "@everywhere function rsumtail(x,n)\n",
      "  if x==0\n",
      "    n\n",
      "  else\n",
      "    rsumtail(x-1,n+x)\n",
      "  end\n",
      "end\n",
      "\n",
      "@everywhere function rsumtail(x)\n",
      "  rsumtail(x,0)\n",
      "end\n",
      "\n",
      "@everywhere function rsum(x)\n",
      "  if x==0\n",
      "    0\n",
      "  else\n",
      "    x+rsum(x-1)\n",
      "  end\n",
      "end\n"
     ],
     "language": "python",
     "metadata": {},
     "outputs": [],
     "prompt_number": 11
    },
    {
     "cell_type": "code",
     "collapsed": false,
     "input": [
      "@time rsumtail(100000)"
     ],
     "language": "python",
     "metadata": {},
     "outputs": [
      {
       "output_type": "stream",
       "stream": "stdout",
       "text": [
        "elapsed time: 0.003560562 seconds (42804 bytes allocated)\n"
       ]
      },
      {
       "metadata": {},
       "output_type": "pyout",
       "prompt_number": 12,
       "text": [
        "5000050000"
       ]
      }
     ],
     "prompt_number": 12
    },
    {
     "cell_type": "code",
     "collapsed": false,
     "input": [
      "@time rsum(100000)"
     ],
     "language": "python",
     "metadata": {},
     "outputs": [
      {
       "output_type": "stream",
       "stream": "stdout",
       "text": [
        "elapsed time: 0.00298811 seconds (23496 bytes allocated)\n"
       ]
      },
      {
       "metadata": {},
       "output_type": "pyout",
       "prompt_number": 13,
       "text": [
        "5000050000"
       ]
      }
     ],
     "prompt_number": 13
    },
    {
     "cell_type": "code",
     "collapsed": false,
     "input": [
      "@time (s=0;\n",
      "for i in dat\n",
      "  s+=intsum(i)\n",
      "end;\n",
      "s)"
     ],
     "language": "python",
     "metadata": {},
     "outputs": [
      {
       "output_type": "stream",
       "stream": "stdout",
       "text": [
        "elapsed time: "
       ]
      },
      {
       "output_type": "stream",
       "stream": "stdout",
       "text": [
        "27.497745513 seconds (6400048780 bytes allocated)\n"
       ]
      },
      {
       "metadata": {},
       "output_type": "pyout",
       "prompt_number": 14,
       "text": [
        "1925220525"
       ]
      }
     ],
     "prompt_number": 14
    },
    {
     "cell_type": "code",
     "collapsed": false,
     "input": [
      "@time @parallel (+) for i in dat\n",
      "  intsum(i)\n",
      "end"
     ],
     "language": "python",
     "metadata": {},
     "outputs": [
      {
       "output_type": "stream",
       "stream": "stdout",
       "text": [
        "elapsed time: 58"
       ]
      },
      {
       "output_type": "stream",
       "stream": "stdout",
       "text": [
        ".975630069 seconds (8593540856 bytes allocated)\n"
       ]
      },
      {
       "metadata": {},
       "output_type": "pyout",
       "prompt_number": 15,
       "text": [
        "1925220525"
       ]
      }
     ],
     "prompt_number": 15
    },
    {
     "cell_type": "code",
     "collapsed": false,
     "input": [
      "@time reduce(+,map(intsum,ddat))"
     ],
     "language": "python",
     "metadata": {},
     "outputs": [
      {
       "output_type": "stream",
       "stream": "stdout",
       "text": [
        "elapsed time: 8"
       ]
      },
      {
       "output_type": "stream",
       "stream": "stdout",
       "text": [
        ".475745652 seconds (1453340 bytes allocated)\n"
       ]
      },
      {
       "metadata": {},
       "output_type": "pyout",
       "prompt_number": 16,
       "text": [
        "1925220525"
       ]
      }
     ],
     "prompt_number": 16
    },
    {
     "cell_type": "code",
     "collapsed": false,
     "input": [
      "ddat.indexes"
     ],
     "language": "python",
     "metadata": {},
     "outputs": [
      {
       "metadata": {},
       "output_type": "pyout",
       "prompt_number": 17,
       "text": [
        "2x4 Array{(Range1{Int64},Range1{Int64}),2}:\n",
        " (1:5000,1:2500)      (1:5000,2501:5000)      \u2026  (1:5000,7501:10000)    \n",
        " (5001:10000,1:2500)  (5001:10000,2501:5000)     (5001:10000,7501:10000)"
       ]
      }
     ],
     "prompt_number": 17
    },
    {
     "cell_type": "code",
     "collapsed": false,
     "input": [
      "ddat.chunks"
     ],
     "language": "python",
     "metadata": {},
     "outputs": [
      {
       "metadata": {},
       "output_type": "pyout",
       "prompt_number": 18,
       "text": [
        "2x4 Array{RemoteRef,2}:\n",
        " RemoteRef(2,1,5)  RemoteRef(4,1,7)  RemoteRef(6,1,9)   RemoteRef(8,1,11)\n",
        " RemoteRef(3,1,6)  RemoteRef(5,1,8)  RemoteRef(7,1,10)  RemoteRef(9,1,12)"
       ]
      }
     ],
     "prompt_number": 18
    },
    {
     "cell_type": "code",
     "collapsed": false,
     "input": [
      "ddat.pmap"
     ],
     "language": "python",
     "metadata": {},
     "outputs": [
      {
       "metadata": {},
       "output_type": "pyout",
       "prompt_number": 19,
       "text": [
        "8-element Array{Int64,1}:\n",
        " 2\n",
        " 3\n",
        " 4\n",
        " 5\n",
        " 6\n",
        " 7\n",
        " 8\n",
        " 9"
       ]
      }
     ],
     "prompt_number": 19
    },
    {
     "cell_type": "code",
     "collapsed": false,
     "input": [
      "fetch(@spawnat 3 sum(x->x*x,localpart(ddat)))"
     ],
     "language": "python",
     "metadata": {},
     "outputs": [
      {
       "metadata": {},
       "output_type": "pyout",
       "prompt_number": 20,
       "text": [
        "418691437"
       ]
      }
     ],
     "prompt_number": 20
    },
    {
     "cell_type": "code",
     "collapsed": false,
     "input": [
      "map(fetch,{@spawnat p sum(map(x->x*x,localpart(ddat))) for p in ddat.pmap})"
     ],
     "language": "python",
     "metadata": {},
     "outputs": [
      {
       "metadata": {},
       "output_type": "pyout",
       "prompt_number": 21,
       "text": [
        "8-element Array{Any,1}:\n",
        " 418674924\n",
        " 418691437\n",
        " 418918105\n",
        " 418865137\n",
        " 418811606\n",
        " 418838010\n",
        " 418774120\n",
        " 418838287"
       ]
      }
     ],
     "prompt_number": 21
    },
    {
     "cell_type": "code",
     "collapsed": false,
     "input": [
      "@time reduce(+,map(fetch,{@spawnat p sum(map(x->x*x,localpart(ddat))) for p in procs(ddat)}))"
     ],
     "language": "python",
     "metadata": {},
     "outputs": [
      {
       "output_type": "stream",
       "stream": "stdout",
       "text": [
        "elapsed time: 2"
       ]
      },
      {
       "output_type": "stream",
       "stream": "stdout",
       "text": [
        ".714070546 seconds (666432 bytes allocated)\n"
       ]
      },
      {
       "metadata": {},
       "output_type": "pyout",
       "prompt_number": 22,
       "text": [
        "3350411626"
       ]
      }
     ],
     "prompt_number": 22
    },
    {
     "cell_type": "code",
     "collapsed": false,
     "input": [
      "@time reduce(+,map(x->x*x,ddat))"
     ],
     "language": "python",
     "metadata": {},
     "outputs": [
      {
       "output_type": "stream",
       "stream": "stdout",
       "text": [
        "elapsed time: 3"
       ]
      },
      {
       "output_type": "stream",
       "stream": "stdout",
       "text": [
        ".713969977 seconds (1471164 bytes allocated)\n"
       ]
      },
      {
       "metadata": {},
       "output_type": "pyout",
       "prompt_number": 23,
       "text": [
        "3350411626"
       ]
      }
     ],
     "prompt_number": 23
    }
   ],
   "metadata": {}
  }
 ]
}