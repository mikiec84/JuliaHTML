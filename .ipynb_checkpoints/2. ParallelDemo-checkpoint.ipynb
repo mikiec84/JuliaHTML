{
 "metadata": {
  "language": "Julia",
  "name": ""
 },
 "nbformat": 3,
 "nbformat_minor": 0,
 "worksheets": [
  {
   "cells": [
    {
     "cell_type": "heading",
     "level": 1,
     "metadata": {},
     "source": [
      "Sample Codes"
     ]
    },
    {
     "cell_type": "raw",
     "metadata": {},
     "source": [
      "NOTE:\n",
      "\n",
      "Each process has an associated identifier. The process providing the interactive julia prompt always has an id equal to 1, as would the julia process running the driver script in the example above. The processors used by default for parallel operations are referred to as workers. When there is only one process, process 1 is considered a worker. Otherwise, workers are considered to be all processes other than process 1.\n",
      "\n",
      "The base Julia installation has in-built support for two types of clusters:\n",
      "\n",
      "        1. A local cluster specified with the -p option as shown above.\n",
      "        2. And a cluster spanning machines using the --machinefile option. This uses ssh to start the worker processes on the specified machines.\n",
      "\n",
      "Functions addprocs, rmprocs, workers and others, are available as a programmatic means of adding, removing and querying the processes in a cluster."
     ]
    },
    {
     "cell_type": "code",
     "collapsed": false,
     "input": [
      "workers()"
     ],
     "language": "python",
     "metadata": {},
     "outputs": [
      {
       "metadata": {},
       "output_type": "pyout",
       "prompt_number": 1,
       "text": [
        "1-element Array{Int64,1}:\n",
        " 1"
       ]
      }
     ],
     "prompt_number": 1
    },
    {
     "cell_type": "code",
     "collapsed": false,
     "input": [
      "procs()"
     ],
     "language": "python",
     "metadata": {},
     "outputs": [
      {
       "metadata": {},
       "output_type": "pyout",
       "prompt_number": 2,
       "text": [
        "1-element Array{Int64,1}:\n",
        " 1"
       ]
      }
     ],
     "prompt_number": 2
    },
    {
     "cell_type": "code",
     "collapsed": false,
     "input": [
      "addprocs(8)"
     ],
     "language": "python",
     "metadata": {},
     "outputs": [
      {
       "metadata": {},
       "output_type": "pyout",
       "prompt_number": 3,
       "text": [
        "8-element Array{Any,1}:\n",
        " 2\n",
        " 3\n",
        " 4\n",
        " 5\n",
        " 6\n",
        " 7\n",
        " 8\n",
        " 9"
       ]
      }
     ],
     "prompt_number": 3
    },
    {
     "cell_type": "code",
     "collapsed": false,
     "input": [
      "r = remotecall(3, rand, 2, 2)"
     ],
     "language": "python",
     "metadata": {},
     "outputs": [
      {
       "metadata": {},
       "output_type": "pyout",
       "prompt_number": 4,
       "text": [
        "RemoteRef(3,1,4)"
       ]
      }
     ],
     "prompt_number": 4
    },
    {
     "cell_type": "code",
     "collapsed": false,
     "input": [
      "b=fetch(r)"
     ],
     "language": "python",
     "metadata": {},
     "outputs": [
      {
       "metadata": {},
       "output_type": "pyout",
       "prompt_number": 5,
       "text": [
        "2x2 Array{Float64,2}:\n",
        " 0.525251  0.775677\n",
        " 0.440102  0.352892"
       ]
      }
     ],
     "prompt_number": 5
    },
    {
     "cell_type": "code",
     "collapsed": false,
     "input": [
      "s = @spawnat 2 rand(2,2)"
     ],
     "language": "python",
     "metadata": {},
     "outputs": [
      {
       "metadata": {},
       "output_type": "pyout",
       "prompt_number": 6,
       "text": [
        "RemoteRef(2,1,6)"
       ]
      }
     ],
     "prompt_number": 6
    },
    {
     "cell_type": "code",
     "collapsed": false,
     "input": [
      "fetch(s)"
     ],
     "language": "python",
     "metadata": {},
     "outputs": [
      {
       "metadata": {},
       "output_type": "pyout",
       "prompt_number": 7,
       "text": [
        "2x2 Array{Float64,2}:\n",
        " 0.243035  0.296231\n",
        " 0.405337  0.618076"
       ]
      }
     ],
     "prompt_number": 7
    },
    {
     "cell_type": "code",
     "collapsed": false,
     "input": [
      "remotecall_fetch(2, rand, 2,2)"
     ],
     "language": "python",
     "metadata": {},
     "outputs": [
      {
       "metadata": {},
       "output_type": "pyout",
       "prompt_number": 8,
       "text": [
        "2x2 Array{Float64,2}:\n",
        " 0.668564   0.0206293\n",
        " 0.0210516  0.774269 "
       ]
      }
     ],
     "prompt_number": 8
    },
    {
     "cell_type": "code",
     "collapsed": false,
     "input": [
      "remotecall_fetch(2, getindex,r,1,1)"
     ],
     "language": "python",
     "metadata": {},
     "outputs": [
      {
       "metadata": {},
       "output_type": "pyout",
       "prompt_number": 9,
       "text": [
        "0.5252510559469807"
       ]
      }
     ],
     "prompt_number": 9
    },
    {
     "cell_type": "code",
     "collapsed": false,
     "input": [
      "r = @spawn rand(2,2)"
     ],
     "language": "python",
     "metadata": {},
     "outputs": [
      {
       "metadata": {},
       "output_type": "pyout",
       "prompt_number": 10,
       "text": [
        "RemoteRef(3,1,10)"
       ]
      }
     ],
     "prompt_number": 10
    },
    {
     "cell_type": "code",
     "collapsed": false,
     "input": [
      "fetch(r)"
     ],
     "language": "python",
     "metadata": {},
     "outputs": [
      {
       "metadata": {},
       "output_type": "pyout",
       "prompt_number": 11,
       "text": [
        "2x2 Array{Float64,2}:\n",
        " 0.164833  0.311987\n",
        " 0.604117  0.707194"
       ]
      }
     ],
     "prompt_number": 11
    },
    {
     "cell_type": "code",
     "collapsed": false,
     "input": [
      "s = @spawn 1+fetch(r)"
     ],
     "language": "python",
     "metadata": {},
     "outputs": [
      {
       "metadata": {},
       "output_type": "pyout",
       "prompt_number": 12,
       "text": [
        "RemoteRef(3,1,12)"
       ]
      }
     ],
     "prompt_number": 12
    },
    {
     "cell_type": "code",
     "collapsed": false,
     "input": [
      "fetch(s)"
     ],
     "language": "python",
     "metadata": {},
     "outputs": [
      {
       "metadata": {},
       "output_type": "pyout",
       "prompt_number": 13,
       "text": [
        "2x2 Array{Float64,2}:\n",
        " 1.16483  1.31199\n",
        " 1.60412  1.70719"
       ]
      }
     ],
     "prompt_number": 13
    },
    {
     "cell_type": "code",
     "collapsed": false,
     "input": [
      "a=RemoteRef[]\n",
      "for i in 1:10\n",
      "    push!(a,@spawn sin(i))\n",
      "end"
     ],
     "language": "python",
     "metadata": {},
     "outputs": [],
     "prompt_number": 14
    },
    {
     "cell_type": "code",
     "collapsed": false,
     "input": [
      "@parallel (+) for i in a\n",
      "  fetch(i)\n",
      "end"
     ],
     "language": "python",
     "metadata": {},
     "outputs": [
      {
       "metadata": {},
       "output_type": "pyout",
       "prompt_number": 15,
       "text": [
        "1.4111883712180104"
       ]
      }
     ],
     "prompt_number": 15
    },
    {
     "cell_type": "code",
     "collapsed": false,
     "input": [
      "sum(map(x->fetch(x),a))"
     ],
     "language": "python",
     "metadata": {},
     "outputs": [
      {
       "metadata": {},
       "output_type": "pyout",
       "prompt_number": 16,
       "text": [
        "1.4111883712180104"
       ]
      }
     ],
     "prompt_number": 16
    },
    {
     "cell_type": "code",
     "collapsed": false,
     "input": [
      "@everywhere function producer()\n",
      "  for i in 1:3\n",
      "    produce(i)\n",
      "  end\n",
      "end\n",
      "task=Task(producer)\n",
      "consume(task)"
     ],
     "language": "python",
     "metadata": {},
     "outputs": [
      {
       "metadata": {},
       "output_type": "pyout",
       "prompt_number": 21,
       "text": [
        "1"
       ]
      }
     ],
     "prompt_number": 21
    },
    {
     "cell_type": "code",
     "collapsed": false,
     "input": [
      "consume(task)"
     ],
     "language": "python",
     "metadata": {},
     "outputs": [
      {
       "metadata": {},
       "output_type": "pyout",
       "prompt_number": 18,
       "text": [
        "2"
       ]
      }
     ],
     "prompt_number": 18
    },
    {
     "cell_type": "code",
     "collapsed": false,
     "input": [
      "n=10;\n",
      "@everywhere function ssin() \n",
      "    for i in 1:n\n",
      "        produce(sin(i))\n",
      "    end\n",
      "end\n",
      "p=Task(ssin)\n",
      "reduce(+,map(x->consume(p),1:n))"
     ],
     "language": "python",
     "metadata": {},
     "outputs": [
      {
       "metadata": {},
       "output_type": "pyout",
       "prompt_number": 24,
       "text": [
        "1.4111883712180104"
       ]
      }
     ],
     "prompt_number": 24
    },
    {
     "cell_type": "code",
     "collapsed": false,
     "input": [
      "s=sin(1)\n",
      "@time for i in 2:10000000\n",
      "  s+=sin(i)\n",
      "end\n",
      "s"
     ],
     "language": "python",
     "metadata": {},
     "outputs": [
      {
       "output_type": "stream",
       "stream": "stdout",
       "text": [
        "elapsed time: 2"
       ]
      },
      {
       "output_type": "stream",
       "stream": "stdout",
       "text": [
        ".701724951 seconds (319999968 bytes allocated)\n"
       ]
      },
      {
       "metadata": {},
       "output_type": "pyout",
       "prompt_number": 26,
       "text": [
        "1.9558914085412367"
       ]
      }
     ],
     "prompt_number": 26
    },
    {
     "cell_type": "code",
     "collapsed": false,
     "input": [
      "@time @parallel (+) for i=1:10000000\n",
      "  sin(i)\n",
      "end"
     ],
     "language": "python",
     "metadata": {},
     "outputs": [
      {
       "output_type": "stream",
       "stream": "stdout",
       "text": [
        "elapsed time: 0."
       ]
      },
      {
       "output_type": "stream",
       "stream": "stdout",
       "text": [
        "476710806 seconds (517064 bytes allocated)\n"
       ]
      },
      {
       "metadata": {},
       "output_type": "pyout",
       "prompt_number": 27,
       "text": [
        "1.9558914085412054"
       ]
      }
     ],
     "prompt_number": 27
    },
    {
     "cell_type": "code",
     "collapsed": false,
     "input": [
      "@time reduce(+,(map(i->sin(i),1:10000000)))"
     ],
     "language": "python",
     "metadata": {},
     "outputs": [
      {
       "output_type": "stream",
       "stream": "stdout",
       "text": [
        "elapsed time: 3"
       ]
      },
      {
       "output_type": "stream",
       "stream": "stdout",
       "text": [
        ".724218083 seconds (879985408 bytes allocated)\n"
       ]
      },
      {
       "metadata": {},
       "output_type": "pyout",
       "prompt_number": 28,
       "text": [
        "1.9558914085412236"
       ]
      }
     ],
     "prompt_number": 28
    },
    {
     "cell_type": "code",
     "collapsed": false,
     "input": [
      "@time reduce(+,[sin(i) for i in 1:10000000])"
     ],
     "language": "python",
     "metadata": {},
     "outputs": [
      {
       "output_type": "stream",
       "stream": "stdout",
       "text": [
        "elapsed time: 2"
       ]
      },
      {
       "output_type": "stream",
       "stream": "stdout",
       "text": [
        ".61912771 seconds (400000032 bytes allocated)\n"
       ]
      },
      {
       "metadata": {},
       "output_type": "pyout",
       "prompt_number": 29,
       "text": [
        "1.9558914085412236"
       ]
      }
     ],
     "prompt_number": 29
    },
    {
     "cell_type": "code",
     "collapsed": false,
     "input": [
      "@time sum( map(1:10000000) do x\n",
      "         sin(x);\n",
      "     end\n",
      ")"
     ],
     "language": "python",
     "metadata": {},
     "outputs": [
      {
       "output_type": "stream",
       "stream": "stdout",
       "text": [
        "elapsed time: 3"
       ]
      },
      {
       "output_type": "stream",
       "stream": "stdout",
       "text": [
        ".178096776 seconds (559984848 bytes allocated)\n"
       ]
      },
      {
       "metadata": {},
       "output_type": "pyout",
       "prompt_number": 30,
       "text": [
        "1.9558914085412236"
       ]
      }
     ],
     "prompt_number": 30
    },
    {
     "cell_type": "heading",
     "level": 1,
     "metadata": {},
     "source": [
      "Data Movement"
     ]
    },
    {
     "cell_type": "raw",
     "metadata": {},
     "source": [
      "# method 1\n",
      "A = rand(1000,1000)\n",
      "Bref = @spawn A^2\n",
      "...\n",
      "fetch(Bref)\n",
      "\n",
      "# method 2\n",
      "Bref = @spawn rand(1000,1000)^2\n",
      "...\n",
      "fetch(Bref)"
     ]
    },
    {
     "cell_type": "heading",
     "level": 1,
     "metadata": {},
     "source": [
      "Parallel Maps/Loops"
     ]
    },
    {
     "cell_type": "code",
     "collapsed": false,
     "input": [
      "@everywhere function count_heads(n)\n",
      "    c::Int = 0\n",
      "    for i=1:n\n",
      "        c += randbool()\n",
      "    end\n",
      "    c\n",
      "end\n"
     ],
     "language": "python",
     "metadata": {},
     "outputs": [],
     "prompt_number": 47
    },
    {
     "cell_type": "code",
     "collapsed": false,
     "input": [
      "@time count_heads(200000000)/200000000"
     ],
     "language": "python",
     "metadata": {},
     "outputs": [
      {
       "output_type": "stream",
       "stream": "stdout",
       "text": [
        "elapsed time: 0."
       ]
      },
      {
       "output_type": "stream",
       "stream": "stdout",
       "text": [
        "688498406 seconds (159000 bytes allocated)\n"
       ]
      },
      {
       "metadata": {},
       "output_type": "pyout",
       "prompt_number": 48,
       "text": [
        "0.50000936"
       ]
      }
     ],
     "prompt_number": 48
    },
    {
     "cell_type": "code",
     "collapsed": false,
     "input": [
      "#require(\"count_heads\")\n",
      "\n",
      "@time begin\n",
      "a = @spawn count_heads(100000000)\n",
      "b = @spawn count_heads(100000000)\n",
      "(fetch(a)+fetch(b))/200000000\n",
      "end"
     ],
     "language": "python",
     "metadata": {},
     "outputs": [
      {
       "output_type": "stream",
       "stream": "stdout",
       "text": [
        "elapsed time: 0."
       ]
      },
      {
       "output_type": "stream",
       "stream": "stdout",
       "text": [
        "395470371 seconds (21752 bytes allocated)\n"
       ]
      },
      {
       "metadata": {},
       "output_type": "pyout",
       "prompt_number": 49,
       "text": [
        "0.50006082"
       ]
      }
     ],
     "prompt_number": 49
    },
    {
     "cell_type": "code",
     "collapsed": false,
     "input": [
      "@time begin\n",
      "nheads = @parallel (+) for i=1:200000000\n",
      "    int(randbool())\n",
      "end\n",
      "nheads/200000000\n",
      "end"
     ],
     "language": "python",
     "metadata": {},
     "outputs": [
      {
       "output_type": "stream",
       "stream": "stdout",
       "text": [
        "elapsed time: 0."
       ]
      },
      {
       "output_type": "stream",
       "stream": "stdout",
       "text": [
        "168353892 seconds (526264 bytes allocated)\n"
       ]
      },
      {
       "metadata": {},
       "output_type": "pyout",
       "prompt_number": 50,
       "text": [
        "0.49999534"
       ]
      }
     ],
     "prompt_number": 50
    },
    {
     "cell_type": "code",
     "collapsed": false,
     "input": [
      "@time begin\n",
      "    a=0\n",
      "    for i=1:200000000\n",
      "      a+=int(randbool())\n",
      "    end\n",
      "    a/200000000\n",
      "end"
     ],
     "language": "python",
     "metadata": {},
     "outputs": [
      {
       "output_type": "stream",
       "stream": "stdout",
       "text": [
        "elapsed time: 8"
       ]
      },
      {
       "output_type": "stream",
       "stream": "stdout",
       "text": [
        ".610191092 seconds (3199988192 bytes allocated)\n"
       ]
      },
      {
       "metadata": {},
       "output_type": "pyout",
       "prompt_number": 51,
       "text": [
        "0.50003185"
       ]
      }
     ],
     "prompt_number": 51
    },
    {
     "cell_type": "code",
     "collapsed": false,
     "input": [
      "@time sum(map(x->int(randbool()),1:200000000))/200000000"
     ],
     "language": "python",
     "metadata": {},
     "outputs": [
      {
       "output_type": "stream",
       "stream": "stdout",
       "text": [
        "elapsed time: 22"
       ]
      },
      {
       "output_type": "stream",
       "stream": "stdout",
       "text": [
        ".731768799 seconds (7999985040 bytes allocated)\n"
       ]
      },
      {
       "metadata": {},
       "output_type": "pyout",
       "prompt_number": 54,
       "text": [
        "0.49999467"
       ]
      }
     ],
     "prompt_number": 54
    },
    {
     "cell_type": "code",
     "collapsed": false,
     "input": [
      "b = zeros(100000);\n",
      "@parallel for i=1:100000\n",
      "  b[i] = i\n",
      "end"
     ],
     "language": "python",
     "metadata": {},
     "outputs": [],
     "prompt_number": 55
    },
    {
     "cell_type": "code",
     "collapsed": false,
     "input": [
      "b[1:10]  // assignment is local to the process in @parallel for"
     ],
     "language": "python",
     "metadata": {},
     "outputs": [
      {
       "metadata": {},
       "output_type": "pyout",
       "prompt_number": 56,
       "text": [
        "10-element Array{Float64,1}:\n",
        " 0.0\n",
        " 0.0\n",
        " 0.0\n",
        " 0.0\n",
        " 0.0\n",
        " 0.0\n",
        " 0.0\n",
        " 0.0\n",
        " 0.0\n",
        " 0.0"
       ]
      }
     ],
     "prompt_number": 56
    }
   ],
   "metadata": {}
  }
 ]
}