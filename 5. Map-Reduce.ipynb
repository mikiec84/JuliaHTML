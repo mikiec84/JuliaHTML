{
 "cells": [
  {
   "cell_type": "code",
   "execution_count": 1,
   "metadata": {
    "collapsed": false
   },
   "outputs": [],
   "source": [
    "addprocs(5);"
   ]
  },
  {
   "cell_type": "code",
   "execution_count": 5,
   "metadata": {
    "collapsed": true
   },
   "outputs": [],
   "source": [
    "using DistributedArrays"
   ]
  },
  {
   "cell_type": "code",
   "execution_count": 2,
   "metadata": {
    "collapsed": false
   },
   "outputs": [
    {
     "data": {
      "text/plain": [
       "6"
      ]
     },
     "execution_count": 2,
     "metadata": {},
     "output_type": "execute_result"
    }
   ],
   "source": [
    "nprocs()"
   ]
  },
  {
   "cell_type": "code",
   "execution_count": 6,
   "metadata": {
    "collapsed": false
   },
   "outputs": [],
   "source": [
    "@everywhere function par(I)\n",
    "  d=(length(I[1]),length(I[2]))\n",
    "  m=fill(myid(),d)\n",
    "  println(I)\n",
    "  #println(d)\n",
    "  return m\n",
    "end"
   ]
  },
  {
   "cell_type": "code",
   "execution_count": 7,
   "metadata": {
    "collapsed": false
   },
   "outputs": [
    {
     "name": "stderr",
     "output_type": "stream",
     "text": [
      "WARNING: [a] concatenation is deprecated; use collect(a) instead\n",
      " in depwarn at deprecated.jl:73\n",
      " in oldstyle_vcat_warning at /Applications/Julia-0.4.0.app/Contents/Resources/julia/lib/julia/sys.dylib\n",
      " in vect at abstractarray.jl:32\n",
      " in include_string at loading.jl:266\n",
      " in execute_request_0x535c5df2 at /Users/ppalmes/.julia/v0.4/IJulia/src/execute_request.jl:177\n",
      " in eventloop at /Users/ppalmes/.julia/v0.4/IJulia/src/IJulia.jl:141\n",
      " in anonymous at task.jl:447\n",
      "while loading In[7], in expression starting on line 1\n"
     ]
    },
    {
     "name": "stdout",
     "output_type": "stream",
     "text": [
      "\tFrom worker 2:\t(1:4,1:4)\n",
      "\tFrom worker 5:\t(5:8,5:8)\n",
      "\tFrom worker 3:\t(5:8,1:4)\n",
      "\tFrom worker 4:\t(1:4,5:8)\n"
     ]
    },
    {
     "data": {
      "text/plain": [
       "8x8 DistributedArrays.DArray{Int64,2,Array{Int64,2}}:\n",
       " 2  2  2  2  4  4  4  4\n",
       " 2  2  2  2  4  4  4  4\n",
       " 2  2  2  2  4  4  4  4\n",
       " 2  2  2  2  4  4  4  4\n",
       " 3  3  3  3  5  5  5  5\n",
       " 3  3  3  3  5  5  5  5\n",
       " 3  3  3  3  5  5  5  5\n",
       " 3  3  3  3  5  5  5  5"
      ]
     },
     "execution_count": 7,
     "metadata": {},
     "output_type": "execute_result"
    }
   ],
   "source": [
    "m=DArray(par,(8,8),[2:5])"
   ]
  },
  {
   "cell_type": "code",
   "execution_count": 8,
   "metadata": {
    "collapsed": false
   },
   "outputs": [
    {
     "data": {
      "text/plain": [
       "2x2 Array{Tuple{UnitRange{Int64},UnitRange{Int64}},2}:\n",
       " (1:4,1:4)  (1:4,5:8)\n",
       " (5:8,1:4)  (5:8,5:8)"
      ]
     },
     "execution_count": 8,
     "metadata": {},
     "output_type": "execute_result"
    }
   ],
   "source": [
    "m.indexes"
   ]
  },
  {
   "cell_type": "code",
   "execution_count": 9,
   "metadata": {
    "collapsed": false
   },
   "outputs": [
    {
     "data": {
      "text/plain": [
       "2x2 Array{RemoteRef{RemoteStore},2}:\n",
       " RemoteRef{Channel{Any}}(2,1,26)  RemoteRef{Channel{Any}}(4,1,28)\n",
       " RemoteRef{Channel{Any}}(3,1,27)  RemoteRef{Channel{Any}}(5,1,29)"
      ]
     },
     "execution_count": 9,
     "metadata": {},
     "output_type": "execute_result"
    }
   ],
   "source": [
    "m.chunks"
   ]
  },
  {
   "cell_type": "code",
   "execution_count": 10,
   "metadata": {
    "collapsed": false
   },
   "outputs": [
    {
     "data": {
      "text/plain": [
       "4x4 Array{Int64,2}:\n",
       " 2  2  2  2\n",
       " 2  2  2  2\n",
       " 2  2  2  2\n",
       " 2  2  2  2"
      ]
     },
     "execution_count": 10,
     "metadata": {},
     "output_type": "execute_result"
    }
   ],
   "source": [
    "fetch(@spawnat 2 localpart(m))"
   ]
  },
  {
   "cell_type": "code",
   "execution_count": 11,
   "metadata": {
    "collapsed": false
   },
   "outputs": [
    {
     "data": {
      "text/plain": [
       "2x2 Array{Int64,2}:\n",
       " 2  4\n",
       " 3  5"
      ]
     },
     "execution_count": 11,
     "metadata": {},
     "output_type": "execute_result"
    }
   ],
   "source": [
    "procs(m)"
   ]
  },
  {
   "cell_type": "code",
   "execution_count": 14,
   "metadata": {
    "collapsed": false
   },
   "outputs": [
    {
     "data": {
      "text/plain": [
       "4-element Array{Any,1}:\n",
       " 32\n",
       " 48\n",
       " 64\n",
       " 80"
      ]
     },
     "execution_count": 14,
     "metadata": {},
     "output_type": "execute_result"
    }
   ],
   "source": [
    "map(fetch,[@spawnat p sum(localpart(m)) for p in procs(m)])"
   ]
  },
  {
   "cell_type": "code",
   "execution_count": 15,
   "metadata": {
    "collapsed": false
   },
   "outputs": [
    {
     "data": {
      "text/plain": [
       "224"
      ]
     },
     "execution_count": 15,
     "metadata": {},
     "output_type": "execute_result"
    }
   ],
   "source": [
    "reduce(+,map(fetch,[@spawnat p sum(localpart(m)) for p in procs(m)]))"
   ]
  },
  {
   "cell_type": "code",
   "execution_count": 10,
   "metadata": {
    "collapsed": false
   },
   "outputs": [],
   "source": [
    "# \"Map\" function.\n",
    "# Takes a string. Returns a HashTable with the number of times each word \n",
    "# appears in that string.\n",
    "@everywhere function wordcount(text)\n",
    "    words=split(text,r\"\\s+|'\\n'|'\\t'|:|;|,|!|\\\"|\\.|,\",false)\n",
    "    counts=Dict()\n",
    "    for w in words\n",
    "        counts[w]=get(counts,w,0)+1\n",
    "    end\n",
    "    return counts\n",
    "end"
   ]
  },
  {
   "cell_type": "code",
   "execution_count": 12,
   "metadata": {
    "collapsed": false
   },
   "outputs": [],
   "source": [
    "# \"Reduce\" function.\n",
    "# Takes a collection of HashTables in the format returned by wordcount()\n",
    "# Returns a HashTable in which words that appear in multiple inputs\n",
    "# have their totals added together.\n",
    "@everywhere function wcreduce(wcs)\n",
    "  counts=Dict()\n",
    "  for words_dict in wcs\n",
    "    for (k,v) in words_dict\n",
    "            counts[k] = get(counts,k,0)+v\n",
    "        end\n",
    "    end\n",
    "    return counts\n",
    "end\n"
   ]
  },
  {
   "cell_type": "code",
   "execution_count": null,
   "metadata": {
    "collapsed": false
   },
   "outputs": [],
   "source": [
    "## Splits input string into nprocs() equal-sized chunks (last one rounds up), \n",
    "## and @spawns wordcount() for each chunk to run in parallel. Then fetch()s\n",
    "## results and performs wcreduce().\n",
    "## Limitations: splitting the string and reduction step are single-threaded.\n",
    "#@everywhere function parallel_wordcount(text)\n",
    "#    lines=split(text,r\"'\\n'|-|/|@|<|>\",false)\n",
    "#    np=nprocs()\n",
    "#    unitsize=ceil(length(lines)/np)\n",
    "#    wcounts={}\n",
    "#    rrefs={}\n",
    "#    # spawn procs\n",
    "#    for i=1:np\n",
    "#        first=unitsize*(i-1)+1\n",
    "#        last=unitsize*i\n",
    "#        if last>length(lines)\n",
    "#            last=length(lines)\n",
    "#        end\n",
    "#        subtext=join(lines[int(first):int(last)],\"\\n\")\n",
    "#        push!(rrefs, @spawn wordcount( subtext ) )\n",
    "#    end\n",
    "#    # fetch results\n",
    "#    while length(rrefs)>0\n",
    "#        push!(wcounts,fetch(pop!(rrefs)))\n",
    "#    end\n",
    "#    # reduce\n",
    "#    count=wcreduce(wcounts)\n",
    "#    return count\n",
    "#end"
   ]
  },
  {
   "cell_type": "code",
   "execution_count": 13,
   "metadata": {
    "collapsed": false
   },
   "outputs": [],
   "source": [
    "# Splits input string into nprocs() equal-sized chunks (last one rounds up), \n",
    "# and @spawns wordcount() for each chunk to run in parallel. Then fetch()s\n",
    "# results and performs wcreduce().\n",
    "# Limitations: splitting the string and reduction step are single-threaded.\n",
    "@everywhere function parallel_wordcount(text)\n",
    "    lines=split(text,r\"'\\n'|-|/|@|<|>\",false)\n",
    "    np=nprocs()\n",
    "    unitsize=ceil(length(lines)/np)\n",
    "    wcounts={}\n",
    "    rrefs={}\n",
    "    # spawn procs\n",
    "    wcounts=@parallel (hcat) for i=1:np\n",
    "        first=unitsize*(i-1)+1\n",
    "        last=unitsize*i\n",
    "        if last>length(lines)\n",
    "            last=length(lines)\n",
    "        end\n",
    "        subtext=join(lines[int(first):int(last)],\"\\n\")\n",
    "        wordcount( subtext )\n",
    "    end\n",
    "    # reduce\n",
    "    count=wcreduce([wcounts])\n",
    "    return count\n",
    "end"
   ]
  },
  {
   "cell_type": "code",
   "execution_count": null,
   "metadata": {
    "collapsed": false
   },
   "outputs": [],
   "source": [
    "## Takes the name of a result file, and a list of input file names.\n",
    "## Combines the contents of all files, then performs a parallel_wordcount\n",
    "## on the resulting string. Writes the results to result_file.\n",
    "## Limitation: Performs all file IO single-threaded.\n",
    "#function wordcount_files(input_file_names)\n",
    "#    text=\"\"\n",
    "#    for f = input_file_names\n",
    "#        fh=open(f)\n",
    "#        text=join( {text,readall(fh)}, \"\\n\" )\n",
    "#        close(fh)\n",
    "#    end\n",
    "#    wc=parallel_wordcount(text)\n",
    "#    for (k,v) = wc\n",
    "#        println(k,\"=\",v)\n",
    "#    end\n",
    "#end"
   ]
  },
  {
   "cell_type": "code",
   "execution_count": 14,
   "metadata": {
    "collapsed": false
   },
   "outputs": [],
   "source": [
    "# Takes the name of a result file, and a list of input file names.\n",
    "# Combines the contents of all files, then performs a parallel_wordcount\n",
    "# on the resulting string. Writes the results to result_file.\n",
    "# Limitation: Performs all file IO single-threaded.\n",
    "@everywhere function wordcount_files(input_file_names)\n",
    "  alltext=@parallel (hcat) for f in input_file_names\n",
    "        fh=open(f)\n",
    "        text=readall(fh)\n",
    "        close(fh)\n",
    "        text\n",
    "    end\n",
    "    if length(input_file_names)>1 \n",
    "        alltext=join(alltext,\" \") #to string\n",
    "    end\n",
    "    wc=parallel_wordcount(alltext)\n",
    "    for (k,v) = wc\n",
    "        println(k,\"=\",v)\n",
    "    end\n",
    "end"
   ]
  },
  {
   "cell_type": "code",
   "execution_count": 15,
   "metadata": {
    "collapsed": false
   },
   "outputs": [
    {
     "name": "stdout",
     "output_type": "stream",
     "text": [
      "hello=9\n",
      "worlds=1\n",
      "world=8\n"
     ]
    }
   ],
   "source": [
    "args=[\"input1.txt\",\"input2.txt\",\"input2.txt\"]#\"input3.txt\"]\n",
    "wordcount_files(args)"
   ]
  },
  {
   "cell_type": "code",
   "execution_count": 16,
   "metadata": {
    "collapsed": false
   },
   "outputs": [
    {
     "data": {
      "text/plain": [
       "1000x1000 Array{Float64,2}:\n",
       " 0.342043   0.136707   0.790181    …  0.226505  0.737679   0.00803246\n",
       " 0.690561   0.945658   0.750886       0.742464  0.738643   0.941033  \n",
       " 0.737747   0.749402   0.112646       0.470658  0.609533   0.734104  \n",
       " 0.759085   0.973392   0.0503567      0.299679  0.0966368  0.0295505 \n",
       " 0.0555818  0.791415   0.0486997      0.787038  0.259832   0.360027  \n",
       " 0.56686    0.895342   0.946203    …  0.474043  0.305913   0.0804972 \n",
       " 0.907674   0.298624   0.420697       0.884067  0.18983    0.405377  \n",
       " 0.104182   0.476202   0.108984       0.290297  0.222477   0.0193876 \n",
       " 0.497331   0.0495303  0.205866       0.487488  0.0610598  0.110208  \n",
       " 0.391265   0.724377   0.297801       0.350274  0.220217   0.311541  \n",
       " 0.456254   0.990781   0.423237    …  0.826567  0.356826   0.477251  \n",
       " 0.257105   0.236355   0.264739       0.682232  0.826635   0.428883  \n",
       " 0.536725   0.76173    0.256634       0.199764  0.0374949  0.27582   \n",
       " ⋮                                 ⋱                                 \n",
       " 0.7694     0.325955   0.163838       0.226486  0.675268   0.721289  \n",
       " 0.219596   0.577914   0.418791       0.114129  0.554821   0.185258  \n",
       " 0.697376   0.991024   0.291389    …  0.293927  0.170462   0.0491536 \n",
       " 0.36696    0.161333   0.59703        0.856299  0.335427   0.519278  \n",
       " 0.0791517  0.0593726  0.77664        0.9482    0.230683   0.838828  \n",
       " 0.436369   0.222589   0.430418       0.340997  0.0296284  0.300951  \n",
       " 0.367645   0.397527   0.979076       0.515506  0.37158    0.254822  \n",
       " 0.274747   0.476274   0.126332    …  0.186737  0.706577   0.304921  \n",
       " 0.0245915  0.688134   0.743591       0.740977  0.486086   0.562473  \n",
       " 0.654321   0.147438   0.0707262      0.109119  0.438353   0.85282   \n",
       " 0.428547   0.388206   0.856087       0.283021  0.881522   0.249279  \n",
       " 0.936588   0.1595     0.00838035     0.331577  0.206641   0.00278212"
      ]
     },
     "execution_count": 16,
     "metadata": {},
     "output_type": "execute_result"
    }
   ],
   "source": [
    "a=rand(1000,1000)"
   ]
  },
  {
   "cell_type": "code",
   "execution_count": 17,
   "metadata": {
    "collapsed": false
   },
   "outputs": [
    {
     "data": {
      "text/plain": [
       "1000x1000 DistributedArrays.DArray{Float64,2,Array{Float64,2}}:\n",
       " 0.342043   0.136707   0.790181    …  0.226505  0.737679   0.00803246\n",
       " 0.690561   0.945658   0.750886       0.742464  0.738643   0.941033  \n",
       " 0.737747   0.749402   0.112646       0.470658  0.609533   0.734104  \n",
       " 0.759085   0.973392   0.0503567      0.299679  0.0966368  0.0295505 \n",
       " 0.0555818  0.791415   0.0486997      0.787038  0.259832   0.360027  \n",
       " 0.56686    0.895342   0.946203    …  0.474043  0.305913   0.0804972 \n",
       " 0.907674   0.298624   0.420697       0.884067  0.18983    0.405377  \n",
       " 0.104182   0.476202   0.108984       0.290297  0.222477   0.0193876 \n",
       " 0.497331   0.0495303  0.205866       0.487488  0.0610598  0.110208  \n",
       " 0.391265   0.724377   0.297801       0.350274  0.220217   0.311541  \n",
       " 0.456254   0.990781   0.423237    …  0.826567  0.356826   0.477251  \n",
       " 0.257105   0.236355   0.264739       0.682232  0.826635   0.428883  \n",
       " 0.536725   0.76173    0.256634       0.199764  0.0374949  0.27582   \n",
       " ⋮                                 ⋱                                 \n",
       " 0.7694     0.325955   0.163838       0.226486  0.675268   0.721289  \n",
       " 0.219596   0.577914   0.418791       0.114129  0.554821   0.185258  \n",
       " 0.697376   0.991024   0.291389    …  0.293927  0.170462   0.0491536 \n",
       " 0.36696    0.161333   0.59703        0.856299  0.335427   0.519278  \n",
       " 0.0791517  0.0593726  0.77664        0.9482    0.230683   0.838828  \n",
       " 0.436369   0.222589   0.430418       0.340997  0.0296284  0.300951  \n",
       " 0.367645   0.397527   0.979076       0.515506  0.37158    0.254822  \n",
       " 0.274747   0.476274   0.126332    …  0.186737  0.706577   0.304921  \n",
       " 0.0245915  0.688134   0.743591       0.740977  0.486086   0.562473  \n",
       " 0.654321   0.147438   0.0707262      0.109119  0.438353   0.85282   \n",
       " 0.428547   0.388206   0.856087       0.283021  0.881522   0.249279  \n",
       " 0.936588   0.1595     0.00838035     0.331577  0.206641   0.00278212"
      ]
     },
     "execution_count": 17,
     "metadata": {},
     "output_type": "execute_result"
    }
   ],
   "source": [
    "d=distribute(a)"
   ]
  },
  {
   "cell_type": "code",
   "execution_count": 20,
   "metadata": {
    "collapsed": false
   },
   "outputs": [
    {
     "name": "stdout",
     "output_type": "stream",
     "text": [
      "  "
     ]
    },
    {
     "data": {
      "text/plain": [
       "500072.1977973655"
      ]
     },
     "execution_count": 20,
     "metadata": {},
     "output_type": "execute_result"
    },
    {
     "name": "stdout",
     "output_type": "stream",
     "text": [
      "0.007764 seconds (4.43 k allocations: 342.813 KB)\n"
     ]
    }
   ],
   "source": [
    "@time reduce(+,map(fetch,[@spawnat p sum(localpart(d)) for p in procs(d)]))"
   ]
  },
  {
   "cell_type": "code",
   "execution_count": 19,
   "metadata": {
    "collapsed": false
   },
   "outputs": [
    {
     "name": "stdout",
     "output_type": "stream",
     "text": [
      "  "
     ]
    },
    {
     "data": {
      "text/plain": [
       "500072.1977973655"
      ]
     },
     "execution_count": 19,
     "metadata": {},
     "output_type": "execute_result"
    },
    {
     "name": "stdout",
     "output_type": "stream",
     "text": [
      "0.095651 seconds (22.72 k allocations: 1.229 MB)\n"
     ]
    }
   ],
   "source": [
    "@time reduce(+,d)"
   ]
  },
  {
   "cell_type": "code",
   "execution_count": null,
   "metadata": {
    "collapsed": true
   },
   "outputs": [],
   "source": []
  }
 ],
 "metadata": {
  "kernelspec": {
   "display_name": "Julia 0.4.0",
   "language": "julia",
   "name": "julia-0.4"
  },
  "language_info": {
   "file_extension": ".jl",
   "mimetype": "application/julia",
   "name": "julia",
   "version": "0.4.0"
  }
 },
 "nbformat": 4,
 "nbformat_minor": 0
}
