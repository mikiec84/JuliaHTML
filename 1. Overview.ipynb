{
 "cells": [
  {
   "cell_type": "markdown",
   "metadata": {},
   "source": [
    "# Overview of the Julia Language"
   ]
  },
  {
   "cell_type": "markdown",
   "metadata": {},
   "source": [
    "## References:"
   ]
  },
  {
   "cell_type": "markdown",
   "metadata": {},
   "source": [
    "- http://learnxinyminutes.com/docs/julia/\n",
    "- http://dmbates.blogspot.com/2012/04/r-programmer-looks-at-julia.html\n",
    "- http://www.r-bloggers.com/a-beginners-look-at-julia/\n",
    "- https://github.com/JuliaLang/julia\n",
    "- http://nbviewer.ipython.org/urls/raw.github.com/johnmyleswhite/DCStats.jl/master/Setup.ipynb\n",
    "- http://julialang.org/blog/2012/03/shelling-out-sucks/\n",
    "- http://docs.julialang.org/en/latest/manual/running-external-programs/\n",
    "- http://julialang.org/blog/2013/04/put-this-in-your-pipe/\n",
    "- http://julialang.org/blog/2013/09/fast-numeric/\n",
    "- http://www.admin-magazine.com/HPC/Articles/Parallel-Julia-Jumping-Right-In\n",
    "- http://web.mit.edu/julia_v1.24.13/www/index.html\n",
    "- http://nbviewer.ipython.org/url/jdj.mit.edu/~stevenj/IJulia%2520Preview.ipynb\n",
    "- http://strata.oreilly.com/2012/10/matlab-r-julia-languages-for-data-analysis.html\n",
    "- http://asbidyarthy.blogspot.com/2012/06/julia-programming-language-downloads.html\n",
    "- http://jurjenbokma.com/ApprenticesNotes/getting_statlinked_binaries_on_debian.html"
   ]
  },
  {
   "cell_type": "markdown",
   "metadata": {},
   "source": [
    "## Preliminaries"
   ]
  },
  {
   "cell_type": "markdown",
   "metadata": {},
   "source": [
    "- Quitting Julia: [ctrl]-D or quit()\n",
    "- Abort or clear current command: [ctrl]-C\n",
    "- Parentheses ( ) are used for functions and multiple outputs\n",
    "- Brackets [ ] are used for indexing\n",
    "- Braces { } are used for arrays\n",
    "- Running a file: include(\"file.jl\") or require(\"file.jl\")\n",
    "- Printing values: print() or println()\n",
    "- Deployment: main.jl \n",
    "      #!/fullpath/julia\n",
    "      \n",
    "      arg=ARGS[1];\n",
    "      println(\"Hello $arg\");\n",
    "      \n",
    "  in shell: ./main.jl World => Hello World"
   ]
  },
  {
   "cell_type": "markdown",
   "metadata": {},
   "source": [
    "#### External Shell Calls: "
   ]
  },
  {
   "cell_type": "code",
   "execution_count": 1,
   "metadata": {
    "collapsed": false
   },
   "outputs": [
    {
     "name": "stdout",
     "output_type": "stream",
     "text": [
      "   November 2015\n",
      "Su Mo Tu We Th Fr Sa\n",
      " 1  2  3  4  5  6  7\n",
      " 8  9 10 11 12 13 14\n",
      "15 16 17 18 19 20 21\n",
      "22 23 24 25 26 27 28\n",
      "29 30\n",
      "\n"
     ]
    }
   ],
   "source": [
    "run(`cal`)"
   ]
  },
  {
   "cell_type": "markdown",
   "metadata": {},
   "source": [
    "#### C-Function Call:"
   ]
  },
  {
   "cell_type": "code",
   "execution_count": 2,
   "metadata": {
    "collapsed": false
   },
   "outputs": [
    {
     "data": {
      "text/plain": [
       "5657538"
      ]
     },
     "execution_count": 2,
     "metadata": {},
     "output_type": "execute_result"
    }
   ],
   "source": [
    "ccall(:clock,Int32,())"
   ]
  },
  {
   "cell_type": "code",
   "execution_count": 3,
   "metadata": {
    "collapsed": false
   },
   "outputs": [
    {
     "name": "stderr",
     "output_type": "stream",
     "text": [
      "WARNING: Base.Uint8 is deprecated, use UInt8 instead.\n",
      "  likely near In[3]:1\n"
     ]
    },
    {
     "data": {
      "text/plain": [
       "\"Sun Nov 20 19:46:08 2383\\n\""
      ]
     },
     "execution_count": 3,
     "metadata": {},
     "output_type": "execute_result"
    }
   ],
   "source": [
    "bytestring(ccall(:ctime, Ptr{Uint8}, ()))"
   ]
  },
  {
   "cell_type": "markdown",
   "metadata": {},
   "source": [
    "#### Adding Package:"
   ]
  },
  {
   "cell_type": "code",
   "execution_count": 5,
   "metadata": {
    "collapsed": false
   },
   "outputs": [],
   "source": [
    "using Calendar"
   ]
  },
  {
   "cell_type": "code",
   "execution_count": 8,
   "metadata": {
    "collapsed": false
   },
   "outputs": [
    {
     "data": {
      "text/plain": [
       "3"
      ]
     },
     "execution_count": 8,
     "metadata": {},
     "output_type": "execute_result"
    }
   ],
   "source": [
    "Calendar.hour(Calendar.now())"
   ]
  },
  {
   "cell_type": "code",
   "execution_count": 9,
   "metadata": {
    "collapsed": false
   },
   "outputs": [
    {
     "data": {
      "text/plain": [
       "318"
      ]
     },
     "execution_count": 9,
     "metadata": {},
     "output_type": "execute_result"
    }
   ],
   "source": [
    "Calendar.dayofyear(Calendar.now())"
   ]
  },
  {
   "cell_type": "markdown",
   "metadata": {
    "slideshow": {
     "slide_type": "-"
    }
   },
   "source": [
    "## Variables, Vectors, and Matrices"
   ]
  },
  {
   "cell_type": "code",
   "execution_count": 9,
   "metadata": {
    "collapsed": false
   },
   "outputs": [
    {
     "data": {
      "text/plain": [
       "3"
      ]
     },
     "execution_count": 9,
     "metadata": {},
     "output_type": "execute_result"
    }
   ],
   "source": [
    "x=3"
   ]
  },
  {
   "cell_type": "code",
   "execution_count": 10,
   "metadata": {
    "collapsed": true
   },
   "outputs": [
    {
     "data": {
      "text/plain": [
       "3-element Array{Int64,1}:\n",
       " 1\n",
       " 2\n",
       " 3"
      ]
     },
     "execution_count": 10,
     "metadata": {},
     "output_type": "execute_result"
    }
   ],
   "source": [
    "x=[1,2,3] # column vector"
   ]
  },
  {
   "cell_type": "code",
   "execution_count": 11,
   "metadata": {
    "collapsed": false
   },
   "outputs": [
    {
     "data": {
      "text/plain": [
       "2"
      ]
     },
     "execution_count": 11,
     "metadata": {},
     "output_type": "execute_result"
    }
   ],
   "source": [
    "x[2]"
   ]
  },
  {
   "cell_type": "code",
   "execution_count": 12,
   "metadata": {
    "collapsed": false
   },
   "outputs": [
    {
     "data": {
      "text/plain": [
       "1x4 Array{Int64,2}:\n",
       " 1  2  3  4"
      ]
     },
     "execution_count": 12,
     "metadata": {},
     "output_type": "execute_result"
    }
   ],
   "source": [
    "x=[1 2 3 4] # row vector"
   ]
  },
  {
   "cell_type": "code",
   "execution_count": 13,
   "metadata": {
    "collapsed": false
   },
   "outputs": [
    {
     "data": {
      "text/plain": [
       "(1,2,3,4)"
      ]
     },
     "execution_count": 13,
     "metadata": {},
     "output_type": "execute_result"
    }
   ],
   "source": [
    "x=(1,2,3,4)"
   ]
  },
  {
   "cell_type": "code",
   "execution_count": 14,
   "metadata": {
    "collapsed": false
   },
   "outputs": [
    {
     "name": "stdout",
     "output_type": "stream",
     "text": [
      "1,2\n"
     ]
    }
   ],
   "source": [
    "x1,x2=1,2\n",
    "println(x1,\",\",x2)"
   ]
  },
  {
   "cell_type": "code",
   "execution_count": 15,
   "metadata": {
    "collapsed": false
   },
   "outputs": [
    {
     "data": {
      "text/plain": [
       "(2,1)"
      ]
     },
     "execution_count": 15,
     "metadata": {},
     "output_type": "execute_result"
    }
   ],
   "source": [
    "x1,x2=x2,x1 #swap x1,x2 values"
   ]
  },
  {
   "cell_type": "code",
   "execution_count": 16,
   "metadata": {
    "collapsed": false
   },
   "outputs": [
    {
     "data": {
      "text/plain": [
       "2"
      ]
     },
     "execution_count": 16,
     "metadata": {},
     "output_type": "execute_result"
    }
   ],
   "source": [
    "x1"
   ]
  },
  {
   "cell_type": "code",
   "execution_count": 17,
   "metadata": {
    "collapsed": false
   },
   "outputs": [
    {
     "data": {
      "text/plain": [
       "4x3 Array{Int64,2}:\n",
       "  1   2   3\n",
       "  4   5   6\n",
       "  7   8   9\n",
       " 10  11  12"
      ]
     },
     "execution_count": 17,
     "metadata": {},
     "output_type": "execute_result"
    }
   ],
   "source": [
    "M=[1 2 3;4 5 6;7 8 9;10 11 12]  # matrix"
   ]
  },
  {
   "cell_type": "code",
   "execution_count": 18,
   "metadata": {
    "collapsed": false
   },
   "outputs": [
    {
     "data": {
      "text/plain": [
       "3x4 Array{Int64,2}:\n",
       " 1  10   8   6\n",
       " 4   2  11   9\n",
       " 7   5   3  12"
      ]
     },
     "execution_count": 18,
     "metadata": {},
     "output_type": "execute_result"
    }
   ],
   "source": [
    "M=reshape(M,3,4)"
   ]
  },
  {
   "cell_type": "code",
   "execution_count": 19,
   "metadata": {
    "collapsed": false
   },
   "outputs": [
    {
     "data": {
      "text/plain": [
       "1x4 Array{Int64,2}:\n",
       " 1  10  8  6"
      ]
     },
     "execution_count": 19,
     "metadata": {},
     "output_type": "execute_result"
    }
   ],
   "source": [
    "M[1,:] # first row"
   ]
  },
  {
   "cell_type": "code",
   "execution_count": 20,
   "metadata": {
    "collapsed": false
   },
   "outputs": [
    {
     "data": {
      "text/plain": [
       "3-element Array{Int64,1}:\n",
       " 1\n",
       " 4\n",
       " 7"
      ]
     },
     "execution_count": 20,
     "metadata": {},
     "output_type": "execute_result"
    }
   ],
   "source": [
    "M[:,1] # first column"
   ]
  },
  {
   "cell_type": "code",
   "execution_count": 21,
   "metadata": {
    "collapsed": false
   },
   "outputs": [
    {
     "data": {
      "text/plain": [
       "1x3 Array{Int64,2}:\n",
       " 7  5  3"
      ]
     },
     "execution_count": 21,
     "metadata": {},
     "output_type": "execute_result"
    }
   ],
   "source": [
    "M[3,1:3] # 3rd row, first to third column"
   ]
  },
  {
   "cell_type": "code",
   "execution_count": 22,
   "metadata": {
    "collapsed": false
   },
   "outputs": [
    {
     "data": {
      "text/plain": [
       "5-element Array{Float64,1}:\n",
       " 0.672032 \n",
       " 0.0454474\n",
       " 0.521723 \n",
       " 0.432878 \n",
       " 0.518976 "
      ]
     },
     "execution_count": 22,
     "metadata": {},
     "output_type": "execute_result"
    }
   ],
   "source": [
    "rand(5) # column vector of random numbers"
   ]
  },
  {
   "cell_type": "code",
   "execution_count": 1,
   "metadata": {
    "collapsed": false
   },
   "outputs": [
    {
     "ename": "LoadError",
     "evalue": "LoadError: TypeError: typeassert: expected Array{Float64,1}, got Array{Float64,2}\nwhile loading In[1], in expression starting on line 1",
     "output_type": "error",
     "traceback": [
      "LoadError: TypeError: typeassert: expected Array{Float64,1}, got Array{Float64,2}\nwhile loading In[1], in expression starting on line 1",
      ""
     ]
    }
   ],
   "source": [
    "rand(5,5)::Array{Float64,1} # matrix of random numbers"
   ]
  },
  {
   "cell_type": "code",
   "execution_count": 24,
   "metadata": {
    "collapsed": false
   },
   "outputs": [
    {
     "data": {
      "text/plain": [
       "5x5 Array{Float64,2}:\n",
       " 1.0  0.0  0.0  0.0  0.0\n",
       " 0.0  1.0  0.0  0.0  0.0\n",
       " 0.0  0.0  1.0  0.0  0.0\n",
       " 0.0  0.0  0.0  1.0  0.0\n",
       " 0.0  0.0  0.0  0.0  1.0"
      ]
     },
     "execution_count": 24,
     "metadata": {},
     "output_type": "execute_result"
    }
   ],
   "source": [
    "eye(5)  # identity matrix"
   ]
  },
  {
   "cell_type": "code",
   "execution_count": 25,
   "metadata": {
    "collapsed": false
   },
   "outputs": [
    {
     "data": {
      "text/plain": [
       "5x5 Array{Float64,2}:\n",
       " 0.0  0.0  0.0  0.0  0.0\n",
       " 0.0  0.0  0.0  0.0  0.0\n",
       " 0.0  0.0  0.0  0.0  0.0\n",
       " 0.0  0.0  0.0  0.0  0.0\n",
       " 0.0  0.0  0.0  0.0  0.0"
      ]
     },
     "execution_count": 25,
     "metadata": {},
     "output_type": "execute_result"
    }
   ],
   "source": [
    "a=zeros(5,5)"
   ]
  },
  {
   "cell_type": "code",
   "execution_count": null,
   "metadata": {
    "collapsed": true
   },
   "outputs": [],
   "source": []
  },
  {
   "cell_type": "code",
   "execution_count": 26,
   "metadata": {
    "collapsed": false
   },
   "outputs": [
    {
     "data": {
      "text/plain": [
       "5x5 Array{Float64,2}:\n",
       " 1.0  1.0  1.0  1.0  1.0\n",
       " 1.0  1.0  1.0  1.0  1.0\n",
       " 1.0  1.0  1.0  1.0  1.0\n",
       " 1.0  1.0  1.0  1.0  1.0\n",
       " 1.0  1.0  1.0  1.0  1.0"
      ]
     },
     "execution_count": 26,
     "metadata": {},
     "output_type": "execute_result"
    }
   ],
   "source": [
    "b=ones(5,5)"
   ]
  },
  {
   "cell_type": "code",
   "execution_count": 27,
   "metadata": {
    "collapsed": false
   },
   "outputs": [
    {
     "data": {
      "text/plain": [
       "10-element Array{Float64,1}:\n",
       " 1.0    \n",
       " 1.11111\n",
       " 1.22222\n",
       " 1.33333\n",
       " 1.44444\n",
       " 1.55556\n",
       " 1.66667\n",
       " 1.77778\n",
       " 1.88889\n",
       " 2.0    "
      ]
     },
     "execution_count": 27,
     "metadata": {},
     "output_type": "execute_result"
    }
   ],
   "source": [
    "linspace(1,2,10) "
   ]
  },
  {
   "cell_type": "code",
   "execution_count": 28,
   "metadata": {
    "collapsed": false
   },
   "outputs": [
    {
     "data": {
      "text/plain": [
       "5x5 Array{Float64,2}:\n",
       " 1.0  0.0  0.0  0.0  0.0\n",
       " 0.0  1.0  0.0  0.0  0.0\n",
       " 0.0  0.0  1.0  0.0  0.0\n",
       " 0.0  0.0  0.0  1.0  0.0\n",
       " 0.0  0.0  0.0  0.0  1.0"
      ]
     },
     "execution_count": 28,
     "metadata": {},
     "output_type": "execute_result"
    }
   ],
   "source": [
    "A=diagm(ones(5))"
   ]
  },
  {
   "cell_type": "code",
   "execution_count": 29,
   "metadata": {
    "collapsed": false
   },
   "outputs": [
    {
     "data": {
      "text/plain": [
       "5-element Array{Float64,1}:\n",
       " 1.0\n",
       " 1.0\n",
       " 1.0\n",
       " 1.0\n",
       " 1.0"
      ]
     },
     "execution_count": 29,
     "metadata": {},
     "output_type": "execute_result"
    }
   ],
   "source": [
    "diag(A)"
   ]
  },
  {
   "cell_type": "code",
   "execution_count": 30,
   "metadata": {
    "collapsed": false
   },
   "outputs": [
    {
     "data": {
      "text/plain": [
       "5-element Array{Float64,1}:\n",
       "  0.841471\n",
       "  0.909297\n",
       "  0.14112 \n",
       " -0.756802\n",
       " -0.958924"
      ]
     },
     "execution_count": 30,
     "metadata": {},
     "output_type": "execute_result"
    }
   ],
   "source": [
    "[sin(i) for i in 1:5] #comprehension"
   ]
  },
  {
   "cell_type": "code",
   "execution_count": 31,
   "metadata": {
    "collapsed": false
   },
   "outputs": [
    {
     "data": {
      "text/plain": [
       "5-element Array{Float64,1}:\n",
       "  0.841471\n",
       "  0.909297\n",
       "  0.14112 \n",
       " -0.756802\n",
       " -0.958924"
      ]
     },
     "execution_count": 31,
     "metadata": {},
     "output_type": "execute_result"
    }
   ],
   "source": [
    "map(sin,1:5)"
   ]
  },
  {
   "cell_type": "code",
   "execution_count": 32,
   "metadata": {
    "collapsed": false
   },
   "outputs": [
    {
     "data": {
      "text/plain": [
       "3x7 Array{(Int64,Int64),2}:\n",
       " (1,4)  (1,5)  (1,6)  (1,7)  (1,8)  (1,9)  (1,10)\n",
       " (2,4)  (2,5)  (2,6)  (2,7)  (2,8)  (2,9)  (2,10)\n",
       " (3,4)  (3,5)  (3,6)  (3,7)  (3,8)  (3,9)  (3,10)"
      ]
     },
     "execution_count": 32,
     "metadata": {},
     "output_type": "execute_result"
    }
   ],
   "source": [
    "V=[(i,j) for i=1:3, j=4:10] "
   ]
  },
  {
   "cell_type": "code",
   "execution_count": 16,
   "metadata": {
    "collapsed": false
   },
   "outputs": [
    {
     "name": "stdout",
     "output_type": "stream",
     "text": [
      "elapsed time: 0.261267245 seconds (80000048 bytes allocated)\n"
     ]
    }
   ],
   "source": [
    "@time M=[sin(i+j) for i=1:100000,j=1:100];"
   ]
  },
  {
   "cell_type": "code",
   "execution_count": 18,
   "metadata": {
    "collapsed": false
   },
   "outputs": [
    {
     "name": "stdout",
     "output_type": "stream",
     "text": [
      "elapsed time: 0.088676304 seconds (246596 bytes allocated)\n"
     ]
    }
   ],
   "source": [
    "@time M = @parallel [sin(i+j) for i=1:1:100000,j=1:100];"
   ]
  },
  {
   "cell_type": "code",
   "execution_count": 3,
   "metadata": {
    "collapsed": false
   },
   "outputs": [
    {
     "data": {
      "text/plain": [
       "7-element Array{Any,1}:\n",
       " 2\n",
       " 3\n",
       " 4\n",
       " 5\n",
       " 6\n",
       " 7\n",
       " 8"
      ]
     },
     "execution_count": 3,
     "metadata": {},
     "output_type": "execute_result"
    }
   ],
   "source": [
    "addprocs(7)"
   ]
  },
  {
   "cell_type": "markdown",
   "metadata": {},
   "source": [
    "## Function and Operations"
   ]
  },
  {
   "cell_type": "code",
   "execution_count": 19,
   "metadata": {
    "collapsed": false
   },
   "outputs": [
    {
     "name": "stdout",
     "output_type": "stream",
     "text": [
      "24,2.0,1//2,256\n"
     ]
    }
   ],
   "source": [
    "a=3*8;\n",
    "b=8/4;\n",
    "c=4//8;\n",
    "d=2^8;\n",
    "println(\"$a,$b,$c,$d\")"
   ]
  },
  {
   "cell_type": "code",
   "execution_count": 32,
   "metadata": {
    "collapsed": false
   },
   "outputs": [
    {
     "data": {
      "text/plain": [
       "-1.947977671863125 + 3.493620327099486im"
      ]
     },
     "execution_count": 32,
     "metadata": {},
     "output_type": "execute_result"
    }
   ],
   "source": [
    "2^(2+3im)"
   ]
  },
  {
   "cell_type": "code",
   "execution_count": 33,
   "metadata": {
    "collapsed": false
   },
   "outputs": [
    {
     "data": {
      "text/plain": [
       "0.8660254037844386"
      ]
     },
     "execution_count": 33,
     "metadata": {},
     "output_type": "execute_result"
    }
   ],
   "source": [
    "sin(pi/3)"
   ]
  },
  {
   "cell_type": "code",
   "execution_count": 34,
   "metadata": {
    "collapsed": false
   },
   "outputs": [
    {
     "data": {
      "text/plain": [
       "0.0465651162777522"
      ]
     },
     "execution_count": 34,
     "metadata": {},
     "output_type": "execute_result"
    }
   ],
   "source": [
    "besselj(2,5)"
   ]
  },
  {
   "cell_type": "code",
   "execution_count": 35,
   "metadata": {
    "collapsed": false
   },
   "outputs": [
    {
     "data": {
      "text/plain": [
       "f (generic function with 1 method)"
      ]
     },
     "execution_count": 35,
     "metadata": {},
     "output_type": "execute_result"
    }
   ],
   "source": [
    "f(x)=x*x"
   ]
  },
  {
   "cell_type": "code",
   "execution_count": 36,
   "metadata": {
    "collapsed": false
   },
   "outputs": [
    {
     "data": {
      "text/plain": [
       "f (generic function with 1 method)"
      ]
     },
     "execution_count": 36,
     "metadata": {},
     "output_type": "execute_result"
    }
   ],
   "source": [
    "function f(x)\n",
    "    x*x\n",
    "end"
   ]
  },
  {
   "cell_type": "code",
   "execution_count": 37,
   "metadata": {
    "collapsed": false
   },
   "outputs": [
    {
     "data": {
      "text/plain": [
       "9"
      ]
     },
     "execution_count": 37,
     "metadata": {},
     "output_type": "execute_result"
    }
   ],
   "source": [
    "f(3)"
   ]
  },
  {
   "cell_type": "code",
   "execution_count": 38,
   "metadata": {
    "collapsed": false
   },
   "outputs": [
    {
     "data": {
      "text/plain": [
       "(anonymous function)"
      ]
     },
     "execution_count": 38,
     "metadata": {},
     "output_type": "execute_result"
    }
   ],
   "source": [
    "ff=function(x)\n",
    "  x*x\n",
    "end"
   ]
  },
  {
   "cell_type": "code",
   "execution_count": 40,
   "metadata": {
    "collapsed": false
   },
   "outputs": [
    {
     "name": "stdout",
     "output_type": "stream",
     "text": [
      "-0.5440211108893698\n"
     ]
    }
   ],
   "source": [
    "p(sin(10))"
   ]
  },
  {
   "cell_type": "code",
   "execution_count": null,
   "metadata": {
    "collapsed": false
   },
   "outputs": [],
   "source": [
    "p=println\n",
    "p(34)"
   ]
  },
  {
   "cell_type": "code",
   "execution_count": null,
   "metadata": {
    "collapsed": false
   },
   "outputs": [],
   "source": [
    "p=ff\n",
    "p(4)"
   ]
  },
  {
   "cell_type": "code",
   "execution_count": 41,
   "metadata": {
    "collapsed": false
   },
   "outputs": [
    {
     "data": {
      "text/plain": [
       "fff (generic function with 1 method)"
      ]
     },
     "execution_count": 41,
     "metadata": {},
     "output_type": "execute_result"
    }
   ],
   "source": [
    "fff(x,y,z)=x*y*z"
   ]
  },
  {
   "cell_type": "code",
   "execution_count": 42,
   "metadata": {
    "collapsed": false
   },
   "outputs": [
    {
     "data": {
      "text/plain": [
       "60"
      ]
     },
     "execution_count": 42,
     "metadata": {},
     "output_type": "execute_result"
    }
   ],
   "source": [
    "fff(3,4,5)"
   ]
  },
  {
   "cell_type": "code",
   "execution_count": 46,
   "metadata": {
    "collapsed": false
   },
   "outputs": [
    {
     "data": {
      "text/plain": [
       "3-element Array{Int64,1}:\n",
       "  1\n",
       " 16\n",
       "  4"
      ]
     },
     "execution_count": 46,
     "metadata": {},
     "output_type": "execute_result"
    }
   ],
   "source": [
    "map(x->x*x,[1,4,2])"
   ]
  },
  {
   "cell_type": "code",
   "execution_count": 47,
   "metadata": {
    "collapsed": false
   },
   "outputs": [
    {
     "data": {
      "text/plain": [
       "10-element Array{Int64,1}:\n",
       "   1\n",
       "   4\n",
       "   9\n",
       "  16\n",
       "  25\n",
       "  36\n",
       "  49\n",
       "  64\n",
       "  81\n",
       " 100"
      ]
     },
     "execution_count": 47,
     "metadata": {},
     "output_type": "execute_result"
    }
   ],
   "source": [
    "map(f,1:10)"
   ]
  },
  {
   "cell_type": "code",
   "execution_count": null,
   "metadata": {
    "collapsed": false
   },
   "outputs": [],
   "source": [
    "map(x->x*x,1:10)"
   ]
  },
  {
   "cell_type": "code",
   "execution_count": 48,
   "metadata": {
    "collapsed": false
   },
   "outputs": [
    {
     "data": {
      "text/plain": [
       "10-element Array{Int64,1}:\n",
       "   1\n",
       "   4\n",
       "   9\n",
       "  16\n",
       "  25\n",
       "  36\n",
       "  49\n",
       "  64\n",
       "  81\n",
       " 100"
      ]
     },
     "execution_count": 48,
     "metadata": {},
     "output_type": "execute_result"
    }
   ],
   "source": [
    "map(1:10) do x\n",
    "y=x*x\n",
    "end"
   ]
  },
  {
   "cell_type": "code",
   "execution_count": 50,
   "metadata": {
    "collapsed": false
   },
   "outputs": [
    {
     "data": {
      "text/plain": [
       "3-element Array{Int64,1}:\n",
       " 1\n",
       " 2\n",
       " 3"
      ]
     },
     "execution_count": 50,
     "metadata": {},
     "output_type": "execute_result"
    }
   ],
   "source": [
    "x=[1,2,3]"
   ]
  },
  {
   "cell_type": "code",
   "execution_count": 51,
   "metadata": {
    "collapsed": false
   },
   "outputs": [
    {
     "data": {
      "text/plain": [
       "3-element Array{Int64,1}:\n",
       " 3\n",
       " 6\n",
       " 9"
      ]
     },
     "execution_count": 51,
     "metadata": {},
     "output_type": "execute_result"
    }
   ],
   "source": [
    "3x"
   ]
  },
  {
   "cell_type": "code",
   "execution_count": 52,
   "metadata": {
    "collapsed": false
   },
   "outputs": [
    {
     "data": {
      "text/plain": [
       "3-element Array{Int64,1}:\n",
       " 4\n",
       " 5\n",
       " 6"
      ]
     },
     "execution_count": 52,
     "metadata": {},
     "output_type": "execute_result"
    }
   ],
   "source": [
    "x+3"
   ]
  },
  {
   "cell_type": "code",
   "execution_count": 53,
   "metadata": {
    "collapsed": false
   },
   "outputs": [
    {
     "data": {
      "text/plain": [
       "3-element Array{Int64,1}:\n",
       " 2\n",
       " 4\n",
       " 6"
      ]
     },
     "execution_count": 53,
     "metadata": {},
     "output_type": "execute_result"
    }
   ],
   "source": [
    "y=[2,4,6]"
   ]
  },
  {
   "cell_type": "code",
   "execution_count": 54,
   "metadata": {
    "collapsed": false
   },
   "outputs": [
    {
     "data": {
      "text/plain": [
       "1-element Array{Int64,1}:\n",
       " 28"
      ]
     },
     "execution_count": 54,
     "metadata": {},
     "output_type": "execute_result"
    }
   ],
   "source": [
    "x' * y   # dot product"
   ]
  },
  {
   "cell_type": "code",
   "execution_count": 55,
   "metadata": {
    "collapsed": false
   },
   "outputs": [
    {
     "data": {
      "text/plain": [
       "28"
      ]
     },
     "execution_count": 55,
     "metadata": {},
     "output_type": "execute_result"
    }
   ],
   "source": [
    "dot(x,y) # dot product"
   ]
  },
  {
   "cell_type": "code",
   "execution_count": 56,
   "metadata": {
    "collapsed": false
   },
   "outputs": [
    {
     "data": {
      "text/plain": [
       "28"
      ]
     },
     "execution_count": 56,
     "metadata": {},
     "output_type": "execute_result"
    }
   ],
   "source": [
    "sum(conj(x).* y)  # dot product"
   ]
  },
  {
   "cell_type": "code",
   "execution_count": 57,
   "metadata": {
    "collapsed": false
   },
   "outputs": [
    {
     "data": {
      "text/plain": [
       "3-element Array{Int64,1}:\n",
       "  2\n",
       "  8\n",
       " 18"
      ]
     },
     "execution_count": 57,
     "metadata": {},
     "output_type": "execute_result"
    }
   ],
   "source": [
    "x .* y  # elementwise multiplication"
   ]
  },
  {
   "cell_type": "code",
   "execution_count": null,
   "metadata": {
    "collapsed": false
   },
   "outputs": [],
   "source": [
    "cos(x) "
   ]
  },
  {
   "cell_type": "code",
   "execution_count": 58,
   "metadata": {
    "collapsed": false
   },
   "outputs": [
    {
     "data": {
      "text/plain": [
       "5x5 Array{Float64,2}:\n",
       " 0.927993  0.374016  0.509559  0.833871  0.412078\n",
       " 0.461696  0.702475  0.929109  0.950646  0.158752\n",
       " 0.762993  0.434505  0.864311  0.166177  0.658699\n",
       " 0.514608  0.168586  0.924724  0.183062  0.358211\n",
       " 0.661424  0.865718  0.139276  0.971936  0.445655"
      ]
     },
     "execution_count": 58,
     "metadata": {},
     "output_type": "execute_result"
    }
   ],
   "source": [
    "A=rand(5,5)"
   ]
  },
  {
   "cell_type": "code",
   "execution_count": 59,
   "metadata": {
    "collapsed": false
   },
   "outputs": [
    {
     "data": {
      "text/plain": [
       "5-element Array{Float64,1}:\n",
       " 0.367602 \n",
       " 0.35236  \n",
       " 0.0460402\n",
       " 0.336241 \n",
       " 0.419711 "
      ]
     },
     "execution_count": 59,
     "metadata": {},
     "output_type": "execute_result"
    }
   ],
   "source": [
    "b=rand(5)"
   ]
  },
  {
   "cell_type": "code",
   "execution_count": 61,
   "metadata": {
    "collapsed": false
   },
   "outputs": [
    {
     "data": {
      "text/plain": [
       "5-element Array{Float64,1}:\n",
       " -4.48121 \n",
       " -3.50258 \n",
       "  0.383313\n",
       "  3.73774 \n",
       "  6.12515 "
      ]
     },
     "execution_count": 61,
     "metadata": {},
     "output_type": "execute_result"
    }
   ],
   "source": [
    "x=A\\b # solving for unknown x such that Ax=b"
   ]
  },
  {
   "cell_type": "code",
   "execution_count": null,
   "metadata": {
    "collapsed": false
   },
   "outputs": [],
   "source": [
    "x=pinv(A)*b # solving for unknown x such that Ax=b"
   ]
  },
  {
   "cell_type": "code",
   "execution_count": 62,
   "metadata": {
    "collapsed": false
   },
   "outputs": [
    {
     "data": {
      "text/plain": [
       "5-element Array{Float64,1}:\n",
       " 0.367602 \n",
       " 0.35236  \n",
       " 0.0460402\n",
       " 0.336241 \n",
       " 0.419711 "
      ]
     },
     "execution_count": 62,
     "metadata": {},
     "output_type": "execute_result"
    }
   ],
   "source": [
    "A*x # Ax=b"
   ]
  },
  {
   "cell_type": "code",
   "execution_count": 63,
   "metadata": {
    "collapsed": false
   },
   "outputs": [
    {
     "data": {
      "text/plain": [
       "([2.85993957170964 + 0.0im,-0.07346264691893353 + 0.6642696139039639im,-0.07346264691893353 - 0.6642696139039639im,0.3758896842148505 + 0.0im,0.03459236984657424 + 0.0im],\n",
       "5x5 Array{Complex{Float64},2}:\n",
       " 0.463597+0.0im   0.063311+0.0930495im  …   0.727024+0.0im  -0.523379+0.0im\n",
       " 0.484628+0.0im   0.0345079+0.517244im     -0.550211+0.0im  -0.326082+0.0im\n",
       " 0.464942+0.0im   -0.143541-0.409397im     -0.147643+0.0im  0.0213109+0.0im\n",
       " 0.342551+0.0im  -0.383221-0.0431418im      0.043814+0.0im   0.344278+0.0im\n",
       " 0.465512+0.0im         0.617795+0.0im     -0.380771+0.0im   0.707646+0.0im)"
      ]
     },
     "execution_count": 63,
     "metadata": {},
     "output_type": "execute_result"
    },
    {
     "name": "stderr",
     "output_type": "stream",
     "text": [
      "Warning: Possible conflict in library symbol dsyevr_\n",
      "Warning: Possible conflict in library symbol dgeev_\n"
     ]
    }
   ],
   "source": [
    "l,v=eig(A)"
   ]
  },
  {
   "cell_type": "code",
   "execution_count": 64,
   "metadata": {
    "collapsed": false
   },
   "outputs": [
    {
     "data": {
      "text/plain": [
       "# 3 methods for generic function \"eig\":\n",
       "eig(m::SymTridiagonal{T<:Union(Float32,Complex{Float64},Float64,Complex{Float32})}) at linalg/tridiag.jl:67\n",
       "eig(A::AbstractArray{T,2},B::AbstractArray{T,2}) at linalg/factorization.jl:579\n",
       "eig(A::Union(Number,AbstractArray{T,2})) at linalg/factorization.jl:502"
      ]
     },
     "execution_count": 64,
     "metadata": {},
     "output_type": "execute_result"
    }
   ],
   "source": [
    "methods(eig)"
   ]
  },
  {
   "cell_type": "code",
   "execution_count": 22,
   "metadata": {
    "collapsed": false
   },
   "outputs": [
    {
     "data": {
      "text/html": [
       "16 methods for generic function <b>vcat</b>:<ul><li> vcat<i>{T}</i>(r::<b>Range{T}</b>) at <a href=\"https://github.com/JuliaLang/julia/tree/21d543397f83f8cd4c37859d17a26bb73dafc788/base/range.jl#L498\" target=\"_blank\">range.jl:498</a><li> vcat() at <a href=\"https://github.com/JuliaLang/julia/tree/21d543397f83f8cd4c37859d17a26bb73dafc788/base/abstractarray.jl#L511\" target=\"_blank\">abstractarray.jl:511</a><li> vcat<i>{T}</i>(rs::<b>Range{T}...</b>) at <a href=\"https://github.com/JuliaLang/julia/tree/21d543397f83f8cd4c37859d17a26bb73dafc788/base/range.jl#L511\" target=\"_blank\">range.jl:511</a><li> vcat<i>{T<:Number}</i>(X::<b>T<:Number...</b>) at <a href=\"https://github.com/JuliaLang/julia/tree/21d543397f83f8cd4c37859d17a26bb73dafc788/base/abstractarray.jl#L518\" target=\"_blank\">abstractarray.jl:518</a><li> vcat(X::<b>Number...</b>) at <a href=\"https://github.com/JuliaLang/julia/tree/21d543397f83f8cd4c37859d17a26bb73dafc788/base/abstractarray.jl#L521\" target=\"_blank\">abstractarray.jl:521</a><li> vcat<i>{T}</i>(arrays::<b>Array{T,1}...</b>) at <a href=\"https://github.com/JuliaLang/julia/tree/21d543397f83f8cd4c37859d17a26bb73dafc788/base/array.jl#L993\" target=\"_blank\">array.jl:993</a><li> vcat(V::<b>BitArray{1}...</b>) at <a href=\"https://github.com/JuliaLang/julia/tree/21d543397f83f8cd4c37859d17a26bb73dafc788/base/bitarray.jl#L1582\" target=\"_blank\">bitarray.jl:1582</a><li> vcat(A::<b>BitArray{2}...</b>) at <a href=\"https://github.com/JuliaLang/julia/tree/21d543397f83f8cd4c37859d17a26bb73dafc788/base/bitarray.jl#L1620\" target=\"_blank\">bitarray.jl:1620</a><li> vcat(X::<b>SparseMatrixCSC{Tv,Ti<:Integer}...</b>) at <a href=\"https://github.com/JuliaLang/julia/tree/21d543397f83f8cd4c37859d17a26bb73dafc788/base/sparse/sparsematrix.jl#L1639\" target=\"_blank\">sparse/sparsematrix.jl:1639</a><li> vcat<i>{T}</i>(V::<b>AbstractArray{T,1}...</b>) at <a href=\"https://github.com/JuliaLang/julia/tree/21d543397f83f8cd4c37859d17a26bb73dafc788/base/abstractarray.jl#L545\" target=\"_blank\">abstractarray.jl:545</a><li> vcat<i>{T}</i>(A::<b>AbstractArray{T,2}...</b>) at <a href=\"https://github.com/JuliaLang/julia/tree/21d543397f83f8cd4c37859d17a26bb73dafc788/base/abstractarray.jl#L594\" target=\"_blank\">abstractarray.jl:594</a><li> vcat(A::<b>AbstractArray{T,N}...</b>) at <a href=\"https://github.com/JuliaLang/julia/tree/21d543397f83f8cd4c37859d17a26bb73dafc788/base/abstractarray.jl#L736\" target=\"_blank\">abstractarray.jl:736</a><li> vcat<i>{Tv<:Union(Complex{Float64},Float64,Complex{Float32},Float32)}</i>(A::<b>CholmodSparse{Tv<:Union(Complex{Float64},Float64,Complex{Float32},Float32),Int32}</b>,B::<b>CholmodSparse{Tv<:Union(Complex{Float64},Float64,Complex{Float32},Float32),Int32}</b>) at <a href=\"https://github.com/JuliaLang/julia/tree/21d543397f83f8cd4c37859d17a26bb73dafc788/base/linalg/cholmod.jl#L830\" target=\"_blank\">linalg/cholmod.jl:830</a><li> vcat<i>{Tv<:Union(Complex{Float64},Float64,Complex{Float32},Float32)}</i>(A::<b>CholmodSparse{Tv<:Union(Complex{Float64},Float64,Complex{Float32},Float32),Int64}</b>,B::<b>CholmodSparse{Tv<:Union(Complex{Float64},Float64,Complex{Float32},Float32),Int64}</b>) at <a href=\"https://github.com/JuliaLang/julia/tree/21d543397f83f8cd4c37859d17a26bb73dafc788/base/linalg/cholmod.jl#L830\" target=\"_blank\">linalg/cholmod.jl:830</a><li> vcat<i>{T}</i>(X::<b>T...</b>) at <a href=\"https://github.com/JuliaLang/julia/tree/21d543397f83f8cd4c37859d17a26bb73dafc788/base/abstractarray.jl#L517\" target=\"_blank\">abstractarray.jl:517</a><li> vcat(X...) at <a href=\"https://github.com/JuliaLang/julia/tree/21d543397f83f8cd4c37859d17a26bb73dafc788/base/abstractarray.jl#L670\" target=\"_blank\">abstractarray.jl:670</a></ul>"
      ],
      "text/plain": [
       "# 16 methods for generic function \"vcat\":\n",
       "vcat{T}(r::Range{T}) at range.jl:498\n",
       "vcat() at abstractarray.jl:511\n",
       "vcat{T}(rs::Range{T}...) at range.jl:511\n",
       "vcat{T<:Number}(X::T<:Number...) at abstractarray.jl:518\n",
       "vcat(X::Number...) at abstractarray.jl:521\n",
       "vcat{T}(arrays::Array{T,1}...) at array.jl:993\n",
       "vcat(V::BitArray{1}...) at bitarray.jl:1582\n",
       "vcat(A::BitArray{2}...) at bitarray.jl:1620\n",
       "vcat(X::SparseMatrixCSC{Tv,Ti<:Integer}...) at sparse/sparsematrix.jl:1639\n",
       "vcat{T}(V::AbstractArray{T,1}...) at abstractarray.jl:545\n",
       "vcat{T}(A::AbstractArray{T,2}...) at abstractarray.jl:594\n",
       "vcat(A::AbstractArray{T,N}...) at abstractarray.jl:736\n",
       "vcat{Tv<:Union(Complex{Float64},Float64,Complex{Float32},Float32)}(A::CholmodSparse{Tv<:Union(Complex{Float64},Float64,Complex{Float32},Float32),Int32},B::CholmodSparse{Tv<:Union(Complex{Float64},Float64,Complex{Float32},Float32),Int32}) at linalg/cholmod.jl:830\n",
       "vcat{Tv<:Union(Complex{Float64},Float64,Complex{Float32},Float32)}(A::CholmodSparse{Tv<:Union(Complex{Float64},Float64,Complex{Float32},Float32),Int64},B::CholmodSparse{Tv<:Union(Complex{Float64},Float64,Complex{Float32},Float32),Int64}) at linalg/cholmod.jl:830\n",
       "vcat{T}(X::T...) at abstractarray.jl:517\n",
       "vcat(X...) at abstractarray.jl:670"
      ]
     },
     "execution_count": 22,
     "metadata": {},
     "output_type": "execute_result"
    }
   ],
   "source": []
  },
  {
   "cell_type": "code",
   "execution_count": 65,
   "metadata": {
    "collapsed": false
   },
   "outputs": [
    {
     "data": {
      "text/plain": [
       "5x5 Array{Complex{Float64},2}:\n",
       " 0.463597+0.0im   0.063311+0.0930495im  …   0.727024+0.0im  -0.523379+0.0im\n",
       " 0.484628+0.0im   0.0345079+0.517244im     -0.550211+0.0im  -0.326082+0.0im\n",
       " 0.464942+0.0im   -0.143541-0.409397im     -0.147643+0.0im  0.0213109+0.0im\n",
       " 0.342551+0.0im  -0.383221-0.0431418im      0.043814+0.0im   0.344278+0.0im\n",
       " 0.465512+0.0im         0.617795+0.0im     -0.380771+0.0im   0.707646+0.0im"
      ]
     },
     "execution_count": 65,
     "metadata": {},
     "output_type": "execute_result"
    }
   ],
   "source": [
    "v"
   ]
  },
  {
   "cell_type": "code",
   "execution_count": 66,
   "metadata": {
    "collapsed": false
   },
   "outputs": [
    {
     "data": {
      "text/plain": [
       "f (generic function with 2 methods)"
      ]
     },
     "execution_count": 66,
     "metadata": {},
     "output_type": "execute_result"
    }
   ],
   "source": [
    "function f(x,y) \n",
    "  return(x+y,x-y)\n",
    "end"
   ]
  },
  {
   "cell_type": "code",
   "execution_count": 67,
   "metadata": {
    "collapsed": false
   },
   "outputs": [
    {
     "data": {
      "text/plain": [
       "(3,-1)"
      ]
     },
     "execution_count": 67,
     "metadata": {},
     "output_type": "execute_result"
    }
   ],
   "source": [
    "(res1,res2)=f(1,2)"
   ]
  },
  {
   "cell_type": "code",
   "execution_count": 67,
   "metadata": {
    "collapsed": false
   },
   "outputs": [
    {
     "name": "stderr",
     "output_type": "stream",
     "text": [
      "Warning: Possible conflict in library symbol dgesdd_\n"
     ]
    }
   ],
   "source": [
    "K=rand(2,2);\n",
    "(u,d,v)=svd(K);"
   ]
  },
  {
   "cell_type": "code",
   "execution_count": null,
   "metadata": {
    "collapsed": false
   },
   "outputs": [],
   "source": [
    "K"
   ]
  },
  {
   "cell_type": "code",
   "execution_count": null,
   "metadata": {
    "collapsed": false
   },
   "outputs": [],
   "source": [
    "v"
   ]
  },
  {
   "cell_type": "code",
   "execution_count": null,
   "metadata": {
    "collapsed": false
   },
   "outputs": [],
   "source": [
    "u*diagm(d)*v'"
   ]
  },
  {
   "cell_type": "code",
   "execution_count": null,
   "metadata": {
    "collapsed": false
   },
   "outputs": [],
   "source": [
    "ndims(K)"
   ]
  },
  {
   "cell_type": "code",
   "execution_count": null,
   "metadata": {
    "collapsed": false
   },
   "outputs": [],
   "source": [
    "size(K)"
   ]
  },
  {
   "cell_type": "code",
   "execution_count": null,
   "metadata": {
    "collapsed": false
   },
   "outputs": [],
   "source": [
    "typeof(K)"
   ]
  },
  {
   "cell_type": "code",
   "execution_count": 23,
   "metadata": {
    "collapsed": false
   },
   "outputs": [],
   "source": [
    "x=randn(10);"
   ]
  },
  {
   "cell_type": "code",
   "execution_count": 33,
   "metadata": {
    "collapsed": false
   },
   "outputs": [
    {
     "data": {
      "text/plain": [
       "1x10 Array{ASCIIString,2}:\n",
       " \"+\"  \"-\"  \"-\"  \"-\"  \"+\"  \"+\"  \"+\"  \"+\"  \"-\"  \"+\""
      ]
     },
     "execution_count": 33,
     "metadata": {},
     "output_type": "execute_result"
    }
   ],
   "source": [
    "[(i>0)?\"+\":\"-\" for i in x]'"
   ]
  },
  {
   "cell_type": "code",
   "execution_count": 44,
   "metadata": {
    "collapsed": false
   },
   "outputs": [
    {
     "name": "stdout",
     "output_type": "stream",
     "text": [
      "hi"
     ]
    }
   ],
   "source": [
    "i=10;\n",
    "if (i<10)\n",
    "    print(\"hello\")\n",
    "else\n",
    "    print(\"hi\")\n",
    "end"
   ]
  },
  {
   "cell_type": "raw",
   "metadata": {},
   "source": []
  }
 ],
 "metadata": {
  "kernelspec": {
   "display_name": "Julia 0.4.0",
   "language": "julia",
   "name": "julia-0.4"
  },
  "language_info": {
   "file_extension": ".jl",
   "mimetype": "application/julia",
   "name": "julia",
   "version": "0.4.0"
  }
 },
 "nbformat": 4,
 "nbformat_minor": 0
}
